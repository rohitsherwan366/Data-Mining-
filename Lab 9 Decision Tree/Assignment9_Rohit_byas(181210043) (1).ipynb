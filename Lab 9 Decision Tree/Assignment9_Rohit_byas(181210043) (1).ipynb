{
  "nbformat": 4,
  "nbformat_minor": 0,
  "metadata": {
    "colab": {
      "name": "Assignment_Rohit_byas(181210043).ipynb",
      "provenance": []
    },
    "kernelspec": {
      "name": "python3",
      "display_name": "Python 3"
    }
  },
  "cells": [
    {
      "cell_type": "markdown",
      "metadata": {
        "id": "5sHg8Xo_5lFS"
      },
      "source": [
        "**Assignment 9: Decision Tree**\r\n",
        "\r\n",
        "Due Date: 14-March-2021\r\n",
        "\r\n",
        "Student Name: Rohit Byas\r\n",
        " \r\n",
        "Roll No. : 181210043"
      ]
    },
    {
      "cell_type": "markdown",
      "metadata": {
        "id": "MREcTE_a5sT6"
      },
      "source": [
        "Agenda for Assignment 9\r\n",
        "\r\n",
        "Understand the working of the Decision Tree"
      ]
    },
    {
      "cell_type": "code",
      "metadata": {
        "colab": {
          "base_uri": "https://localhost:8080/"
        },
        "id": "2cpg2HLB5ykg",
        "outputId": "229b5190-ac52-463b-e63a-4f47655b068f"
      },
      "source": [
        "import datetime\r\n",
        "\r\n",
        "try:\r\n",
        "    from google.colab import drive\r\n",
        "    %tensorflow_version 2.x\r\n",
        "    COLAB = True\r\n",
        "    print(\"Note: using Google CoLab\")\r\n",
        "except:\r\n",
        "    print(\"Note: not using Google CoLab\")\r\n",
        "    COLAB = False\r\n",
        "\r\n",
        "\r\n",
        "print('Name: Rohit Byas \\nRoll No: 181210043')\r\n",
        "print(datetime.datetime.now())"
      ],
      "execution_count": null,
      "outputs": [
        {
          "output_type": "stream",
          "text": [
            "Note: using Google CoLab\n",
            "Name: Rohit Byas \n",
            "Roll No: 181210043\n",
            "2021-03-17 03:53:01.412888\n"
          ],
          "name": "stdout"
        }
      ]
    },
    {
      "cell_type": "code",
      "metadata": {
        "id": "AJ7SWM-x6qio"
      },
      "source": [
        "import pandas as pd\r\n",
        "import numpy as np\r\n",
        "import math\r\n",
        "import copy\r\n",
        "import gdown\r\n",
        "from sklearn import preprocessing\r\n",
        "from sklearn import tree\r\n",
        "from sklearn.ensemble import RandomForestClassifier"
      ],
      "execution_count": null,
      "outputs": []
    },
    {
      "cell_type": "code",
      "metadata": {
        "colab": {
          "base_uri": "https://localhost:8080/"
        },
        "id": "-MudL7mU6wKm",
        "outputId": "133f4011-f82a-4da9-a506-70d7f75260a0"
      },
      "source": [
        "!gdown --id '1W3QWf9UWQzRMn1Th4mWz4tF47mG6pewC'"
      ],
      "execution_count": null,
      "outputs": [
        {
          "output_type": "stream",
          "text": [
            "Downloading...\n",
            "From: https://drive.google.com/uc?id=1W3QWf9UWQzRMn1Th4mWz4tF47mG6pewC\n",
            "To: /content/dataset.csv\n",
            "\r  0% 0.00/421 [00:00<?, ?B/s]\r100% 421/421 [00:00<00:00, 924kB/s]\n"
          ],
          "name": "stdout"
        }
      ]
    },
    {
      "cell_type": "code",
      "metadata": {
        "colab": {
          "base_uri": "https://localhost:8080/",
          "height": 462
        },
        "id": "rL2IhnGx620C",
        "outputId": "812d6e1c-3aa8-4ab7-ffae-22d0f8634117"
      },
      "source": [
        "df = pd.read_csv('dataset.csv')\r\n",
        "df\r\n"
      ],
      "execution_count": null,
      "outputs": [
        {
          "output_type": "execute_result",
          "data": {
            "text/html": [
              "<div>\n",
              "<style scoped>\n",
              "    .dataframe tbody tr th:only-of-type {\n",
              "        vertical-align: middle;\n",
              "    }\n",
              "\n",
              "    .dataframe tbody tr th {\n",
              "        vertical-align: top;\n",
              "    }\n",
              "\n",
              "    .dataframe thead th {\n",
              "        text-align: right;\n",
              "    }\n",
              "</style>\n",
              "<table border=\"1\" class=\"dataframe\">\n",
              "  <thead>\n",
              "    <tr style=\"text-align: right;\">\n",
              "      <th></th>\n",
              "      <th>Outlook</th>\n",
              "      <th>Temp</th>\n",
              "      <th>Humidity</th>\n",
              "      <th>Wind</th>\n",
              "      <th>Play</th>\n",
              "    </tr>\n",
              "  </thead>\n",
              "  <tbody>\n",
              "    <tr>\n",
              "      <th>0</th>\n",
              "      <td>Sunny</td>\n",
              "      <td>Hot</td>\n",
              "      <td>High</td>\n",
              "      <td>Weak</td>\n",
              "      <td>no</td>\n",
              "    </tr>\n",
              "    <tr>\n",
              "      <th>1</th>\n",
              "      <td>Sunny</td>\n",
              "      <td>Hot</td>\n",
              "      <td>High</td>\n",
              "      <td>Strong</td>\n",
              "      <td>no</td>\n",
              "    </tr>\n",
              "    <tr>\n",
              "      <th>2</th>\n",
              "      <td>Overcast</td>\n",
              "      <td>Hot</td>\n",
              "      <td>High</td>\n",
              "      <td>Weak</td>\n",
              "      <td>yes</td>\n",
              "    </tr>\n",
              "    <tr>\n",
              "      <th>3</th>\n",
              "      <td>Rain</td>\n",
              "      <td>Mild</td>\n",
              "      <td>High</td>\n",
              "      <td>Weak</td>\n",
              "      <td>yes</td>\n",
              "    </tr>\n",
              "    <tr>\n",
              "      <th>4</th>\n",
              "      <td>Rain</td>\n",
              "      <td>Cool</td>\n",
              "      <td>Normal</td>\n",
              "      <td>Weak</td>\n",
              "      <td>yes</td>\n",
              "    </tr>\n",
              "    <tr>\n",
              "      <th>5</th>\n",
              "      <td>Rain</td>\n",
              "      <td>Cool</td>\n",
              "      <td>Normal</td>\n",
              "      <td>Strong</td>\n",
              "      <td>no</td>\n",
              "    </tr>\n",
              "    <tr>\n",
              "      <th>6</th>\n",
              "      <td>Overcast</td>\n",
              "      <td>Cool</td>\n",
              "      <td>Normal</td>\n",
              "      <td>Strong</td>\n",
              "      <td>yes</td>\n",
              "    </tr>\n",
              "    <tr>\n",
              "      <th>7</th>\n",
              "      <td>Sunny</td>\n",
              "      <td>Mild</td>\n",
              "      <td>High</td>\n",
              "      <td>Weak</td>\n",
              "      <td>no</td>\n",
              "    </tr>\n",
              "    <tr>\n",
              "      <th>8</th>\n",
              "      <td>Sunny</td>\n",
              "      <td>Cool</td>\n",
              "      <td>Normal</td>\n",
              "      <td>Weak</td>\n",
              "      <td>yes</td>\n",
              "    </tr>\n",
              "    <tr>\n",
              "      <th>9</th>\n",
              "      <td>Rain</td>\n",
              "      <td>Mild</td>\n",
              "      <td>Normal</td>\n",
              "      <td>Weak</td>\n",
              "      <td>yes</td>\n",
              "    </tr>\n",
              "    <tr>\n",
              "      <th>10</th>\n",
              "      <td>Sunny</td>\n",
              "      <td>Mild</td>\n",
              "      <td>Normal</td>\n",
              "      <td>Strong</td>\n",
              "      <td>yes</td>\n",
              "    </tr>\n",
              "    <tr>\n",
              "      <th>11</th>\n",
              "      <td>Overcast</td>\n",
              "      <td>Mild</td>\n",
              "      <td>High</td>\n",
              "      <td>Strong</td>\n",
              "      <td>yes</td>\n",
              "    </tr>\n",
              "    <tr>\n",
              "      <th>12</th>\n",
              "      <td>Overcast</td>\n",
              "      <td>Hot</td>\n",
              "      <td>Normal</td>\n",
              "      <td>Weak</td>\n",
              "      <td>yes</td>\n",
              "    </tr>\n",
              "    <tr>\n",
              "      <th>13</th>\n",
              "      <td>Rain</td>\n",
              "      <td>Mild</td>\n",
              "      <td>High</td>\n",
              "      <td>Strong</td>\n",
              "      <td>no</td>\n",
              "    </tr>\n",
              "  </tbody>\n",
              "</table>\n",
              "</div>"
            ],
            "text/plain": [
              "     Outlook  Temp Humidity    Wind Play\n",
              "0      Sunny   Hot     High    Weak   no\n",
              "1      Sunny   Hot     High  Strong   no\n",
              "2   Overcast   Hot     High    Weak  yes\n",
              "3       Rain  Mild     High    Weak  yes\n",
              "4       Rain  Cool   Normal    Weak  yes\n",
              "5       Rain  Cool   Normal  Strong   no\n",
              "6   Overcast  Cool   Normal  Strong  yes\n",
              "7      Sunny  Mild     High    Weak   no\n",
              "8      Sunny  Cool   Normal    Weak  yes\n",
              "9       Rain  Mild   Normal    Weak  yes\n",
              "10     Sunny  Mild   Normal  Strong  yes\n",
              "11  Overcast  Mild     High  Strong  yes\n",
              "12  Overcast   Hot   Normal    Weak  yes\n",
              "13      Rain  Mild     High  Strong   no"
            ]
          },
          "metadata": {
            "tags": []
          },
          "execution_count": 7
        }
      ]
    },
    {
      "cell_type": "code",
      "metadata": {
        "colab": {
          "base_uri": "https://localhost:8080/"
        },
        "id": "mukaI7Um65UM",
        "outputId": "97040eb1-65dd-4e30-8114-6ff443e22e5b"
      },
      "source": [
        "df.columns\r\n"
      ],
      "execution_count": null,
      "outputs": [
        {
          "output_type": "execute_result",
          "data": {
            "text/plain": [
              "Index(['Outlook', 'Temp', 'Humidity', 'Wind', 'Play'], dtype='object')"
            ]
          },
          "metadata": {
            "tags": []
          },
          "execution_count": 24
        }
      ]
    },
    {
      "cell_type": "code",
      "metadata": {
        "id": "yQwipP1p67t7"
      },
      "source": [
        "# Input and Output Columns\r\n",
        "attributes = ['Outlook', 'Temp', 'Humidity', 'Wind']\r\n",
        "label = 'Play'\r\n"
      ],
      "execution_count": null,
      "outputs": []
    },
    {
      "cell_type": "code",
      "metadata": {
        "id": "MECYMch97FMV"
      },
      "source": [
        "# Node and Edge classes for the decision tree\r\n",
        "class Node:\r\n",
        "   def __init__(self, value):\r\n",
        "     self._value = value\r\n",
        "     self._edges = []\r\n",
        "\r\n",
        "   def __repr__(self):\r\n",
        "     if len(self._edges):\r\n",
        "       return f'{self._value} --> {self._edges}'\r\n",
        "     else:\r\n",
        "       return f'{self._value}'\r\n",
        "\r\n",
        "   @property\r\n",
        "   def value(self):\r\n",
        "     return self._value\r\n",
        "\r\n",
        "   @property\r\n",
        "   def edges(self):\r\n",
        "     return self._edges\r\n",
        "\r\n",
        "   def add_edge(self, edge):\r\n",
        "     self._edges.append(edge)\r\n",
        "\r\n",
        "   def find_edge(self, value):\r\n",
        "     return next(edge for edge in self._edges if edge.value == value)\r\n",
        "\r\n",
        "# edge is supposed to have a value and it points towards the node\r\n",
        "class Edge:\r\n",
        "  def __init__(self, value):\r\n",
        "    self._value = value\r\n",
        "    self._node = None\r\n",
        "\r\n",
        "  def __repr__(self):\r\n",
        "    return f'{self._value} --> {self._node}'\r\n",
        "\r\n",
        "  @property\r\n",
        "  def value(self):\r\n",
        "    return self._value\r\n",
        "\r\n",
        "  @property\r\n",
        "  def node(self):\r\n",
        "    return self._node\r\n",
        "    \r\n",
        "  @node.setter\r\n",
        "  def node(self, node):\r\n",
        "    self._node = node"
      ],
      "execution_count": null,
      "outputs": []
    },
    {
      "cell_type": "code",
      "metadata": {
        "id": "EM_f9NRj9zq6"
      },
      "source": [
        "# Function to make a decision tree with the given impurity parameter\r\n",
        "def build_tree(df, features, cost, min_max, label = 'Play'):\r\n",
        "  weighted_sums = {}\r\n",
        "  for col in features:\r\n",
        "    weighted_sums[col] = cost(df, col, label)\r\n",
        "  weighted_sum_vals = list(weighted_sums.values())\r\n",
        "  if (float(0) in weighted_sum_vals and len(set(weighted_sum_vals))==1) or not weighted_sum_vals:\r\n",
        "    label = df['Play'].iloc[0]\r\n",
        "    return Node(label)\r\n",
        "    \r\n",
        "  min_feature = min_max(weighted_sums, key = weighted_sums.get)\r\n",
        "  node = Node(min_feature)\r\n",
        "\r\n",
        "  reduced_features = copy.deepcopy(features)\r\n",
        "  reduced_features.remove(min_feature)\r\n",
        "  min_feature_values = list(df[min_feature].unique())\r\n",
        "\r\n",
        "  for val in min_feature_values:\r\n",
        "    edge = Edge(val)\r\n",
        "    node.add_edge(edge)\r\n",
        "    reduced_data_points = df[df[min_feature] == val].copy()\r\n",
        "    edge.node = build_tree(reduced_data_points, reduced_features, cost, min_max)\r\n",
        "\r\n",
        "  return node"
      ],
      "execution_count": null,
      "outputs": []
    },
    {
      "cell_type": "markdown",
      "metadata": {
        "id": "Geo9xnE8AiNl"
      },
      "source": [
        "Task 1: \r\n",
        "\r\n",
        "Using the Gini as impurity paramter ,construct a Decision Tree"
      ]
    },
    {
      "cell_type": "code",
      "metadata": {
        "id": "h9lxLpcEAny-"
      },
      "source": [
        "def gini(df, column, label):\r\n",
        "\r\n",
        "  play = df[label].unique()\r\n",
        "  n = df[label].shape[0]\r\n",
        "  total_gini = 0\r\n",
        "  u = df[col].unique()\r\n",
        "  \r\n",
        "  for element in u:\r\n",
        "\r\n",
        "    tdf = df[df[column]==element]\r\n",
        "    number = tdf.shape[0]\r\n",
        "    r = 0\r\n",
        "    for play in play:\r\n",
        "      total = temp_df[temp_df[label] == play].shape[0]\r\n",
        "      temp = (total/number) ** 2\r\n",
        "      r += temp\r\n",
        "    r = 1 - r\r\n",
        "    temp = num/n\r\n",
        "    total_gini += (temp * r)\r\n",
        "  return total_gini"
      ],
      "execution_count": null,
      "outputs": []
    },
    {
      "cell_type": "code",
      "metadata": {
        "id": "xvuJf1-qBepW"
      },
      "source": [
        "from sklearn.tree import DecisionTreeClassifier"
      ],
      "execution_count": null,
      "outputs": []
    },
    {
      "cell_type": "code",
      "metadata": {
        "colab": {
          "base_uri": "https://localhost:8080/"
        },
        "id": "hS8yPPjyBHgH",
        "outputId": "c2e2cee7-2b38-4945-f1ef-7fdbe0a78d6f"
      },
      "source": [
        "\r\n",
        "t1= build_tree(df=df, features=attributes, cost=gini, min_max=min, label=label)\r\n",
        "t1\r\n"
      ],
      "execution_count": null,
      "outputs": [
        {
          "output_type": "stream",
          "text": [
            " Outlook --> [Sunny --> Humidity --> [High --> no, Normal --> yes], Overcast --> yes, Rain --> Wind --> [Weak --> yes, Strong --> no]]\n"
          ],
          "name": "stdout"
        }
      ]
    },
    {
      "cell_type": "markdown",
      "metadata": {
        "id": "IBsVe0juEG-Y"
      },
      "source": [
        "Task 2: \r\n",
        "\r\n",
        "Construct a Decision Tree using Information Gain as impurity parameter"
      ]
    },
    {
      "cell_type": "code",
      "metadata": {
        "id": "Egx3VEWuEL1h"
      },
      "source": [
        "# to define the entropy\r\n",
        "def comp_entropy(column):\r\n",
        "\r\n",
        "  count = list(column.value_counts())\r\n",
        "  p = [x/len(column) for x in count]\r\n",
        "\r\n",
        "  entropy = 0\r\n",
        "  for a in p:\r\n",
        "    if a > 0:\r\n",
        "      entropy += (a * math.log(a, 2))\r\n",
        "\r\n",
        "  return entropy"
      ],
      "execution_count": null,
      "outputs": []
    },
    {
      "cell_type": "code",
      "metadata": {
        "id": "_QSFualaEvKv"
      },
      "source": [
        "#to compute information gain\r\n",
        "\r\n",
        "def comp_ig(data, s_name , t_name):\r\n",
        "\r\n",
        "  og_entropy = comp_entropy(data[t_name])\r\n",
        "\r\n",
        "  values = data[s_name].unique()\r\n",
        "  left_split = data[data[s_name] == values[0]]\r\n",
        "  right_split = data[data[s_name] == values[1]]\r\n",
        "\r\n",
        "  sub = 0\r\n",
        "  for subset in [left_split, right_split]:\r\n",
        "\r\n",
        "    a = (subset.shape[0] / data.shape[0])\r\n",
        "    sub += (a * comp_entropy(subset[t_name]))\r\n",
        "  return (og_entropy - sub)"
      ],
      "execution_count": null,
      "outputs": []
    },
    {
      "cell_type": "code",
      "metadata": {
        "colab": {
          "base_uri": "https://localhost:8080/"
        },
        "id": "orJFvmWwE8st",
        "outputId": "970990b7-b2f5-413c-ecaf-8589b15363bb"
      },
      "source": [
        "t2 = build_tree(df=df, features=attributes, cost=comp_ig, min_max=max)\r\n",
        "t2\r\n"
      ],
      "execution_count": null,
      "outputs": [
        {
          "output_type": "execute_result",
          "data": {
            "text/plain": [
              "Outlook --> [Sunny --> Humidity --> [High --> no, Normal --> yes], Overcast --> yes, Rain --> Wind --> [Weak --> yes, Strong --> no]]"
            ]
          },
          "metadata": {
            "tags": []
          },
          "execution_count": 39
        }
      ]
    },
    {
      "cell_type": "markdown",
      "metadata": {
        "id": "wzcerW4hGJAg"
      },
      "source": [
        "Task 3: \r\n",
        "\r\n",
        "To Construct a Decision Tree using Misclassification Error as impurity parameter"
      ]
    },
    {
      "cell_type": "code",
      "metadata": {
        "id": "v-aNd3JJGNIg"
      },
      "source": [
        "def comp_misclass_error(df, column, label):\r\n",
        "\r\n",
        "  count = list(df[label].value_counts())\r\n",
        "\r\n",
        "  n = df.shape[0]\r\n",
        "\r\n",
        "  p = 1 - max([x/n for x in counts])\r\n",
        "  \r\n",
        "  sub = 0\r\n",
        "  value = df[col].unique()\r\n",
        "  \r\n",
        "\r\n",
        "  for v in value:\r\n",
        "\r\n",
        "    tdf = df[df[column]==v]\r\n",
        "    a = tdf.shape[0]\r\n",
        "\r\n",
        "    weight = a/n\r\n",
        "    cts = list(tdf[label].value_counts())\r\n",
        "    vp = 1 - max([x/a for x in cnts])\r\n",
        "    sub += (weight*vp)\r\n",
        "\r\n",
        "  return (p - sub) "
      ],
      "execution_count": null,
      "outputs": []
    },
    {
      "cell_type": "code",
      "metadata": {
        "colab": {
          "base_uri": "https://localhost:8080/"
        },
        "id": "ACmfL7s5Gh6J",
        "outputId": "6f611615-3897-43be-f63c-249e62efe49e"
      },
      "source": [
        "t3 = build_tree(df=df, features=attrs, cost=calc_misclassification_error, min_max=max)\r\n",
        "t3\r\n"
      ],
      "execution_count": null,
      "outputs": [
        {
          "output_type": "execute_result",
          "data": {
            "text/plain": [
              "Outlook --> [Sunny --> Humidity --> [High --> no, Normal --> yes], Overcast --> yes, Rain --> Wind --> [Weak --> yes, Strong --> no]]"
            ]
          },
          "metadata": {
            "tags": []
          },
          "execution_count": 41
        }
      ]
    },
    {
      "cell_type": "markdown",
      "metadata": {
        "id": "lkFUtYhNHYes"
      },
      "source": [
        "Task 4: \r\n",
        "\r\n",
        "Predict and compare the result of above 3 tree the value of PlayTennis for:\r\n"
      ]
    },
    {
      "cell_type": "markdown",
      "metadata": {
        "id": "gxD14EC9HgBj"
      },
      "source": [
        "Outlook = Sunny, Temp = Cool, Humidity = High, Wind = Strong"
      ]
    },
    {
      "cell_type": "code",
      "metadata": {
        "id": "-WmrDhMAHgqi"
      },
      "source": [
        "check = {'Outlook':'Sunny', 'Temp':'Cool', 'Humidity':'High', 'Wind':'Strong'}"
      ],
      "execution_count": null,
      "outputs": []
    },
    {
      "cell_type": "code",
      "metadata": {
        "id": "kt_RtalWHly4"
      },
      "source": [
        "# To compute the outcome for the decision tree\r\n",
        "\r\n",
        "def outcome(node, check):\r\n",
        "\r\n",
        "  node_v = node.value\r\n",
        "  node_e = node.edges\r\n",
        "\r\n",
        "  for i in node_edges:\r\n",
        "\r\n",
        "    if i.value == check[node_v]:\r\n",
        "      return outcome(i.node, check)\r\n",
        "\r\n",
        "  return node_v"
      ],
      "execution_count": null,
      "outputs": []
    },
    {
      "cell_type": "code",
      "metadata": {
        "colab": {
          "base_uri": "https://localhost:8080/",
          "height": 35
        },
        "id": "yQHzggtuHblr",
        "outputId": "3f30b88e-a732-4bdd-b2db-6f29314bcb35"
      },
      "source": [
        "outcome(t1, check)"
      ],
      "execution_count": null,
      "outputs": [
        {
          "output_type": "execute_result",
          "data": {
            "application/vnd.google.colaboratory.intrinsic+json": {
              "type": "string"
            },
            "text/plain": [
              "'no'"
            ]
          },
          "metadata": {
            "tags": []
          },
          "execution_count": 45
        }
      ]
    },
    {
      "cell_type": "code",
      "metadata": {
        "colab": {
          "base_uri": "https://localhost:8080/",
          "height": 35
        },
        "id": "QRIbvFCvH1tQ",
        "outputId": "4fba8b4a-80b2-4ae3-c160-ff10bb179919"
      },
      "source": [
        "outcome(t2, check)"
      ],
      "execution_count": null,
      "outputs": [
        {
          "output_type": "execute_result",
          "data": {
            "application/vnd.google.colaboratory.intrinsic+json": {
              "type": "string"
            },
            "text/plain": [
              "'no'"
            ]
          },
          "metadata": {
            "tags": []
          },
          "execution_count": 46
        }
      ]
    },
    {
      "cell_type": "code",
      "metadata": {
        "colab": {
          "base_uri": "https://localhost:8080/",
          "height": 35
        },
        "id": "toG-JdEjH5oR",
        "outputId": "7bcf01e4-a2d2-4f9f-a949-7b48645b387f"
      },
      "source": [
        "outcome(t3, check)"
      ],
      "execution_count": null,
      "outputs": [
        {
          "output_type": "execute_result",
          "data": {
            "application/vnd.google.colaboratory.intrinsic+json": {
              "type": "string"
            },
            "text/plain": [
              "'no'"
            ]
          },
          "metadata": {
            "tags": []
          },
          "execution_count": 47
        }
      ]
    },
    {
      "cell_type": "markdown",
      "metadata": {
        "id": "r9LoEzC0Il_g"
      },
      "source": [
        "Task 5:\r\n",
        "\r\n",
        " Compare your result with the inbuilt library available"
      ]
    },
    {
      "cell_type": "code",
      "metadata": {
        "colab": {
          "base_uri": "https://localhost:8080/"
        },
        "id": "r-aI9-G3IozA",
        "outputId": "16fcea01-8260-46ea-d1d0-5c4ea38b8771"
      },
      "source": [
        "df.columns"
      ],
      "execution_count": null,
      "outputs": [
        {
          "output_type": "execute_result",
          "data": {
            "text/plain": [
              "Index(['Outlook', 'Temp', 'Humidity', 'Wind', 'Play'], dtype='object')"
            ]
          },
          "metadata": {
            "tags": []
          },
          "execution_count": 48
        }
      ]
    },
    {
      "cell_type": "code",
      "metadata": {
        "id": "xGt7y2k7Ish4"
      },
      "source": [
        "attrs = ['Outlook', 'Temp', 'Humidity', 'Wind']\r\n",
        "label = 'Play'"
      ],
      "execution_count": null,
      "outputs": []
    },
    {
      "cell_type": "code",
      "metadata": {
        "id": "u7grfXjGIzrk"
      },
      "source": [
        "# Encoding all columns of the dataset\r\n",
        "labelEncoder = preprocessing.LabelEncoder()\r\n",
        "mapping = {}\r\n",
        "for col in df.columns:\r\n",
        "  df[col] = labelEncoder.fit_transform(df[col]) \r\n",
        "  mapping[col] = dict(zip(labelEncoder.classes_, labelEncoder.transform(labelEncoder.classes_)))"
      ],
      "execution_count": null,
      "outputs": []
    },
    {
      "cell_type": "code",
      "metadata": {
        "colab": {
          "base_uri": "https://localhost:8080/",
          "height": 462
        },
        "id": "W3GFCiUqI7YW",
        "outputId": "642d0234-5ed0-4c09-9c9a-a6d93b59f115"
      },
      "source": [
        " df\r\n"
      ],
      "execution_count": null,
      "outputs": [
        {
          "output_type": "execute_result",
          "data": {
            "text/html": [
              "<div>\n",
              "<style scoped>\n",
              "    .dataframe tbody tr th:only-of-type {\n",
              "        vertical-align: middle;\n",
              "    }\n",
              "\n",
              "    .dataframe tbody tr th {\n",
              "        vertical-align: top;\n",
              "    }\n",
              "\n",
              "    .dataframe thead th {\n",
              "        text-align: right;\n",
              "    }\n",
              "</style>\n",
              "<table border=\"1\" class=\"dataframe\">\n",
              "  <thead>\n",
              "    <tr style=\"text-align: right;\">\n",
              "      <th></th>\n",
              "      <th>Outlook</th>\n",
              "      <th>Temp</th>\n",
              "      <th>Humidity</th>\n",
              "      <th>Wind</th>\n",
              "      <th>Play</th>\n",
              "    </tr>\n",
              "  </thead>\n",
              "  <tbody>\n",
              "    <tr>\n",
              "      <th>0</th>\n",
              "      <td>2</td>\n",
              "      <td>1</td>\n",
              "      <td>0</td>\n",
              "      <td>1</td>\n",
              "      <td>0</td>\n",
              "    </tr>\n",
              "    <tr>\n",
              "      <th>1</th>\n",
              "      <td>2</td>\n",
              "      <td>1</td>\n",
              "      <td>0</td>\n",
              "      <td>0</td>\n",
              "      <td>0</td>\n",
              "    </tr>\n",
              "    <tr>\n",
              "      <th>2</th>\n",
              "      <td>0</td>\n",
              "      <td>1</td>\n",
              "      <td>0</td>\n",
              "      <td>1</td>\n",
              "      <td>1</td>\n",
              "    </tr>\n",
              "    <tr>\n",
              "      <th>3</th>\n",
              "      <td>1</td>\n",
              "      <td>2</td>\n",
              "      <td>0</td>\n",
              "      <td>1</td>\n",
              "      <td>1</td>\n",
              "    </tr>\n",
              "    <tr>\n",
              "      <th>4</th>\n",
              "      <td>1</td>\n",
              "      <td>0</td>\n",
              "      <td>1</td>\n",
              "      <td>1</td>\n",
              "      <td>1</td>\n",
              "    </tr>\n",
              "    <tr>\n",
              "      <th>5</th>\n",
              "      <td>1</td>\n",
              "      <td>0</td>\n",
              "      <td>1</td>\n",
              "      <td>0</td>\n",
              "      <td>0</td>\n",
              "    </tr>\n",
              "    <tr>\n",
              "      <th>6</th>\n",
              "      <td>0</td>\n",
              "      <td>0</td>\n",
              "      <td>1</td>\n",
              "      <td>0</td>\n",
              "      <td>1</td>\n",
              "    </tr>\n",
              "    <tr>\n",
              "      <th>7</th>\n",
              "      <td>2</td>\n",
              "      <td>2</td>\n",
              "      <td>0</td>\n",
              "      <td>1</td>\n",
              "      <td>0</td>\n",
              "    </tr>\n",
              "    <tr>\n",
              "      <th>8</th>\n",
              "      <td>2</td>\n",
              "      <td>0</td>\n",
              "      <td>1</td>\n",
              "      <td>1</td>\n",
              "      <td>1</td>\n",
              "    </tr>\n",
              "    <tr>\n",
              "      <th>9</th>\n",
              "      <td>1</td>\n",
              "      <td>2</td>\n",
              "      <td>1</td>\n",
              "      <td>1</td>\n",
              "      <td>1</td>\n",
              "    </tr>\n",
              "    <tr>\n",
              "      <th>10</th>\n",
              "      <td>2</td>\n",
              "      <td>2</td>\n",
              "      <td>1</td>\n",
              "      <td>0</td>\n",
              "      <td>1</td>\n",
              "    </tr>\n",
              "    <tr>\n",
              "      <th>11</th>\n",
              "      <td>0</td>\n",
              "      <td>2</td>\n",
              "      <td>0</td>\n",
              "      <td>0</td>\n",
              "      <td>1</td>\n",
              "    </tr>\n",
              "    <tr>\n",
              "      <th>12</th>\n",
              "      <td>0</td>\n",
              "      <td>1</td>\n",
              "      <td>1</td>\n",
              "      <td>1</td>\n",
              "      <td>1</td>\n",
              "    </tr>\n",
              "    <tr>\n",
              "      <th>13</th>\n",
              "      <td>1</td>\n",
              "      <td>2</td>\n",
              "      <td>0</td>\n",
              "      <td>0</td>\n",
              "      <td>0</td>\n",
              "    </tr>\n",
              "  </tbody>\n",
              "</table>\n",
              "</div>"
            ],
            "text/plain": [
              "    Outlook  Temp  Humidity  Wind  Play\n",
              "0         2     1         0     1     0\n",
              "1         2     1         0     0     0\n",
              "2         0     1         0     1     1\n",
              "3         1     2         0     1     1\n",
              "4         1     0         1     1     1\n",
              "5         1     0         1     0     0\n",
              "6         0     0         1     0     1\n",
              "7         2     2         0     1     0\n",
              "8         2     0         1     1     1\n",
              "9         1     2         1     1     1\n",
              "10        2     2         1     0     1\n",
              "11        0     2         0     0     1\n",
              "12        0     1         1     1     1\n",
              "13        1     2         0     0     0"
            ]
          },
          "metadata": {
            "tags": []
          },
          "execution_count": 52
        }
      ]
    },
    {
      "cell_type": "code",
      "metadata": {
        "colab": {
          "base_uri": "https://localhost:8080/"
        },
        "id": "aGUliqYQI_ZR",
        "outputId": "92efac15-631b-49b7-b320-0faf7b436590"
      },
      "source": [
        "mapping"
      ],
      "execution_count": null,
      "outputs": [
        {
          "output_type": "execute_result",
          "data": {
            "text/plain": [
              "{'Humidity': {'High': 0, 'Normal': 1},\n",
              " 'Outlook': {'Overcast': 0, 'Rain': 1, 'Sunny': 2},\n",
              " 'Play': {'no': 0, 'yes': 1},\n",
              " 'Temp': {'Cool': 0, 'Hot': 1, 'Mild': 2},\n",
              " 'Wind': {'Strong': 0, 'Weak': 1}}"
            ]
          },
          "metadata": {
            "tags": []
          },
          "execution_count": 53
        }
      ]
    },
    {
      "cell_type": "code",
      "metadata": {
        "id": "xA0UESLaI7no"
      },
      "source": [
        "# Converting given conditions to integer as mapped by the encoder\r\n",
        "to_check = {'Outlook':'Sunny', 'Temp':'Cool', 'Humidity':'High', 'Wind':'Strong'}\r\n",
        "to_check_list = []\r\n",
        "for key in to_check.keys():\r\n",
        "  to_check_list.append(mapping[key][to_check[key]])\r\n"
      ],
      "execution_count": null,
      "outputs": []
    },
    {
      "cell_type": "code",
      "metadata": {
        "colab": {
          "base_uri": "https://localhost:8080/"
        },
        "id": "zzx_jEucJHCe",
        "outputId": "9a05acb8-9ca1-418e-9aac-bd6da2b98c1d"
      },
      "source": [
        "to_check_list\r\n"
      ],
      "execution_count": null,
      "outputs": [
        {
          "output_type": "execute_result",
          "data": {
            "text/plain": [
              "[2, 0, 0, 0]"
            ]
          },
          "metadata": {
            "tags": []
          },
          "execution_count": 55
        }
      ]
    },
    {
      "cell_type": "markdown",
      "metadata": {
        "id": "b7UMSeKeJJZ8"
      },
      "source": [
        "Decision Tree"
      ]
    },
    {
      "cell_type": "code",
      "metadata": {
        "id": "9U1QwzEmJJ9O"
      },
      "source": [
        "# Making a Decision Tree Classifier for predicting outcome\r\n",
        "classifier = tree.DecisionTreeClassifier()\r\n",
        "classifier = classifier.fit(df[attrs], df[label])\r\n"
      ],
      "execution_count": null,
      "outputs": []
    },
    {
      "cell_type": "code",
      "metadata": {
        "colab": {
          "base_uri": "https://localhost:8080/"
        },
        "id": "JDxYrdc1JOsC",
        "outputId": "18c0e45d-d645-4390-a2cc-57c7e73de759"
      },
      "source": [
        "pred = classifier.predict([to_check_list])\r\n",
        "for key, val in mapping[label].items():\r\n",
        "  if val == int(pred):\r\n",
        "    print(key)\r\n",
        "    break"
      ],
      "execution_count": null,
      "outputs": [
        {
          "output_type": "stream",
          "text": [
            "no\n"
          ],
          "name": "stdout"
        }
      ]
    },
    {
      "cell_type": "markdown",
      "metadata": {
        "id": "7woxnNiZJVKU"
      },
      "source": [
        "Random Forest"
      ]
    },
    {
      "cell_type": "code",
      "metadata": {
        "id": "mwpNnYw6JTzz"
      },
      "source": [
        "# Making a Random Forest Classifier for predicting outcome\r\n",
        "clf = RandomForestClassifier(n_estimators = 100)\r\n",
        "clf = clf.fit(df[attrs], df[label])"
      ],
      "execution_count": null,
      "outputs": []
    },
    {
      "cell_type": "code",
      "metadata": {
        "colab": {
          "base_uri": "https://localhost:8080/"
        },
        "id": "uHN7CIQFJYUY",
        "outputId": "fa7eba9a-829e-4b56-b8b3-d256a9c38a3c"
      },
      "source": [
        "pred = clf.predict([to_check_list])\r\n",
        "for key, val in mapping[label].items():\r\n",
        "  if val == int(pred):\r\n",
        "    print(key)\r\n",
        "    break\r\n"
      ],
      "execution_count": null,
      "outputs": [
        {
          "output_type": "stream",
          "text": [
            "no\n"
          ],
          "name": "stdout"
        }
      ]
    },
    {
      "cell_type": "markdown",
      "metadata": {
        "id": "Dm5_M2YSt6Ql"
      },
      "source": [
        "**observation**\r\n",
        "\r\n",
        "1. It is revealed that decision wil always be **Yes** if wind weak and outlook were rain \r\n",
        "\r\n",
        "2. Similary decision will be always **NO** if wind were strong and outlook were rain.\r\n",
        "\r\n",
        "3. When  Outlook = Sunny, Temp = Cool, Humidity = High, Wind = Strong then decision will be **NO**"
      ]
    }
  ]
}