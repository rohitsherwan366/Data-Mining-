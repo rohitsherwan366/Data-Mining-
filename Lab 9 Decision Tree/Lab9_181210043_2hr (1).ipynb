{
  "nbformat": 4,
  "nbformat_minor": 0,
  "metadata": {
    "colab": {
      "name": "Lab9_181210043_2hr.ipynb",
      "provenance": []
    },
    "kernelspec": {
      "name": "python3",
      "display_name": "Python 3"
    }
  },
  "cells": [
    {
      "cell_type": "code",
      "metadata": {
        "colab": {
          "base_uri": "https://localhost:8080/",
          "height": 0
        },
        "id": "r4loud-D8YqV",
        "outputId": "a6f1a32b-1ca5-405b-99f2-285f594458c0"
      },
      "source": [
        "try:\r\n",
        "  from google.colab import drive\r\n",
        "  %tensorflow_version 2.x\r\n",
        "  COLAB = True\r\n",
        "  print(\"Note: using Google CoLab\")\r\n",
        "except:\r\n",
        "  print(\"Note: not using Google CoLab\")\r\n",
        "  COLAB = False\r\n",
        "\r\n",
        "# Print your name and Roll No.\r\n",
        "print('Name: Rohit Byas Sherwan')\r\n",
        "print('Roll No. :181210043')\r\n",
        "\r\n",
        "# Print the curent time\r\n",
        "from datetime import datetime\r\n",
        "print(\"Date Time :\", datetime.now())"
      ],
      "execution_count": 1,
      "outputs": [
        {
          "output_type": "stream",
          "text": [
            "Note: using Google CoLab\n",
            "Name: Rohit Byas Sherwan\n",
            "Roll No. :181210043\n",
            "Date Time : 2021-03-08 08:26:32.689899\n"
          ],
          "name": "stdout"
        }
      ]
    },
    {
      "cell_type": "code",
      "metadata": {
        "id": "9_GmlNOO-nby"
      },
      "source": [
        "\r\n",
        "import pandas as pd\r\n",
        "import numpy as np"
      ],
      "execution_count": 2,
      "outputs": []
    },
    {
      "cell_type": "code",
      "metadata": {
        "id": "Z7IdNczEU1b_"
      },
      "source": [
        "# creating the play tennis dataset\r\n",
        "data_table = {'outlook':['sunny', 'sunny', 'overcast', 'rainy', 'rainy', 'rainy', 'overcast', 'sunny', 'sunny', 'rainy', 'sunny', 'overcast', 'overcast', 'rainy'],\r\n",
        "        'temperature':['hot', 'hot', 'hot', 'mild', 'cool', 'cool', 'cool', 'mild', 'cool', 'mild', 'mild', 'mild', 'hot', 'mild'],\r\n",
        "        'humidity':['high', 'high', 'high', 'high', 'normal', 'normal', 'normal', 'high', 'normal', 'normal', 'normal', 'high', 'normal', 'high'],\r\n",
        "        'windy':['false', 'true', 'false', 'false', 'false', 'true', 'true', 'false', 'false', 'false', 'true', 'true', 'false', 'true'],\r\n",
        "        'play tennis':['no', 'no', 'yes', 'yes', 'yes', 'no', 'yes', 'no', 'yes', 'yes', 'yes', 'yes', 'yes', 'no']}\r\n",
        "\r\n",
        "# converting the dataset into a dataframe\r\n",
        "play_tennis_dataset = pd.DataFrame(data = data_table)"
      ],
      "execution_count": 3,
      "outputs": []
    },
    {
      "cell_type": "code",
      "metadata": {
        "colab": {
          "base_uri": "https://localhost:8080/",
          "height": 462
        },
        "id": "6Dk_fqEMU_pN",
        "outputId": "27cbc40b-ba2c-469a-ccf4-786029c7c519"
      },
      "source": [
        "\r\n",
        "play_tennis_dataset"
      ],
      "execution_count": 4,
      "outputs": [
        {
          "output_type": "execute_result",
          "data": {
            "text/html": [
              "<div>\n",
              "<style scoped>\n",
              "    .dataframe tbody tr th:only-of-type {\n",
              "        vertical-align: middle;\n",
              "    }\n",
              "\n",
              "    .dataframe tbody tr th {\n",
              "        vertical-align: top;\n",
              "    }\n",
              "\n",
              "    .dataframe thead th {\n",
              "        text-align: right;\n",
              "    }\n",
              "</style>\n",
              "<table border=\"1\" class=\"dataframe\">\n",
              "  <thead>\n",
              "    <tr style=\"text-align: right;\">\n",
              "      <th></th>\n",
              "      <th>outlook</th>\n",
              "      <th>temperature</th>\n",
              "      <th>humidity</th>\n",
              "      <th>windy</th>\n",
              "      <th>play tennis</th>\n",
              "    </tr>\n",
              "  </thead>\n",
              "  <tbody>\n",
              "    <tr>\n",
              "      <th>0</th>\n",
              "      <td>sunny</td>\n",
              "      <td>hot</td>\n",
              "      <td>high</td>\n",
              "      <td>false</td>\n",
              "      <td>no</td>\n",
              "    </tr>\n",
              "    <tr>\n",
              "      <th>1</th>\n",
              "      <td>sunny</td>\n",
              "      <td>hot</td>\n",
              "      <td>high</td>\n",
              "      <td>true</td>\n",
              "      <td>no</td>\n",
              "    </tr>\n",
              "    <tr>\n",
              "      <th>2</th>\n",
              "      <td>overcast</td>\n",
              "      <td>hot</td>\n",
              "      <td>high</td>\n",
              "      <td>false</td>\n",
              "      <td>yes</td>\n",
              "    </tr>\n",
              "    <tr>\n",
              "      <th>3</th>\n",
              "      <td>rainy</td>\n",
              "      <td>mild</td>\n",
              "      <td>high</td>\n",
              "      <td>false</td>\n",
              "      <td>yes</td>\n",
              "    </tr>\n",
              "    <tr>\n",
              "      <th>4</th>\n",
              "      <td>rainy</td>\n",
              "      <td>cool</td>\n",
              "      <td>normal</td>\n",
              "      <td>false</td>\n",
              "      <td>yes</td>\n",
              "    </tr>\n",
              "    <tr>\n",
              "      <th>5</th>\n",
              "      <td>rainy</td>\n",
              "      <td>cool</td>\n",
              "      <td>normal</td>\n",
              "      <td>true</td>\n",
              "      <td>no</td>\n",
              "    </tr>\n",
              "    <tr>\n",
              "      <th>6</th>\n",
              "      <td>overcast</td>\n",
              "      <td>cool</td>\n",
              "      <td>normal</td>\n",
              "      <td>true</td>\n",
              "      <td>yes</td>\n",
              "    </tr>\n",
              "    <tr>\n",
              "      <th>7</th>\n",
              "      <td>sunny</td>\n",
              "      <td>mild</td>\n",
              "      <td>high</td>\n",
              "      <td>false</td>\n",
              "      <td>no</td>\n",
              "    </tr>\n",
              "    <tr>\n",
              "      <th>8</th>\n",
              "      <td>sunny</td>\n",
              "      <td>cool</td>\n",
              "      <td>normal</td>\n",
              "      <td>false</td>\n",
              "      <td>yes</td>\n",
              "    </tr>\n",
              "    <tr>\n",
              "      <th>9</th>\n",
              "      <td>rainy</td>\n",
              "      <td>mild</td>\n",
              "      <td>normal</td>\n",
              "      <td>false</td>\n",
              "      <td>yes</td>\n",
              "    </tr>\n",
              "    <tr>\n",
              "      <th>10</th>\n",
              "      <td>sunny</td>\n",
              "      <td>mild</td>\n",
              "      <td>normal</td>\n",
              "      <td>true</td>\n",
              "      <td>yes</td>\n",
              "    </tr>\n",
              "    <tr>\n",
              "      <th>11</th>\n",
              "      <td>overcast</td>\n",
              "      <td>mild</td>\n",
              "      <td>high</td>\n",
              "      <td>true</td>\n",
              "      <td>yes</td>\n",
              "    </tr>\n",
              "    <tr>\n",
              "      <th>12</th>\n",
              "      <td>overcast</td>\n",
              "      <td>hot</td>\n",
              "      <td>normal</td>\n",
              "      <td>false</td>\n",
              "      <td>yes</td>\n",
              "    </tr>\n",
              "    <tr>\n",
              "      <th>13</th>\n",
              "      <td>rainy</td>\n",
              "      <td>mild</td>\n",
              "      <td>high</td>\n",
              "      <td>true</td>\n",
              "      <td>no</td>\n",
              "    </tr>\n",
              "  </tbody>\n",
              "</table>\n",
              "</div>"
            ],
            "text/plain": [
              "     outlook temperature humidity  windy play tennis\n",
              "0      sunny         hot     high  false          no\n",
              "1      sunny         hot     high   true          no\n",
              "2   overcast         hot     high  false         yes\n",
              "3      rainy        mild     high  false         yes\n",
              "4      rainy        cool   normal  false         yes\n",
              "5      rainy        cool   normal   true          no\n",
              "6   overcast        cool   normal   true         yes\n",
              "7      sunny        mild     high  false          no\n",
              "8      sunny        cool   normal  false         yes\n",
              "9      rainy        mild   normal  false         yes\n",
              "10     sunny        mild   normal   true         yes\n",
              "11  overcast        mild     high   true         yes\n",
              "12  overcast         hot   normal  false         yes\n",
              "13     rainy        mild     high   true          no"
            ]
          },
          "metadata": {
            "tags": []
          },
          "execution_count": 4
        }
      ]
    },
    {
      "cell_type": "markdown",
      "metadata": {
        "id": "u_J6DmvhVJam"
      },
      "source": [
        "\r\n",
        "**Task 1: Use the Gini as impurity paramter and construct a Decision Tree**"
      ]
    },
    {
      "cell_type": "code",
      "metadata": {
        "id": "W2opZtaxU1c_"
      },
      "source": [
        "# function to compute gini impurity or gini index\r\n",
        "def gini(dataset, class_label, feature):\r\n",
        "    \r\n",
        "    # initialize the dictionary to store gini-impurity vaue for each category of the selected feature\r\n",
        "    gini_imp = {feature:{}} \r\n",
        "    \r\n",
        "    # iterating through each category of the feature\r\n",
        "    for cat in dataset[feature].unique():\r\n",
        "        \r\n",
        "        # capture the number of datapoints belonging to a particular category\r\n",
        "        n = dataset[dataset[feature] == cat].shape[0] \r\n",
        "        \r\n",
        "        # number of datapoints belonging to each class label of a particular category\r\n",
        "        data_distb = dataset[dataset[feature] == cat].groupby(by = class_label)[class_label].count() \r\n",
        "        \r\n",
        "        # calculating squared probability of each class label in a particular category and then summing them\r\n",
        "        sq_prob = sum([(i/n)**2 for i in data_distb]) \r\n",
        "        \r\n",
        "        # subtracting the sum of squared probabilities from one to complete the gini-impurity formula\r\n",
        "        gini_impurity = np.round(1 - sq_prob, 2) \r\n",
        "        \r\n",
        "        # adding gini-impurity value for each category of the feature\r\n",
        "        gini_imp[feature].update({cat:gini_impurity}) \r\n",
        "        #gini_imp[feature][cat] = gini_impurity # this way also you can add each category of a feature\r\n",
        "    \r\n",
        "    # returning the dictionary for gini-impurity value for each category of the feature\r\n",
        "    return gini_imp"
      ],
      "execution_count": 5,
      "outputs": []
    },
    {
      "cell_type": "code",
      "metadata": {
        "colab": {
          "base_uri": "https://localhost:8080/",
          "height": 0
        },
        "id": "LmMvLQv8VVZA",
        "outputId": "8e532283-7249-4231-cdfa-d850359eb79c"
      },
      "source": [
        "# calling the function to calculate gini-impurity of each category of a feature\r\n",
        "gini(play_tennis_dataset, 'play tennis', 'humidity')"
      ],
      "execution_count": 6,
      "outputs": [
        {
          "output_type": "execute_result",
          "data": {
            "text/plain": [
              "{'humidity': {'high': 0.49, 'normal': 0.24}}"
            ]
          },
          "metadata": {
            "tags": []
          },
          "execution_count": 6
        }
      ]
    }
  ]
}