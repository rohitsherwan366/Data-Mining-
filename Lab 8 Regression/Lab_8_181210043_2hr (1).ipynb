{
  "nbformat": 4,
  "nbformat_minor": 0,
  "metadata": {
    "colab": {
      "name": "Lab_8_181210043_2hr.ipynb",
      "provenance": [],
      "collapsed_sections": []
    },
    "kernelspec": {
      "name": "python3",
      "display_name": "Python 3"
    }
  },
  "cells": [
    {
      "cell_type": "markdown",
      "metadata": {
        "id": "3BEIA4QD2V5k"
      },
      "source": [
        "### 2 LAB 8: Regression and Logistic Regression\r\n",
        "  - Regression\r\n",
        "    * Linear Regression\r\n",
        "    – Multiple Regression\r\n",
        "  - Logistic Regression\r\n",
        "    – Multiclass classification Logistic Regression"
      ]
    },
    {
      "cell_type": "code",
      "metadata": {
        "colab": {
          "base_uri": "https://localhost:8080/"
        },
        "id": "h7SYMZbUwxAC",
        "outputId": "40a89aab-d36e-4236-aab9-2e4541e238cf"
      },
      "source": [
        "try:\r\n",
        "  from google.colab import drive\r\n",
        "  %tensorflow_version 2.x\r\n",
        "  COLAB = True\r\n",
        "  print(\"Note: using Google CoLab\")\r\n",
        "except:\r\n",
        "  print(\"Note: not using Google CoLab\")\r\n",
        "  COLAB = False\r\n",
        "\r\n",
        "# Print your name and Roll No.\r\n",
        "print('Name: Rohit Byas Sherwan')\r\n",
        "print('Roll No. :181210043')\r\n",
        "\r\n",
        "# Print the curent time\r\n",
        "from datetime import datetime\r\n",
        "print(\"Date Time :\", datetime.now())"
      ],
      "execution_count": 57,
      "outputs": [
        {
          "output_type": "stream",
          "text": [
            "Note: using Google CoLab\n",
            "Name: Rohit Byas Sherwan\n",
            "Roll No. :181210043\n",
            "Date Time : 2021-02-22 09:05:52.796377\n"
          ],
          "name": "stdout"
        }
      ]
    },
    {
      "cell_type": "code",
      "metadata": {
        "id": "WhUQlD4ExLDp"
      },
      "source": [
        "import pandas as pd\r\n",
        "import matplotlib.pyplot as plt"
      ],
      "execution_count": 1,
      "outputs": []
    },
    {
      "cell_type": "code",
      "metadata": {
        "colab": {
          "base_uri": "https://localhost:8080/"
        },
        "id": "iEYXjEIzxSzs",
        "outputId": "6a7c71f2-d8c7-4098-978c-231a7eafd970"
      },
      "source": [
        "dataset=pd.read_csv('student_scores.csv')\r\n",
        "dataset.shape"
      ],
      "execution_count": 2,
      "outputs": [
        {
          "output_type": "execute_result",
          "data": {
            "text/plain": [
              "(25, 2)"
            ]
          },
          "metadata": {
            "tags": []
          },
          "execution_count": 2
        }
      ]
    },
    {
      "cell_type": "code",
      "metadata": {
        "colab": {
          "base_uri": "https://localhost:8080/",
          "height": 195
        },
        "id": "b82j_v9VxaVh",
        "outputId": "6759cde1-1e28-4618-b6a6-1da84bcc6af6"
      },
      "source": [
        "dataset.head()"
      ],
      "execution_count": 3,
      "outputs": [
        {
          "output_type": "execute_result",
          "data": {
            "text/html": [
              "<div>\n",
              "<style scoped>\n",
              "    .dataframe tbody tr th:only-of-type {\n",
              "        vertical-align: middle;\n",
              "    }\n",
              "\n",
              "    .dataframe tbody tr th {\n",
              "        vertical-align: top;\n",
              "    }\n",
              "\n",
              "    .dataframe thead th {\n",
              "        text-align: right;\n",
              "    }\n",
              "</style>\n",
              "<table border=\"1\" class=\"dataframe\">\n",
              "  <thead>\n",
              "    <tr style=\"text-align: right;\">\n",
              "      <th></th>\n",
              "      <th>Hours</th>\n",
              "      <th>Scores</th>\n",
              "    </tr>\n",
              "  </thead>\n",
              "  <tbody>\n",
              "    <tr>\n",
              "      <th>0</th>\n",
              "      <td>2.5</td>\n",
              "      <td>21</td>\n",
              "    </tr>\n",
              "    <tr>\n",
              "      <th>1</th>\n",
              "      <td>5.1</td>\n",
              "      <td>47</td>\n",
              "    </tr>\n",
              "    <tr>\n",
              "      <th>2</th>\n",
              "      <td>3.2</td>\n",
              "      <td>27</td>\n",
              "    </tr>\n",
              "    <tr>\n",
              "      <th>3</th>\n",
              "      <td>8.5</td>\n",
              "      <td>75</td>\n",
              "    </tr>\n",
              "    <tr>\n",
              "      <th>4</th>\n",
              "      <td>3.5</td>\n",
              "      <td>30</td>\n",
              "    </tr>\n",
              "  </tbody>\n",
              "</table>\n",
              "</div>"
            ],
            "text/plain": [
              "   Hours  Scores\n",
              "0    2.5      21\n",
              "1    5.1      47\n",
              "2    3.2      27\n",
              "3    8.5      75\n",
              "4    3.5      30"
            ]
          },
          "metadata": {
            "tags": []
          },
          "execution_count": 3
        }
      ]
    },
    {
      "cell_type": "code",
      "metadata": {
        "colab": {
          "base_uri": "https://localhost:8080/",
          "height": 284
        },
        "id": "zh2QWz6vxbht",
        "outputId": "d8764456-fe16-49ba-9b91-1147eb956616"
      },
      "source": [
        "dataset.describe()"
      ],
      "execution_count": 4,
      "outputs": [
        {
          "output_type": "execute_result",
          "data": {
            "text/html": [
              "<div>\n",
              "<style scoped>\n",
              "    .dataframe tbody tr th:only-of-type {\n",
              "        vertical-align: middle;\n",
              "    }\n",
              "\n",
              "    .dataframe tbody tr th {\n",
              "        vertical-align: top;\n",
              "    }\n",
              "\n",
              "    .dataframe thead th {\n",
              "        text-align: right;\n",
              "    }\n",
              "</style>\n",
              "<table border=\"1\" class=\"dataframe\">\n",
              "  <thead>\n",
              "    <tr style=\"text-align: right;\">\n",
              "      <th></th>\n",
              "      <th>Hours</th>\n",
              "      <th>Scores</th>\n",
              "    </tr>\n",
              "  </thead>\n",
              "  <tbody>\n",
              "    <tr>\n",
              "      <th>count</th>\n",
              "      <td>25.000000</td>\n",
              "      <td>25.000000</td>\n",
              "    </tr>\n",
              "    <tr>\n",
              "      <th>mean</th>\n",
              "      <td>5.012000</td>\n",
              "      <td>51.480000</td>\n",
              "    </tr>\n",
              "    <tr>\n",
              "      <th>std</th>\n",
              "      <td>2.525094</td>\n",
              "      <td>25.286887</td>\n",
              "    </tr>\n",
              "    <tr>\n",
              "      <th>min</th>\n",
              "      <td>1.100000</td>\n",
              "      <td>17.000000</td>\n",
              "    </tr>\n",
              "    <tr>\n",
              "      <th>25%</th>\n",
              "      <td>2.700000</td>\n",
              "      <td>30.000000</td>\n",
              "    </tr>\n",
              "    <tr>\n",
              "      <th>50%</th>\n",
              "      <td>4.800000</td>\n",
              "      <td>47.000000</td>\n",
              "    </tr>\n",
              "    <tr>\n",
              "      <th>75%</th>\n",
              "      <td>7.400000</td>\n",
              "      <td>75.000000</td>\n",
              "    </tr>\n",
              "    <tr>\n",
              "      <th>max</th>\n",
              "      <td>9.200000</td>\n",
              "      <td>95.000000</td>\n",
              "    </tr>\n",
              "  </tbody>\n",
              "</table>\n",
              "</div>"
            ],
            "text/plain": [
              "           Hours     Scores\n",
              "count  25.000000  25.000000\n",
              "mean    5.012000  51.480000\n",
              "std     2.525094  25.286887\n",
              "min     1.100000  17.000000\n",
              "25%     2.700000  30.000000\n",
              "50%     4.800000  47.000000\n",
              "75%     7.400000  75.000000\n",
              "max     9.200000  95.000000"
            ]
          },
          "metadata": {
            "tags": []
          },
          "execution_count": 4
        }
      ]
    },
    {
      "cell_type": "code",
      "metadata": {
        "colab": {
          "base_uri": "https://localhost:8080/",
          "height": 295
        },
        "id": "UEKkNmWoxn3m",
        "outputId": "34ef1ba0-8292-43af-e952-4190c27dcee9"
      },
      "source": [
        "dataset.plot(x='Hours',y='Scores',style='*')\r\n",
        "plt.title('Hours vs Precentage')\r\n",
        "plt.xlabel('Hour Studied')\r\n",
        "plt.ylabel('Percentage Score')\r\n",
        "plt.show()"
      ],
      "execution_count": 5,
      "outputs": [
        {
          "output_type": "display_data",
          "data": {
            "image/png": "[encoded data removed]",
            "text/plain": [
              "<Figure size 432x288 with 1 Axes>"
            ]
          },
          "metadata": {
            "tags": [],
            "needs_background": "light"
          }
        }
      ]
    },
    {
      "cell_type": "markdown",
      "metadata": {
        "id": "404UzwYK5Cjq"
      },
      "source": [
        "**observation**\r\n",
        "\r\n",
        "From the graph above, we can clearly see that there is a positive linear relation between the number of hours studied and percentage of score."
      ]
    },
    {
      "cell_type": "code",
      "metadata": {
        "id": "hGid3PR6xobG"
      },
      "source": [
        "# method to retrieve rows from a Data frame\r\n",
        "x = dataset.iloc[:, :-1].values\r\n",
        "y = dataset.iloc[:, 1].values"
      ],
      "execution_count": 6,
      "outputs": []
    },
    {
      "cell_type": "code",
      "metadata": {
        "id": "r3nug4V2xvBM"
      },
      "source": [
        "import numpy as np\r\n",
        "from sklearn.model_selection import train_test_split"
      ],
      "execution_count": 8,
      "outputs": []
    },
    {
      "cell_type": "code",
      "metadata": {
        "id": "rB2ntoQ5xvj8"
      },
      "source": [
        "?train_test_split\r\n",
        "#Split arrays or matrices into random train and test subsets"
      ],
      "execution_count": 56,
      "outputs": []
    },
    {
      "cell_type": "code",
      "metadata": {
        "colab": {
          "base_uri": "https://localhost:8080/"
        },
        "id": "biLVHY_kx4_f",
        "outputId": "99c7ba9d-420f-4348-9396-d84db1a96a1c"
      },
      "source": [
        "x_train, x_test, y_train, y_test = train_test_split(x, y, test_size=0.2, random_state=0)\r\n",
        "x_train.shape, x_test.shape, y_train.shape, y_test.shape"
      ],
      "execution_count": 10,
      "outputs": [
        {
          "output_type": "execute_result",
          "data": {
            "text/plain": [
              "((20, 1), (5, 1), (20,), (5,))"
            ]
          },
          "metadata": {
            "tags": []
          },
          "execution_count": 10
        }
      ]
    },
    {
      "cell_type": "markdown",
      "metadata": {
        "id": "IzJpE_sG5UPs"
      },
      "source": [
        "**observation**\r\n",
        "\r\n",
        "This script splits 80% of the data to training set while 20% of the data to test set. The test_size variable is where we actually specify the proportion of test set."
      ]
    },
    {
      "cell_type": "code",
      "metadata": {
        "colab": {
          "base_uri": "https://localhost:8080/"
        },
        "id": "vwnv9Wmsx7iK",
        "outputId": "91e2cb41-e124-4ac8-c0de-b860d83cb976"
      },
      "source": [
        "len(x_train),len(y_train)"
      ],
      "execution_count": 11,
      "outputs": [
        {
          "output_type": "execute_result",
          "data": {
            "text/plain": [
              "(20, 20)"
            ]
          },
          "metadata": {
            "tags": []
          },
          "execution_count": 11
        }
      ]
    },
    {
      "cell_type": "code",
      "metadata": {
        "colab": {
          "base_uri": "https://localhost:8080/"
        },
        "id": "j-Lx8Cdwx-If",
        "outputId": "bcde28e2-276b-412a-eeb4-d649d6cc3f7c"
      },
      "source": [
        "len(x_test), len(y_test)"
      ],
      "execution_count": 12,
      "outputs": [
        {
          "output_type": "execute_result",
          "data": {
            "text/plain": [
              "(5, 5)"
            ]
          },
          "metadata": {
            "tags": []
          },
          "execution_count": 12
        }
      ]
    },
    {
      "cell_type": "code",
      "metadata": {
        "colab": {
          "base_uri": "https://localhost:8080/"
        },
        "id": "wAgsy3e-yCRh",
        "outputId": "7be1a772-bedf-43df-93ba-645bff0ff8d7"
      },
      "source": [
        "x_train"
      ],
      "execution_count": 13,
      "outputs": [
        {
          "output_type": "execute_result",
          "data": {
            "text/plain": [
              "array([[3.8],\n",
              "       [1.9],\n",
              "       [7.8],\n",
              "       [6.9],\n",
              "       [1.1],\n",
              "       [5.1],\n",
              "       [7.7],\n",
              "       [3.3],\n",
              "       [8.3],\n",
              "       [9.2],\n",
              "       [6.1],\n",
              "       [3.5],\n",
              "       [2.7],\n",
              "       [5.5],\n",
              "       [2.7],\n",
              "       [8.5],\n",
              "       [2.5],\n",
              "       [4.8],\n",
              "       [8.9],\n",
              "       [4.5]])"
            ]
          },
          "metadata": {
            "tags": []
          },
          "execution_count": 13
        }
      ]
    },
    {
      "cell_type": "code",
      "metadata": {
        "id": "pETRkIo3yDko"
      },
      "source": [
        "from sklearn.linear_model import LinearRegression"
      ],
      "execution_count": 14,
      "outputs": []
    },
    {
      "cell_type": "code",
      "metadata": {
        "colab": {
          "base_uri": "https://localhost:8080/"
        },
        "id": "KRQitA-lyFYu",
        "outputId": "5b9f7e37-42ca-4bda-aca3-1608a9f140da"
      },
      "source": [
        "#traning the algorithm\r\n",
        "regressor=LinearRegression()\r\n",
        "regressor.fit(x_train,y_train)"
      ],
      "execution_count": 15,
      "outputs": [
        {
          "output_type": "execute_result",
          "data": {
            "text/plain": [
              "LinearRegression(copy_X=True, fit_intercept=True, n_jobs=None, normalize=False)"
            ]
          },
          "metadata": {
            "tags": []
          },
          "execution_count": 15
        }
      ]
    },
    {
      "cell_type": "code",
      "metadata": {
        "colab": {
          "base_uri": "https://localhost:8080/"
        },
        "id": "QHhQeMbmyHPb",
        "outputId": "b0d002f6-cd1f-4b16-ed8c-626858e7a923"
      },
      "source": [
        "regressor.intercept_"
      ],
      "execution_count": 16,
      "outputs": [
        {
          "output_type": "execute_result",
          "data": {
            "text/plain": [
              "2.018160041434662"
            ]
          },
          "metadata": {
            "tags": []
          },
          "execution_count": 16
        }
      ]
    },
    {
      "cell_type": "code",
      "metadata": {
        "colab": {
          "base_uri": "https://localhost:8080/"
        },
        "id": "oO5m3whayIkR",
        "outputId": "de3cd5c3-255a-469c-fc66-7a5c8d4273bc"
      },
      "source": [
        "regressor.coef_"
      ],
      "execution_count": 17,
      "outputs": [
        {
          "output_type": "execute_result",
          "data": {
            "text/plain": [
              "array([9.91065648])"
            ]
          },
          "metadata": {
            "tags": []
          },
          "execution_count": 17
        }
      ]
    },
    {
      "cell_type": "markdown",
      "metadata": {
        "id": "VyACzseB6CZg"
      },
      "source": [
        "**observation**\r\n",
        "\r\n",
        "this tell that for every one unit of change in hours studied, the change in the score is about 9.91%"
      ]
    },
    {
      "cell_type": "code",
      "metadata": {
        "id": "LC6fx1BGyK3w"
      },
      "source": [
        "y_pred=regressor.predict(x_test)"
      ],
      "execution_count": 18,
      "outputs": []
    },
    {
      "cell_type": "code",
      "metadata": {
        "colab": {
          "base_uri": "https://localhost:8080/",
          "height": 195
        },
        "id": "gfx5NEDPyMIS",
        "outputId": "3d9d1b79-5bd2-47f2-b1d3-138142c750f4"
      },
      "source": [
        "df=pd.DataFrame({'Actual':y_test, 'Predicited':y_pred})\r\n",
        "df"
      ],
      "execution_count": 19,
      "outputs": [
        {
          "output_type": "execute_result",
          "data": {
            "text/html": [
              "<div>\n",
              "<style scoped>\n",
              "    .dataframe tbody tr th:only-of-type {\n",
              "        vertical-align: middle;\n",
              "    }\n",
              "\n",
              "    .dataframe tbody tr th {\n",
              "        vertical-align: top;\n",
              "    }\n",
              "\n",
              "    .dataframe thead th {\n",
              "        text-align: right;\n",
              "    }\n",
              "</style>\n",
              "<table border=\"1\" class=\"dataframe\">\n",
              "  <thead>\n",
              "    <tr style=\"text-align: right;\">\n",
              "      <th></th>\n",
              "      <th>Actual</th>\n",
              "      <th>Predicited</th>\n",
              "    </tr>\n",
              "  </thead>\n",
              "  <tbody>\n",
              "    <tr>\n",
              "      <th>0</th>\n",
              "      <td>20</td>\n",
              "      <td>16.884145</td>\n",
              "    </tr>\n",
              "    <tr>\n",
              "      <th>1</th>\n",
              "      <td>27</td>\n",
              "      <td>33.732261</td>\n",
              "    </tr>\n",
              "    <tr>\n",
              "      <th>2</th>\n",
              "      <td>69</td>\n",
              "      <td>75.357018</td>\n",
              "    </tr>\n",
              "    <tr>\n",
              "      <th>3</th>\n",
              "      <td>30</td>\n",
              "      <td>26.794801</td>\n",
              "    </tr>\n",
              "    <tr>\n",
              "      <th>4</th>\n",
              "      <td>62</td>\n",
              "      <td>60.491033</td>\n",
              "    </tr>\n",
              "  </tbody>\n",
              "</table>\n",
              "</div>"
            ],
            "text/plain": [
              "   Actual  Predicited\n",
              "0      20   16.884145\n",
              "1      27   33.732261\n",
              "2      69   75.357018\n",
              "3      30   26.794801\n",
              "4      62   60.491033"
            ]
          },
          "metadata": {
            "tags": []
          },
          "execution_count": 19
        }
      ]
    },
    {
      "cell_type": "code",
      "metadata": {
        "colab": {
          "base_uri": "https://localhost:8080/",
          "height": 265
        },
        "id": "_QDPyWNWyOBk",
        "outputId": "cd0375ba-9e8d-4412-bd27-f4de9d9067d7"
      },
      "source": [
        "#to see the relationship between the training data values\r\n",
        "plt.scatter(x_train, y_train, c='red')\r\n",
        "plt.show()"
      ],
      "execution_count": 20,
      "outputs": [
        {
          "output_type": "display_data",
          "data": {
            "image/png": "[encoded data removed]",
            "text/plain": [
              "<Figure size 432x288 with 1 Axes>"
            ]
          },
          "metadata": {
            "tags": [],
            "needs_background": "light"
          }
        }
      ]
    },
    {
      "cell_type": "markdown",
      "metadata": {
        "id": "7mK1isQf8f3Z"
      },
      "source": [
        "**observation**\r\n",
        "\r\n",
        "we can see that, though our model is not very precise, the predicted percentages are close to the actual ones."
      ]
    },
    {
      "cell_type": "code",
      "metadata": {
        "colab": {
          "base_uri": "https://localhost:8080/",
          "height": 296
        },
        "id": "gOwIMEAsyP9O",
        "outputId": "cf951502-4830-4c59-9ca4-8d90fe5a058d"
      },
      "source": [
        "#to see the relationship between the predicted\r\n",
        "#brain weight values using scattered graph\r\n",
        "plt.plot(x_test,y_pred)\r\n",
        "plt.scatter(x_test,y_test,c='red')\r\n",
        "plt.xlabel('actual values')\r\n",
        "plt.ylabel('predicted values')"
      ],
      "execution_count": 21,
      "outputs": [
        {
          "output_type": "execute_result",
          "data": {
            "text/plain": [
              "Text(0, 0.5, 'predicted values')"
            ]
          },
          "metadata": {
            "tags": []
          },
          "execution_count": 21
        },
        {
          "output_type": "display_data",
          "data": {
            "image/png": "[encoded data removed]",
            "text/plain": [
              "<Figure size 432x288 with 1 Axes>"
            ]
          },
          "metadata": {
            "tags": [],
            "needs_background": "light"
          }
        }
      ]
    },
    {
      "cell_type": "code",
      "metadata": {
        "colab": {
          "base_uri": "https://localhost:8080/"
        },
        "id": "TaHAHXVUyQxT",
        "outputId": "aaace4d3-1c86-49a8-9ff0-4402c388ca90"
      },
      "source": [
        "from sklearn import metrics\r\n",
        "print('Mean Absolute Error:', metrics.mean_absolute_error(y_test, y_pred))\r\n",
        "print('Mean Squared Error:', metrics.mean_squared_error(y_test, y_pred))\r\n",
        "print('Root Mean Squared Error:', np.sqrt(metrics.mean_squared_error(y_test,y_pred)))"
      ],
      "execution_count": 22,
      "outputs": [
        {
          "output_type": "stream",
          "text": [
            "Mean Absolute Error: 4.183859899002982\n",
            "Mean Squared Error: 21.598769307217456\n",
            "Root Mean Squared Error: 4.647447612100373\n"
          ],
          "name": "stdout"
        }
      ]
    },
    {
      "cell_type": "markdown",
      "metadata": {
        "id": "2EszoEIg81nF"
      },
      "source": [
        "**observation**\r\n",
        "\r\n",
        "we can see that Mean absolute error is less than 10%, so this model is good for prediction\r\n"
      ]
    },
    {
      "cell_type": "markdown",
      "metadata": {
        "id": "kWE6IIiuyVjD"
      },
      "source": [
        "### 5.2"
      ]
    },
    {
      "cell_type": "code",
      "metadata": {
        "colab": {
          "base_uri": "https://localhost:8080/"
        },
        "id": "8_B2eZBFyXuC",
        "outputId": "95ddba66-f0b4-4660-a2b3-d97e38e91d51"
      },
      "source": [
        "# import libraries\r\n",
        "import pandas as pd\r\n",
        "import numpy as np\r\n",
        "import matplotlib.pyplot as plt\r\n",
        "dataset=pd.read_csv('petrol_consumption.csv')\r\n",
        "dataset.shape"
      ],
      "execution_count": 23,
      "outputs": [
        {
          "output_type": "execute_result",
          "data": {
            "text/plain": [
              "(48, 5)"
            ]
          },
          "metadata": {
            "tags": []
          },
          "execution_count": 23
        }
      ]
    },
    {
      "cell_type": "code",
      "metadata": {
        "id": "S982VODTydO4"
      },
      "source": [
        "from sklearn.model_selection import train_test_split\r\n",
        "from sklearn.linear_model import LinearRegression"
      ],
      "execution_count": 24,
      "outputs": []
    },
    {
      "cell_type": "code",
      "metadata": {
        "colab": {
          "base_uri": "https://localhost:8080/",
          "height": 195
        },
        "id": "ex8NqU3zyezo",
        "outputId": "d0ee3160-8b26-4421-dd2f-55665d1ff96a"
      },
      "source": [
        "dataset.head(5)"
      ],
      "execution_count": 25,
      "outputs": [
        {
          "output_type": "execute_result",
          "data": {
            "text/html": [
              "<div>\n",
              "<style scoped>\n",
              "    .dataframe tbody tr th:only-of-type {\n",
              "        vertical-align: middle;\n",
              "    }\n",
              "\n",
              "    .dataframe tbody tr th {\n",
              "        vertical-align: top;\n",
              "    }\n",
              "\n",
              "    .dataframe thead th {\n",
              "        text-align: right;\n",
              "    }\n",
              "</style>\n",
              "<table border=\"1\" class=\"dataframe\">\n",
              "  <thead>\n",
              "    <tr style=\"text-align: right;\">\n",
              "      <th></th>\n",
              "      <th>Petrol_tax</th>\n",
              "      <th>Average_income</th>\n",
              "      <th>Paved_Highways</th>\n",
              "      <th>Population_Driver_licence(%)</th>\n",
              "      <th>Petrol_Consumption</th>\n",
              "    </tr>\n",
              "  </thead>\n",
              "  <tbody>\n",
              "    <tr>\n",
              "      <th>0</th>\n",
              "      <td>9.0</td>\n",
              "      <td>3571</td>\n",
              "      <td>1976</td>\n",
              "      <td>0.525</td>\n",
              "      <td>541</td>\n",
              "    </tr>\n",
              "    <tr>\n",
              "      <th>1</th>\n",
              "      <td>9.0</td>\n",
              "      <td>4092</td>\n",
              "      <td>1250</td>\n",
              "      <td>0.572</td>\n",
              "      <td>524</td>\n",
              "    </tr>\n",
              "    <tr>\n",
              "      <th>2</th>\n",
              "      <td>9.0</td>\n",
              "      <td>3865</td>\n",
              "      <td>1586</td>\n",
              "      <td>0.580</td>\n",
              "      <td>561</td>\n",
              "    </tr>\n",
              "    <tr>\n",
              "      <th>3</th>\n",
              "      <td>7.5</td>\n",
              "      <td>4870</td>\n",
              "      <td>2351</td>\n",
              "      <td>0.529</td>\n",
              "      <td>414</td>\n",
              "    </tr>\n",
              "    <tr>\n",
              "      <th>4</th>\n",
              "      <td>8.0</td>\n",
              "      <td>4399</td>\n",
              "      <td>431</td>\n",
              "      <td>0.544</td>\n",
              "      <td>410</td>\n",
              "    </tr>\n",
              "  </tbody>\n",
              "</table>\n",
              "</div>"
            ],
            "text/plain": [
              "   Petrol_tax  Average_income  ...  Population_Driver_licence(%)  Petrol_Consumption\n",
              "0         9.0            3571  ...                         0.525                 541\n",
              "1         9.0            4092  ...                         0.572                 524\n",
              "2         9.0            3865  ...                         0.580                 561\n",
              "3         7.5            4870  ...                         0.529                 414\n",
              "4         8.0            4399  ...                         0.544                 410\n",
              "\n",
              "[5 rows x 5 columns]"
            ]
          },
          "metadata": {
            "tags": []
          },
          "execution_count": 25
        }
      ]
    },
    {
      "cell_type": "code",
      "metadata": {
        "colab": {
          "base_uri": "https://localhost:8080/",
          "height": 284
        },
        "id": "oeT1e9dcyfz8",
        "outputId": "10ecc41f-5836-4408-deb7-bc1c61afd457"
      },
      "source": [
        "dataset.describe()"
      ],
      "execution_count": 26,
      "outputs": [
        {
          "output_type": "execute_result",
          "data": {
            "text/html": [
              "<div>\n",
              "<style scoped>\n",
              "    .dataframe tbody tr th:only-of-type {\n",
              "        vertical-align: middle;\n",
              "    }\n",
              "\n",
              "    .dataframe tbody tr th {\n",
              "        vertical-align: top;\n",
              "    }\n",
              "\n",
              "    .dataframe thead th {\n",
              "        text-align: right;\n",
              "    }\n",
              "</style>\n",
              "<table border=\"1\" class=\"dataframe\">\n",
              "  <thead>\n",
              "    <tr style=\"text-align: right;\">\n",
              "      <th></th>\n",
              "      <th>Petrol_tax</th>\n",
              "      <th>Average_income</th>\n",
              "      <th>Paved_Highways</th>\n",
              "      <th>Population_Driver_licence(%)</th>\n",
              "      <th>Petrol_Consumption</th>\n",
              "    </tr>\n",
              "  </thead>\n",
              "  <tbody>\n",
              "    <tr>\n",
              "      <th>count</th>\n",
              "      <td>48.000000</td>\n",
              "      <td>48.000000</td>\n",
              "      <td>48.000000</td>\n",
              "      <td>48.000000</td>\n",
              "      <td>48.000000</td>\n",
              "    </tr>\n",
              "    <tr>\n",
              "      <th>mean</th>\n",
              "      <td>7.668333</td>\n",
              "      <td>4241.833333</td>\n",
              "      <td>5565.416667</td>\n",
              "      <td>0.570333</td>\n",
              "      <td>576.770833</td>\n",
              "    </tr>\n",
              "    <tr>\n",
              "      <th>std</th>\n",
              "      <td>0.950770</td>\n",
              "      <td>573.623768</td>\n",
              "      <td>3491.507166</td>\n",
              "      <td>0.055470</td>\n",
              "      <td>111.885816</td>\n",
              "    </tr>\n",
              "    <tr>\n",
              "      <th>min</th>\n",
              "      <td>5.000000</td>\n",
              "      <td>3063.000000</td>\n",
              "      <td>431.000000</td>\n",
              "      <td>0.451000</td>\n",
              "      <td>344.000000</td>\n",
              "    </tr>\n",
              "    <tr>\n",
              "      <th>25%</th>\n",
              "      <td>7.000000</td>\n",
              "      <td>3739.000000</td>\n",
              "      <td>3110.250000</td>\n",
              "      <td>0.529750</td>\n",
              "      <td>509.500000</td>\n",
              "    </tr>\n",
              "    <tr>\n",
              "      <th>50%</th>\n",
              "      <td>7.500000</td>\n",
              "      <td>4298.000000</td>\n",
              "      <td>4735.500000</td>\n",
              "      <td>0.564500</td>\n",
              "      <td>568.500000</td>\n",
              "    </tr>\n",
              "    <tr>\n",
              "      <th>75%</th>\n",
              "      <td>8.125000</td>\n",
              "      <td>4578.750000</td>\n",
              "      <td>7156.000000</td>\n",
              "      <td>0.595250</td>\n",
              "      <td>632.750000</td>\n",
              "    </tr>\n",
              "    <tr>\n",
              "      <th>max</th>\n",
              "      <td>10.000000</td>\n",
              "      <td>5342.000000</td>\n",
              "      <td>17782.000000</td>\n",
              "      <td>0.724000</td>\n",
              "      <td>968.000000</td>\n",
              "    </tr>\n",
              "  </tbody>\n",
              "</table>\n",
              "</div>"
            ],
            "text/plain": [
              "       Petrol_tax  ...  Petrol_Consumption\n",
              "count   48.000000  ...           48.000000\n",
              "mean     7.668333  ...          576.770833\n",
              "std      0.950770  ...          111.885816\n",
              "min      5.000000  ...          344.000000\n",
              "25%      7.000000  ...          509.500000\n",
              "50%      7.500000  ...          568.500000\n",
              "75%      8.125000  ...          632.750000\n",
              "max     10.000000  ...          968.000000\n",
              "\n",
              "[8 rows x 5 columns]"
            ]
          },
          "metadata": {
            "tags": []
          },
          "execution_count": 26
        }
      ]
    },
    {
      "cell_type": "code",
      "metadata": {
        "colab": {
          "base_uri": "https://localhost:8080/",
          "height": 195
        },
        "id": "Tr2mtwgWyfxa",
        "outputId": "b97405af-4eae-40ee-a3d5-3b3eb0814a6c"
      },
      "source": [
        "dataset.corr()"
      ],
      "execution_count": 27,
      "outputs": [
        {
          "output_type": "execute_result",
          "data": {
            "text/html": [
              "<div>\n",
              "<style scoped>\n",
              "    .dataframe tbody tr th:only-of-type {\n",
              "        vertical-align: middle;\n",
              "    }\n",
              "\n",
              "    .dataframe tbody tr th {\n",
              "        vertical-align: top;\n",
              "    }\n",
              "\n",
              "    .dataframe thead th {\n",
              "        text-align: right;\n",
              "    }\n",
              "</style>\n",
              "<table border=\"1\" class=\"dataframe\">\n",
              "  <thead>\n",
              "    <tr style=\"text-align: right;\">\n",
              "      <th></th>\n",
              "      <th>Petrol_tax</th>\n",
              "      <th>Average_income</th>\n",
              "      <th>Paved_Highways</th>\n",
              "      <th>Population_Driver_licence(%)</th>\n",
              "      <th>Petrol_Consumption</th>\n",
              "    </tr>\n",
              "  </thead>\n",
              "  <tbody>\n",
              "    <tr>\n",
              "      <th>Petrol_tax</th>\n",
              "      <td>1.000000</td>\n",
              "      <td>0.012665</td>\n",
              "      <td>-0.522130</td>\n",
              "      <td>-0.288037</td>\n",
              "      <td>-0.451280</td>\n",
              "    </tr>\n",
              "    <tr>\n",
              "      <th>Average_income</th>\n",
              "      <td>0.012665</td>\n",
              "      <td>1.000000</td>\n",
              "      <td>0.050163</td>\n",
              "      <td>0.157070</td>\n",
              "      <td>-0.244862</td>\n",
              "    </tr>\n",
              "    <tr>\n",
              "      <th>Paved_Highways</th>\n",
              "      <td>-0.522130</td>\n",
              "      <td>0.050163</td>\n",
              "      <td>1.000000</td>\n",
              "      <td>-0.064129</td>\n",
              "      <td>0.019042</td>\n",
              "    </tr>\n",
              "    <tr>\n",
              "      <th>Population_Driver_licence(%)</th>\n",
              "      <td>-0.288037</td>\n",
              "      <td>0.157070</td>\n",
              "      <td>-0.064129</td>\n",
              "      <td>1.000000</td>\n",
              "      <td>0.698965</td>\n",
              "    </tr>\n",
              "    <tr>\n",
              "      <th>Petrol_Consumption</th>\n",
              "      <td>-0.451280</td>\n",
              "      <td>-0.244862</td>\n",
              "      <td>0.019042</td>\n",
              "      <td>0.698965</td>\n",
              "      <td>1.000000</td>\n",
              "    </tr>\n",
              "  </tbody>\n",
              "</table>\n",
              "</div>"
            ],
            "text/plain": [
              "                              Petrol_tax  ...  Petrol_Consumption\n",
              "Petrol_tax                      1.000000  ...           -0.451280\n",
              "Average_income                  0.012665  ...           -0.244862\n",
              "Paved_Highways                 -0.522130  ...            0.019042\n",
              "Population_Driver_licence(%)   -0.288037  ...            0.698965\n",
              "Petrol_Consumption             -0.451280  ...            1.000000\n",
              "\n",
              "[5 rows x 5 columns]"
            ]
          },
          "metadata": {
            "tags": []
          },
          "execution_count": 27
        }
      ]
    },
    {
      "cell_type": "code",
      "metadata": {
        "colab": {
          "base_uri": "https://localhost:8080/"
        },
        "id": "fyWiLeDcynon",
        "outputId": "bd9d2caf-77db-47e8-8d5c-df9043ace7dc"
      },
      "source": [
        "# install if you are using heatmapz for the first time\r\n",
        "!pip install heatmapz"
      ],
      "execution_count": 28,
      "outputs": [
        {
          "output_type": "stream",
          "text": [
            "Collecting heatmapz\n",
            "  Downloading https://files.pythonhosted.org/packages/26/5d/3928028fcb8de3bf09bb17975ca7e83f8b2f00cd28c10bc1150f8c418372/heatmapz-0.0.4-py3-none-any.whl\n",
            "Requirement already satisfied: pandas in /usr/local/lib/python3.6/dist-packages (from heatmapz) (1.1.5)\n",
            "Requirement already satisfied: seaborn in /usr/local/lib/python3.6/dist-packages (from heatmapz) (0.11.1)\n",
            "Requirement already satisfied: matplotlib>=3.0.3 in /usr/local/lib/python3.6/dist-packages (from heatmapz) (3.2.2)\n",
            "Requirement already satisfied: pytz>=2017.2 in /usr/local/lib/python3.6/dist-packages (from pandas->heatmapz) (2018.9)\n",
            "Requirement already satisfied: python-dateutil>=2.7.3 in /usr/local/lib/python3.6/dist-packages (from pandas->heatmapz) (2.8.1)\n",
            "Requirement already satisfied: numpy>=1.15.4 in /usr/local/lib/python3.6/dist-packages (from pandas->heatmapz) (1.19.5)\n",
            "Requirement already satisfied: scipy>=1.0 in /usr/local/lib/python3.6/dist-packages (from seaborn->heatmapz) (1.4.1)\n",
            "Requirement already satisfied: kiwisolver>=1.0.1 in /usr/local/lib/python3.6/dist-packages (from matplotlib>=3.0.3->heatmapz) (1.3.1)\n",
            "Requirement already satisfied: pyparsing!=2.0.4,!=2.1.2,!=2.1.6,>=2.0.1 in /usr/local/lib/python3.6/dist-packages (from matplotlib>=3.0.3->heatmapz) (2.4.7)\n",
            "Requirement already satisfied: cycler>=0.10 in /usr/local/lib/python3.6/dist-packages (from matplotlib>=3.0.3->heatmapz) (0.10.0)\n",
            "Requirement already satisfied: six>=1.5 in /usr/local/lib/python3.6/dist-packages (from python-dateutil>=2.7.3->pandas->heatmapz) (1.15.0)\n",
            "Installing collected packages: heatmapz\n",
            "Successfully installed heatmapz-0.0.4\n"
          ],
          "name": "stdout"
        }
      ]
    },
    {
      "cell_type": "code",
      "metadata": {
        "colab": {
          "base_uri": "https://localhost:8080/",
          "height": 584
        },
        "id": "v-I4ggP3yftT",
        "outputId": "ef7a6896-3313-4a3f-ed49-6a4f75536486"
      },
      "source": [
        "# Import the two methods from heatmap library\r\n",
        "from heatmap import heatmap, corrplot\r\n",
        "plt.figure(figsize=(8, 8))\r\n",
        "corrplot(dataset.corr(), size_scale=300);\r\n",
        "# Blue means positive, red means negative. The stronger the color, the larger the correlation magnitude."
      ],
      "execution_count": 29,
      "outputs": [
        {
          "output_type": "display_data",
          "data": {
            "image/png": "[encoded data removed]",
            "text/plain": [
              "<Figure size 576x576 with 2 Axes>"
            ]
          },
          "metadata": {
            "tags": [],
            "needs_background": "light"
          }
        }
      ]
    },
    {
      "cell_type": "code",
      "metadata": {
        "id": "N_vxe7y6yfqa"
      },
      "source": [
        "# load the data to input and output vairiable\r\n",
        "X = dataset[['Petrol_tax', 'Average_income','Paved_Highways','Population_Driver_licence(%)']]\r\n",
        "y = dataset['Petrol_Consumption']"
      ],
      "execution_count": 30,
      "outputs": []
    },
    {
      "cell_type": "code",
      "metadata": {
        "id": "2PK3BFTtyfno"
      },
      "source": [
        "# Split data into train, test sets\r\n",
        "X_train, X_test, y_train, y_test = train_test_split(X, y, test_size=0.3, random_state=0)"
      ],
      "execution_count": 31,
      "outputs": []
    },
    {
      "cell_type": "code",
      "metadata": {
        "colab": {
          "base_uri": "https://localhost:8080/"
        },
        "id": "nNqcv54Eyfhv",
        "outputId": "18944acb-3ee8-4bd9-ccbf-5986fc16663c"
      },
      "source": [
        "X_train.shape, X_test.shape, y_train.shape, y_test.shape"
      ],
      "execution_count": 33,
      "outputs": [
        {
          "output_type": "execute_result",
          "data": {
            "text/plain": [
              "((33, 4), (15, 4), (33,), (15,))"
            ]
          },
          "metadata": {
            "tags": []
          },
          "execution_count": 33
        }
      ]
    },
    {
      "cell_type": "code",
      "metadata": {
        "colab": {
          "base_uri": "https://localhost:8080/",
          "height": 1000
        },
        "id": "t46e5vE1yfS8",
        "outputId": "0c7aeb98-6518-47e3-8074-64719b544f84"
      },
      "source": [
        "X_train"
      ],
      "execution_count": 34,
      "outputs": [
        {
          "output_type": "execute_result",
          "data": {
            "text/html": [
              "<div>\n",
              "<style scoped>\n",
              "    .dataframe tbody tr th:only-of-type {\n",
              "        vertical-align: middle;\n",
              "    }\n",
              "\n",
              "    .dataframe tbody tr th {\n",
              "        vertical-align: top;\n",
              "    }\n",
              "\n",
              "    .dataframe thead th {\n",
              "        text-align: right;\n",
              "    }\n",
              "</style>\n",
              "<table border=\"1\" class=\"dataframe\">\n",
              "  <thead>\n",
              "    <tr style=\"text-align: right;\">\n",
              "      <th></th>\n",
              "      <th>Petrol_tax</th>\n",
              "      <th>Average_income</th>\n",
              "      <th>Paved_Highways</th>\n",
              "      <th>Population_Driver_licence(%)</th>\n",
              "    </tr>\n",
              "  </thead>\n",
              "  <tbody>\n",
              "    <tr>\n",
              "      <th>2</th>\n",
              "      <td>9.00</td>\n",
              "      <td>3865</td>\n",
              "      <td>1586</td>\n",
              "      <td>0.580</td>\n",
              "    </tr>\n",
              "    <tr>\n",
              "      <th>46</th>\n",
              "      <td>7.00</td>\n",
              "      <td>4296</td>\n",
              "      <td>4083</td>\n",
              "      <td>0.623</td>\n",
              "    </tr>\n",
              "    <tr>\n",
              "      <th>18</th>\n",
              "      <td>7.00</td>\n",
              "      <td>4716</td>\n",
              "      <td>5915</td>\n",
              "      <td>0.724</td>\n",
              "    </tr>\n",
              "    <tr>\n",
              "      <th>15</th>\n",
              "      <td>7.00</td>\n",
              "      <td>4318</td>\n",
              "      <td>10340</td>\n",
              "      <td>0.586</td>\n",
              "    </tr>\n",
              "    <tr>\n",
              "      <th>28</th>\n",
              "      <td>8.00</td>\n",
              "      <td>4188</td>\n",
              "      <td>5975</td>\n",
              "      <td>0.563</td>\n",
              "    </tr>\n",
              "    <tr>\n",
              "      <th>22</th>\n",
              "      <td>9.00</td>\n",
              "      <td>4897</td>\n",
              "      <td>2449</td>\n",
              "      <td>0.511</td>\n",
              "    </tr>\n",
              "    <tr>\n",
              "      <th>16</th>\n",
              "      <td>7.00</td>\n",
              "      <td>4206</td>\n",
              "      <td>8508</td>\n",
              "      <td>0.572</td>\n",
              "    </tr>\n",
              "    <tr>\n",
              "      <th>41</th>\n",
              "      <td>7.00</td>\n",
              "      <td>3656</td>\n",
              "      <td>3985</td>\n",
              "      <td>0.563</td>\n",
              "    </tr>\n",
              "    <tr>\n",
              "      <th>20</th>\n",
              "      <td>7.00</td>\n",
              "      <td>4593</td>\n",
              "      <td>7834</td>\n",
              "      <td>0.663</td>\n",
              "    </tr>\n",
              "    <tr>\n",
              "      <th>42</th>\n",
              "      <td>7.00</td>\n",
              "      <td>4300</td>\n",
              "      <td>3635</td>\n",
              "      <td>0.603</td>\n",
              "    </tr>\n",
              "    <tr>\n",
              "      <th>8</th>\n",
              "      <td>8.00</td>\n",
              "      <td>4447</td>\n",
              "      <td>8577</td>\n",
              "      <td>0.529</td>\n",
              "    </tr>\n",
              "    <tr>\n",
              "      <th>13</th>\n",
              "      <td>7.00</td>\n",
              "      <td>4207</td>\n",
              "      <td>6580</td>\n",
              "      <td>0.545</td>\n",
              "    </tr>\n",
              "    <tr>\n",
              "      <th>25</th>\n",
              "      <td>9.00</td>\n",
              "      <td>3721</td>\n",
              "      <td>4746</td>\n",
              "      <td>0.544</td>\n",
              "    </tr>\n",
              "    <tr>\n",
              "      <th>5</th>\n",
              "      <td>10.00</td>\n",
              "      <td>5342</td>\n",
              "      <td>1333</td>\n",
              "      <td>0.571</td>\n",
              "    </tr>\n",
              "    <tr>\n",
              "      <th>17</th>\n",
              "      <td>7.00</td>\n",
              "      <td>3718</td>\n",
              "      <td>4725</td>\n",
              "      <td>0.540</td>\n",
              "    </tr>\n",
              "    <tr>\n",
              "      <th>35</th>\n",
              "      <td>6.58</td>\n",
              "      <td>3802</td>\n",
              "      <td>7834</td>\n",
              "      <td>0.629</td>\n",
              "    </tr>\n",
              "    <tr>\n",
              "      <th>14</th>\n",
              "      <td>7.00</td>\n",
              "      <td>4332</td>\n",
              "      <td>8159</td>\n",
              "      <td>0.608</td>\n",
              "    </tr>\n",
              "    <tr>\n",
              "      <th>38</th>\n",
              "      <td>8.50</td>\n",
              "      <td>3635</td>\n",
              "      <td>3274</td>\n",
              "      <td>0.663</td>\n",
              "    </tr>\n",
              "    <tr>\n",
              "      <th>1</th>\n",
              "      <td>9.00</td>\n",
              "      <td>4092</td>\n",
              "      <td>1250</td>\n",
              "      <td>0.572</td>\n",
              "    </tr>\n",
              "    <tr>\n",
              "      <th>12</th>\n",
              "      <td>7.00</td>\n",
              "      <td>4817</td>\n",
              "      <td>6930</td>\n",
              "      <td>0.574</td>\n",
              "    </tr>\n",
              "    <tr>\n",
              "      <th>43</th>\n",
              "      <td>7.00</td>\n",
              "      <td>3745</td>\n",
              "      <td>2611</td>\n",
              "      <td>0.508</td>\n",
              "    </tr>\n",
              "    <tr>\n",
              "      <th>24</th>\n",
              "      <td>8.50</td>\n",
              "      <td>4574</td>\n",
              "      <td>2619</td>\n",
              "      <td>0.551</td>\n",
              "    </tr>\n",
              "    <tr>\n",
              "      <th>6</th>\n",
              "      <td>8.00</td>\n",
              "      <td>5319</td>\n",
              "      <td>11868</td>\n",
              "      <td>0.451</td>\n",
              "    </tr>\n",
              "    <tr>\n",
              "      <th>23</th>\n",
              "      <td>9.00</td>\n",
              "      <td>4258</td>\n",
              "      <td>4686</td>\n",
              "      <td>0.517</td>\n",
              "    </tr>\n",
              "    <tr>\n",
              "      <th>36</th>\n",
              "      <td>5.00</td>\n",
              "      <td>4045</td>\n",
              "      <td>17782</td>\n",
              "      <td>0.566</td>\n",
              "    </tr>\n",
              "    <tr>\n",
              "      <th>21</th>\n",
              "      <td>8.00</td>\n",
              "      <td>4983</td>\n",
              "      <td>602</td>\n",
              "      <td>0.602</td>\n",
              "    </tr>\n",
              "    <tr>\n",
              "      <th>19</th>\n",
              "      <td>8.50</td>\n",
              "      <td>4341</td>\n",
              "      <td>6010</td>\n",
              "      <td>0.677</td>\n",
              "    </tr>\n",
              "    <tr>\n",
              "      <th>9</th>\n",
              "      <td>7.00</td>\n",
              "      <td>4512</td>\n",
              "      <td>8507</td>\n",
              "      <td>0.552</td>\n",
              "    </tr>\n",
              "    <tr>\n",
              "      <th>39</th>\n",
              "      <td>7.00</td>\n",
              "      <td>4345</td>\n",
              "      <td>3905</td>\n",
              "      <td>0.672</td>\n",
              "    </tr>\n",
              "    <tr>\n",
              "      <th>45</th>\n",
              "      <td>9.00</td>\n",
              "      <td>4476</td>\n",
              "      <td>3942</td>\n",
              "      <td>0.571</td>\n",
              "    </tr>\n",
              "    <tr>\n",
              "      <th>3</th>\n",
              "      <td>7.50</td>\n",
              "      <td>4870</td>\n",
              "      <td>2351</td>\n",
              "      <td>0.529</td>\n",
              "    </tr>\n",
              "    <tr>\n",
              "      <th>0</th>\n",
              "      <td>9.00</td>\n",
              "      <td>3571</td>\n",
              "      <td>1976</td>\n",
              "      <td>0.525</td>\n",
              "    </tr>\n",
              "    <tr>\n",
              "      <th>44</th>\n",
              "      <td>6.00</td>\n",
              "      <td>5215</td>\n",
              "      <td>2302</td>\n",
              "      <td>0.672</td>\n",
              "    </tr>\n",
              "  </tbody>\n",
              "</table>\n",
              "</div>"
            ],
            "text/plain": [
              "    Petrol_tax  Average_income  Paved_Highways  Population_Driver_licence(%)\n",
              "2         9.00            3865            1586                         0.580\n",
              "46        7.00            4296            4083                         0.623\n",
              "18        7.00            4716            5915                         0.724\n",
              "15        7.00            4318           10340                         0.586\n",
              "28        8.00            4188            5975                         0.563\n",
              "22        9.00            4897            2449                         0.511\n",
              "16        7.00            4206            8508                         0.572\n",
              "41        7.00            3656            3985                         0.563\n",
              "20        7.00            4593            7834                         0.663\n",
              "42        7.00            4300            3635                         0.603\n",
              "8         8.00            4447            8577                         0.529\n",
              "13        7.00            4207            6580                         0.545\n",
              "25        9.00            3721            4746                         0.544\n",
              "5        10.00            5342            1333                         0.571\n",
              "17        7.00            3718            4725                         0.540\n",
              "35        6.58            3802            7834                         0.629\n",
              "14        7.00            4332            8159                         0.608\n",
              "38        8.50            3635            3274                         0.663\n",
              "1         9.00            4092            1250                         0.572\n",
              "12        7.00            4817            6930                         0.574\n",
              "43        7.00            3745            2611                         0.508\n",
              "24        8.50            4574            2619                         0.551\n",
              "6         8.00            5319           11868                         0.451\n",
              "23        9.00            4258            4686                         0.517\n",
              "36        5.00            4045           17782                         0.566\n",
              "21        8.00            4983             602                         0.602\n",
              "19        8.50            4341            6010                         0.677\n",
              "9         7.00            4512            8507                         0.552\n",
              "39        7.00            4345            3905                         0.672\n",
              "45        9.00            4476            3942                         0.571\n",
              "3         7.50            4870            2351                         0.529\n",
              "0         9.00            3571            1976                         0.525\n",
              "44        6.00            5215            2302                         0.672"
            ]
          },
          "metadata": {
            "tags": []
          },
          "execution_count": 34
        }
      ]
    },
    {
      "cell_type": "code",
      "metadata": {
        "colab": {
          "base_uri": "https://localhost:8080/"
        },
        "id": "TnbJjGqKy2X9",
        "outputId": "f63d0776-735e-4b01-de52-9283a2883667"
      },
      "source": [
        "regressor = LinearRegression()\r\n",
        "regressor.fit(X_train, y_train)"
      ],
      "execution_count": 35,
      "outputs": [
        {
          "output_type": "execute_result",
          "data": {
            "text/plain": [
              "LinearRegression(copy_X=True, fit_intercept=True, n_jobs=None, normalize=False)"
            ]
          },
          "metadata": {
            "tags": []
          },
          "execution_count": 35
        }
      ]
    },
    {
      "cell_type": "code",
      "metadata": {
        "colab": {
          "base_uri": "https://localhost:8080/",
          "height": 166
        },
        "id": "sho4o-yfy2Ux",
        "outputId": "82dd1ce6-746b-4b55-a096-276d4dbfbe7e"
      },
      "source": [
        "coeff_df = pd.DataFrame(regressor.coef_, X.columns, columns=['Coefficient'])\r\n",
        "coeff_df"
      ],
      "execution_count": 36,
      "outputs": [
        {
          "output_type": "execute_result",
          "data": {
            "text/html": [
              "<div>\n",
              "<style scoped>\n",
              "    .dataframe tbody tr th:only-of-type {\n",
              "        vertical-align: middle;\n",
              "    }\n",
              "\n",
              "    .dataframe tbody tr th {\n",
              "        vertical-align: top;\n",
              "    }\n",
              "\n",
              "    .dataframe thead th {\n",
              "        text-align: right;\n",
              "    }\n",
              "</style>\n",
              "<table border=\"1\" class=\"dataframe\">\n",
              "  <thead>\n",
              "    <tr style=\"text-align: right;\">\n",
              "      <th></th>\n",
              "      <th>Coefficient</th>\n",
              "    </tr>\n",
              "  </thead>\n",
              "  <tbody>\n",
              "    <tr>\n",
              "      <th>Petrol_tax</th>\n",
              "      <td>-43.200216</td>\n",
              "    </tr>\n",
              "    <tr>\n",
              "      <th>Average_income</th>\n",
              "      <td>-0.067281</td>\n",
              "    </tr>\n",
              "    <tr>\n",
              "      <th>Paved_Highways</th>\n",
              "      <td>-0.005851</td>\n",
              "    </tr>\n",
              "    <tr>\n",
              "      <th>Population_Driver_licence(%)</th>\n",
              "      <td>1331.115701</td>\n",
              "    </tr>\n",
              "  </tbody>\n",
              "</table>\n",
              "</div>"
            ],
            "text/plain": [
              "                              Coefficient\n",
              "Petrol_tax                     -43.200216\n",
              "Average_income                  -0.067281\n",
              "Paved_Highways                  -0.005851\n",
              "Population_Driver_licence(%)  1331.115701"
            ]
          },
          "metadata": {
            "tags": []
          },
          "execution_count": 36
        }
      ]
    },
    {
      "cell_type": "code",
      "metadata": {
        "id": "Na4Fomgzy2SD"
      },
      "source": [
        "y_pred = regressor.predict(X_test)"
      ],
      "execution_count": 37,
      "outputs": []
    },
    {
      "cell_type": "code",
      "metadata": {
        "colab": {
          "base_uri": "https://localhost:8080/",
          "height": 491
        },
        "id": "zPL7KZFzy6g0",
        "outputId": "8fc8fea1-f2d9-401f-a045-2b74cb4ffb23"
      },
      "source": [
        "df = pd.DataFrame({'Actual': y_test, 'Predicted': y_pred})\r\n",
        "df"
      ],
      "execution_count": 38,
      "outputs": [
        {
          "output_type": "execute_result",
          "data": {
            "text/html": [
              "<div>\n",
              "<style scoped>\n",
              "    .dataframe tbody tr th:only-of-type {\n",
              "        vertical-align: middle;\n",
              "    }\n",
              "\n",
              "    .dataframe tbody tr th {\n",
              "        vertical-align: top;\n",
              "    }\n",
              "\n",
              "    .dataframe thead th {\n",
              "        text-align: right;\n",
              "    }\n",
              "</style>\n",
              "<table border=\"1\" class=\"dataframe\">\n",
              "  <thead>\n",
              "    <tr style=\"text-align: right;\">\n",
              "      <th></th>\n",
              "      <th>Actual</th>\n",
              "      <th>Predicted</th>\n",
              "    </tr>\n",
              "  </thead>\n",
              "  <tbody>\n",
              "    <tr>\n",
              "      <th>29</th>\n",
              "      <td>534</td>\n",
              "      <td>468.315946</td>\n",
              "    </tr>\n",
              "    <tr>\n",
              "      <th>4</th>\n",
              "      <td>410</td>\n",
              "      <td>550.397078</td>\n",
              "    </tr>\n",
              "    <tr>\n",
              "      <th>26</th>\n",
              "      <td>577</td>\n",
              "      <td>590.639321</td>\n",
              "    </tr>\n",
              "    <tr>\n",
              "      <th>30</th>\n",
              "      <td>571</td>\n",
              "      <td>572.176794</td>\n",
              "    </tr>\n",
              "    <tr>\n",
              "      <th>32</th>\n",
              "      <td>577</td>\n",
              "      <td>649.893941</td>\n",
              "    </tr>\n",
              "    <tr>\n",
              "      <th>37</th>\n",
              "      <td>704</td>\n",
              "      <td>648.443789</td>\n",
              "    </tr>\n",
              "    <tr>\n",
              "      <th>34</th>\n",
              "      <td>487</td>\n",
              "      <td>515.198650</td>\n",
              "    </tr>\n",
              "    <tr>\n",
              "      <th>40</th>\n",
              "      <td>587</td>\n",
              "      <td>674.764637</td>\n",
              "    </tr>\n",
              "    <tr>\n",
              "      <th>7</th>\n",
              "      <td>467</td>\n",
              "      <td>503.476378</td>\n",
              "    </tr>\n",
              "    <tr>\n",
              "      <th>10</th>\n",
              "      <td>580</td>\n",
              "      <td>500.073610</td>\n",
              "    </tr>\n",
              "    <tr>\n",
              "      <th>11</th>\n",
              "      <td>471</td>\n",
              "      <td>417.315045</td>\n",
              "    </tr>\n",
              "    <tr>\n",
              "      <th>31</th>\n",
              "      <td>554</td>\n",
              "      <td>587.996148</td>\n",
              "    </tr>\n",
              "    <tr>\n",
              "      <th>33</th>\n",
              "      <td>628</td>\n",
              "      <td>624.508204</td>\n",
              "    </tr>\n",
              "    <tr>\n",
              "      <th>27</th>\n",
              "      <td>631</td>\n",
              "      <td>605.300526</td>\n",
              "    </tr>\n",
              "    <tr>\n",
              "      <th>47</th>\n",
              "      <td>524</td>\n",
              "      <td>563.470521</td>\n",
              "    </tr>\n",
              "  </tbody>\n",
              "</table>\n",
              "</div>"
            ],
            "text/plain": [
              "    Actual   Predicted\n",
              "29     534  468.315946\n",
              "4      410  550.397078\n",
              "26     577  590.639321\n",
              "30     571  572.176794\n",
              "32     577  649.893941\n",
              "37     704  648.443789\n",
              "34     487  515.198650\n",
              "40     587  674.764637\n",
              "7      467  503.476378\n",
              "10     580  500.073610\n",
              "11     471  417.315045\n",
              "31     554  587.996148\n",
              "33     628  624.508204\n",
              "27     631  605.300526\n",
              "47     524  563.470521"
            ]
          },
          "metadata": {
            "tags": []
          },
          "execution_count": 38
        }
      ]
    },
    {
      "cell_type": "code",
      "metadata": {
        "colab": {
          "base_uri": "https://localhost:8080/"
        },
        "id": "In4HpT9fy6eT",
        "outputId": "a22371d9-ae63-4c60-ac2a-39fd5156168b"
      },
      "source": [
        "from sklearn import metrics\r\n",
        "print('Mean Absolute Error:', metrics.mean_absolute_error(y_test, y_pred))\r\n",
        "print('Mean Squared Error:', metrics.mean_squared_error(y_test, y_pred))\r\n",
        "print('Root Mean Squared Error:', np.sqrt(metrics.mean_squared_error(y_test, y_pred)))"
      ],
      "execution_count": 39,
      "outputs": [
        {
          "output_type": "stream",
          "text": [
            "Mean Absolute Error: 49.203756556631184\n",
            "Mean Squared Error: 3673.2072706922686\n",
            "Root Mean Squared Error: 60.60699027911111\n"
          ],
          "name": "stdout"
        }
      ]
    },
    {
      "cell_type": "markdown",
      "metadata": {
        "id": "pF36aDOY9piD"
      },
      "source": [
        "**observation**\r\n",
        "\r\n",
        "The value of root mean squared error is 60.07, which is greater than 10% of the mean value, this means that our algorithm was not very accurate but can still make reasonably good predictions."
      ]
    },
    {
      "cell_type": "markdown",
      "metadata": {
        "id": "c2g8IIKbzA6a"
      },
      "source": [
        "### PART 8.3: Logistic_Regression_using_Sklearn"
      ]
    },
    {
      "cell_type": "code",
      "metadata": {
        "id": "iC0ULqTky6bE"
      },
      "source": [
        "# Run this cell if you are using scikit-learn for the first time\r\n",
        "# ! pip install -U scikit-learn"
      ],
      "execution_count": 40,
      "outputs": []
    },
    {
      "cell_type": "code",
      "metadata": {
        "id": "gXHZNImJy6YD"
      },
      "source": [
        "import pandas as pd\r\n",
        "from sklearn.model_selection import train_test_split\r\n",
        "from sklearn.linear_model import LogisticRegression\r\n",
        "from sklearn import metrics\r\n",
        "import matplotlib.pyplot as plt\r\n",
        "%matplotlib inline\r\n",
        "from sklearn.metrics import plot_confusion_matrix"
      ],
      "execution_count": 41,
      "outputs": []
    },
    {
      "cell_type": "code",
      "metadata": {
        "id": "HZDYwB63y6U9"
      },
      "source": [
        "#predict whether a person is diabetic or not\r\n",
        "dataset= pd.read_csv('sample_dataset.csv') # Dataset of diabities"
      ],
      "execution_count": 42,
      "outputs": []
    },
    {
      "cell_type": "code",
      "metadata": {
        "colab": {
          "base_uri": "https://localhost:8080/",
          "height": 195
        },
        "id": "E8AzWw3gzLIb",
        "outputId": "867f42ce-e158-4641-f0b5-4330329e4cf2"
      },
      "source": [
        "dataset.head(5)"
      ],
      "execution_count": 43,
      "outputs": [
        {
          "output_type": "execute_result",
          "data": {
            "text/html": [
              "<div>\n",
              "<style scoped>\n",
              "    .dataframe tbody tr th:only-of-type {\n",
              "        vertical-align: middle;\n",
              "    }\n",
              "\n",
              "    .dataframe tbody tr th {\n",
              "        vertical-align: top;\n",
              "    }\n",
              "\n",
              "    .dataframe thead th {\n",
              "        text-align: right;\n",
              "    }\n",
              "</style>\n",
              "<table border=\"1\" class=\"dataframe\">\n",
              "  <thead>\n",
              "    <tr style=\"text-align: right;\">\n",
              "      <th></th>\n",
              "      <th>Pregnancies</th>\n",
              "      <th>Glucose</th>\n",
              "      <th>BloodPressure</th>\n",
              "      <th>SkinThickness</th>\n",
              "      <th>Insulin</th>\n",
              "      <th>BMI</th>\n",
              "      <th>DiabetesPedigreeFunction</th>\n",
              "      <th>Age</th>\n",
              "      <th>Outcome</th>\n",
              "    </tr>\n",
              "  </thead>\n",
              "  <tbody>\n",
              "    <tr>\n",
              "      <th>0</th>\n",
              "      <td>6</td>\n",
              "      <td>148</td>\n",
              "      <td>72</td>\n",
              "      <td>35</td>\n",
              "      <td>0</td>\n",
              "      <td>33.6</td>\n",
              "      <td>0.627</td>\n",
              "      <td>50</td>\n",
              "      <td>1</td>\n",
              "    </tr>\n",
              "    <tr>\n",
              "      <th>1</th>\n",
              "      <td>1</td>\n",
              "      <td>85</td>\n",
              "      <td>66</td>\n",
              "      <td>29</td>\n",
              "      <td>0</td>\n",
              "      <td>26.6</td>\n",
              "      <td>0.351</td>\n",
              "      <td>31</td>\n",
              "      <td>0</td>\n",
              "    </tr>\n",
              "    <tr>\n",
              "      <th>2</th>\n",
              "      <td>8</td>\n",
              "      <td>183</td>\n",
              "      <td>64</td>\n",
              "      <td>0</td>\n",
              "      <td>0</td>\n",
              "      <td>23.3</td>\n",
              "      <td>0.672</td>\n",
              "      <td>32</td>\n",
              "      <td>1</td>\n",
              "    </tr>\n",
              "    <tr>\n",
              "      <th>3</th>\n",
              "      <td>1</td>\n",
              "      <td>89</td>\n",
              "      <td>66</td>\n",
              "      <td>23</td>\n",
              "      <td>94</td>\n",
              "      <td>28.1</td>\n",
              "      <td>0.167</td>\n",
              "      <td>21</td>\n",
              "      <td>0</td>\n",
              "    </tr>\n",
              "    <tr>\n",
              "      <th>4</th>\n",
              "      <td>0</td>\n",
              "      <td>137</td>\n",
              "      <td>40</td>\n",
              "      <td>35</td>\n",
              "      <td>168</td>\n",
              "      <td>43.1</td>\n",
              "      <td>2.288</td>\n",
              "      <td>33</td>\n",
              "      <td>1</td>\n",
              "    </tr>\n",
              "  </tbody>\n",
              "</table>\n",
              "</div>"
            ],
            "text/plain": [
              "   Pregnancies  Glucose  BloodPressure  ...  DiabetesPedigreeFunction  Age  Outcome\n",
              "0            6      148             72  ...                     0.627   50        1\n",
              "1            1       85             66  ...                     0.351   31        0\n",
              "2            8      183             64  ...                     0.672   32        1\n",
              "3            1       89             66  ...                     0.167   21        0\n",
              "4            0      137             40  ...                     2.288   33        1\n",
              "\n",
              "[5 rows x 9 columns]"
            ]
          },
          "metadata": {
            "tags": []
          },
          "execution_count": 43
        }
      ]
    },
    {
      "cell_type": "code",
      "metadata": {
        "colab": {
          "base_uri": "https://localhost:8080/"
        },
        "id": "WDM9Q45Fy6R6",
        "outputId": "a6fc3531-4c1e-4a1d-e1d6-6c3658164dfc"
      },
      "source": [
        "dataset.columns"
      ],
      "execution_count": 44,
      "outputs": [
        {
          "output_type": "execute_result",
          "data": {
            "text/plain": [
              "Index(['Pregnancies', 'Glucose', 'BloodPressure', 'SkinThickness', 'Insulin',\n",
              "       'BMI', 'DiabetesPedigreeFunction', 'Age', 'Outcome'],\n",
              "      dtype='object')"
            ]
          },
          "metadata": {
            "tags": []
          },
          "execution_count": 44
        }
      ]
    },
    {
      "cell_type": "code",
      "metadata": {
        "id": "56h_BPl-y6O6"
      },
      "source": [
        "independent_variables=['Pregnancies', 'Glucose', 'BloodPressure', 'SkinThickness', 'Insulin', 'BMI', 'DiabetesPedigreeFunction', 'Age']"
      ],
      "execution_count": 45,
      "outputs": []
    },
    {
      "cell_type": "code",
      "metadata": {
        "id": "WSu8l0kZzOrI"
      },
      "source": [
        "data= dataset[independent_variables] # Features\r\n",
        "label= dataset.Outcome # Target variable"
      ],
      "execution_count": 46,
      "outputs": []
    },
    {
      "cell_type": "code",
      "metadata": {
        "colab": {
          "base_uri": "https://localhost:8080/",
          "height": 136
        },
        "id": "mcHFNs0bzOoc",
        "outputId": "e6358fcd-3489-4cf2-bcbc-cb0c6cb83a47"
      },
      "source": [
        "data.head(3)"
      ],
      "execution_count": 47,
      "outputs": [
        {
          "output_type": "execute_result",
          "data": {
            "text/html": [
              "<div>\n",
              "<style scoped>\n",
              "    .dataframe tbody tr th:only-of-type {\n",
              "        vertical-align: middle;\n",
              "    }\n",
              "\n",
              "    .dataframe tbody tr th {\n",
              "        vertical-align: top;\n",
              "    }\n",
              "\n",
              "    .dataframe thead th {\n",
              "        text-align: right;\n",
              "    }\n",
              "</style>\n",
              "<table border=\"1\" class=\"dataframe\">\n",
              "  <thead>\n",
              "    <tr style=\"text-align: right;\">\n",
              "      <th></th>\n",
              "      <th>Pregnancies</th>\n",
              "      <th>Glucose</th>\n",
              "      <th>BloodPressure</th>\n",
              "      <th>SkinThickness</th>\n",
              "      <th>Insulin</th>\n",
              "      <th>BMI</th>\n",
              "      <th>DiabetesPedigreeFunction</th>\n",
              "      <th>Age</th>\n",
              "    </tr>\n",
              "  </thead>\n",
              "  <tbody>\n",
              "    <tr>\n",
              "      <th>0</th>\n",
              "      <td>6</td>\n",
              "      <td>148</td>\n",
              "      <td>72</td>\n",
              "      <td>35</td>\n",
              "      <td>0</td>\n",
              "      <td>33.6</td>\n",
              "      <td>0.627</td>\n",
              "      <td>50</td>\n",
              "    </tr>\n",
              "    <tr>\n",
              "      <th>1</th>\n",
              "      <td>1</td>\n",
              "      <td>85</td>\n",
              "      <td>66</td>\n",
              "      <td>29</td>\n",
              "      <td>0</td>\n",
              "      <td>26.6</td>\n",
              "      <td>0.351</td>\n",
              "      <td>31</td>\n",
              "    </tr>\n",
              "    <tr>\n",
              "      <th>2</th>\n",
              "      <td>8</td>\n",
              "      <td>183</td>\n",
              "      <td>64</td>\n",
              "      <td>0</td>\n",
              "      <td>0</td>\n",
              "      <td>23.3</td>\n",
              "      <td>0.672</td>\n",
              "      <td>32</td>\n",
              "    </tr>\n",
              "  </tbody>\n",
              "</table>\n",
              "</div>"
            ],
            "text/plain": [
              "   Pregnancies  Glucose  BloodPressure  ...   BMI  DiabetesPedigreeFunction  Age\n",
              "0            6      148             72  ...  33.6                     0.627   50\n",
              "1            1       85             66  ...  26.6                     0.351   31\n",
              "2            8      183             64  ...  23.3                     0.672   32\n",
              "\n",
              "[3 rows x 8 columns]"
            ]
          },
          "metadata": {
            "tags": []
          },
          "execution_count": 47
        }
      ]
    },
    {
      "cell_type": "code",
      "metadata": {
        "colab": {
          "base_uri": "https://localhost:8080/"
        },
        "id": "h5WPETDazOlX",
        "outputId": "879b32ba-35ad-42f7-9a4c-c5cb7502097f"
      },
      "source": [
        "label.head(3)"
      ],
      "execution_count": 48,
      "outputs": [
        {
          "output_type": "execute_result",
          "data": {
            "text/plain": [
              "0    1\n",
              "1    0\n",
              "2    1\n",
              "Name: Outcome, dtype: int64"
            ]
          },
          "metadata": {
            "tags": []
          },
          "execution_count": 48
        }
      ]
    },
    {
      "cell_type": "code",
      "metadata": {
        "id": "lHEhF5wxzOig"
      },
      "source": [
        "# split X and y into training and testing sets\r\n",
        "train_data,test_data, train_label,test_label=train_test_split(data,label,test_size=0.20)"
      ],
      "execution_count": 49,
      "outputs": []
    },
    {
      "cell_type": "code",
      "metadata": {
        "colab": {
          "base_uri": "https://localhost:8080/"
        },
        "id": "V2Xek0zvzOgC",
        "outputId": "e0f77dd0-af2c-4429-c6ad-9c86ec61e41f"
      },
      "source": [
        "train_data.shape, test_data.shape, train_label.shape, test_label.shape"
      ],
      "execution_count": 50,
      "outputs": [
        {
          "output_type": "execute_result",
          "data": {
            "text/plain": [
              "((614, 8), (154, 8), (614,), (154,))"
            ]
          },
          "metadata": {
            "tags": []
          },
          "execution_count": 50
        }
      ]
    },
    {
      "cell_type": "code",
      "metadata": {
        "colab": {
          "base_uri": "https://localhost:8080/"
        },
        "id": "-sPeRiqKzOdP",
        "outputId": "669303ef-9db1-49ef-8ee6-31f14a31cd59"
      },
      "source": [
        "# instantiate the model (using the default parameters)\r\n",
        "regressor= LogisticRegression()\r\n",
        "# fit the model with data\r\n",
        "regressor.fit(train_data, train_label)\r\n",
        "# predicting model's performancce on test data\r\n",
        "predicted_test_label=regressor.predict(test_data)"
      ],
      "execution_count": 51,
      "outputs": [
        {
          "output_type": "stream",
          "text": [
            "/usr/local/lib/python3.6/dist-packages/sklearn/linear_model/_logistic.py:940: ConvergenceWarning: lbfgs failed to converge (status=1):\n",
            "STOP: TOTAL NO. of ITERATIONS REACHED LIMIT.\n",
            "\n",
            "Increase the number of iterations (max_iter) or scale the data as shown in:\n",
            "    https://scikit-learn.org/stable/modules/preprocessing.html\n",
            "Please also refer to the documentation for alternative solver options:\n",
            "    https://scikit-learn.org/stable/modules/linear_model.html#logistic-regression\n",
            "  extra_warning_msg=_LOGISTIC_SOLVER_CONVERGENCE_MSG)\n"
          ],
          "name": "stderr"
        }
      ]
    },
    {
      "cell_type": "code",
      "metadata": {
        "colab": {
          "base_uri": "https://localhost:8080/"
        },
        "id": "Vcg-hJJFzdIk",
        "outputId": "af607503-5033-4b11-a2b6-c74ce0f909ba"
      },
      "source": [
        "confusion_matrix= metrics.confusion_matrix(test_label, predicted_test_label)\r\n",
        "confusion_matrix"
      ],
      "execution_count": 52,
      "outputs": [
        {
          "output_type": "execute_result",
          "data": {
            "text/plain": [
              "array([[89,  6],\n",
              "       [27, 32]])"
            ]
          },
          "metadata": {
            "tags": []
          },
          "execution_count": 52
        }
      ]
    },
    {
      "cell_type": "markdown",
      "metadata": {
        "id": "Umwf_kt2zo3c"
      },
      "source": [
        "Evaluation Paramters : Confusion Matrix\r\n",
        "\r\n",
        "![image.png](data:image/png;base64,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)"
      ]
    },
    {
      "cell_type": "code",
      "metadata": {
        "colab": {
          "base_uri": "https://localhost:8080/",
          "height": 296
        },
        "id": "LBsZ-5XNzdFK",
        "outputId": "2d09bb40-ab49-413e-8aed-bc2a6982821f"
      },
      "source": [
        "plot_confusion_matrix(regressor, test_data, test_label)\r\n",
        "# TruePositive , True Negative, False Positive, False Negative"
      ],
      "execution_count": 53,
      "outputs": [
        {
          "output_type": "execute_result",
          "data": {
            "text/plain": [
              "<sklearn.metrics._plot.confusion_matrix.ConfusionMatrixDisplay at 0x7f3cfc9ad780>"
            ]
          },
          "metadata": {
            "tags": []
          },
          "execution_count": 53
        },
        {
          "output_type": "display_data",
          "data": {
            "image/png": "[encoded data removed]",
            "text/plain": [
              "<Figure size 432x288 with 2 Axes>"
            ]
          },
          "metadata": {
            "tags": [],
            "needs_background": "light"
          }
        }
      ]
    },
    {
      "cell_type": "code",
      "metadata": {
        "colab": {
          "base_uri": "https://localhost:8080/"
        },
        "id": "d8rmhM9qzdBl",
        "outputId": "9ec77160-d076-4130-fc0b-56e42ccedf9b"
      },
      "source": [
        "print(\"Accuracy:\",metrics.accuracy_score(test_label, predicted_test_label))\r\n",
        "print(\"Precision:\",metrics.precision_score(test_label, predicted_test_label))\r\n",
        "print(\"Recall:\",metrics.recall_score(test_label, predicted_test_label))"
      ],
      "execution_count": 54,
      "outputs": [
        {
          "output_type": "stream",
          "text": [
            "Accuracy: 0.7857142857142857\n",
            "Precision: 0.8421052631578947\n",
            "Recall: 0.5423728813559322\n"
          ],
          "name": "stdout"
        }
      ]
    },
    {
      "cell_type": "code",
      "metadata": {
        "colab": {
          "base_uri": "https://localhost:8080/",
          "height": 265
        },
        "id": "clPXD0LQzc-s",
        "outputId": "fdae7a49-00f1-48e0-8ff9-08cf0020d5d6"
      },
      "source": [
        "test_predictions= regressor.predict_proba(test_data)[::,1]\r\n",
        "fpr, tpr, _ = metrics.roc_curve(test_label, test_predictions)\r\n",
        "auc = metrics.roc_auc_score(test_label, test_predictions)\r\n",
        "plt.plot(fpr,tpr,label=\"data 1, auc=\"+str(auc))\r\n",
        "plt.legend(loc=4)\r\n",
        "plt.show()"
      ],
      "execution_count": 55,
      "outputs": [
        {
          "output_type": "display_data",
          "data": {
            "image/png": "[encoded data removed]",
            "text/plain": [
              "<Figure size 432x288 with 1 Axes>"
            ]
          },
          "metadata": {
            "tags": [],
            "needs_background": "light"
          }
        }
      ]
    },
    {
      "cell_type": "markdown",
      "metadata": {
        "id": "5tQUlPUeFbXr"
      },
      "source": [
        "**observation**\r\n",
        "\r\n",
        "1.Glucose level, BMI, pregnancies and diabetes pedigree function have significant influence on the model, specially glucose level and BMI\r\n",
        "\r\n",
        "2.Blood pressure has a negative influence on the prediction i.e. higher blood pressure is correlated with a person not being diabetic."
      ]
    }
  ]
}