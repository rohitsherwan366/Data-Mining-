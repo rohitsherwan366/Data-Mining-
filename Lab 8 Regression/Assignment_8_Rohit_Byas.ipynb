{
  "nbformat": 4,
  "nbformat_minor": 0,
  "metadata": {
    "kernelspec": {
      "display_name": "Python 3.7.4 64-bit ('base': conda)",
      "language": "python",
      "name": "python37464bitbasecondaa77135e439c84304aed284b310916cd9"
    },
    "language_info": {
      "codemirror_mode": {
        "name": "ipython",
        "version": 3
      },
      "file_extension": ".py",
      "mimetype": "text/x-python",
      "name": "python",
      "nbconvert_exporter": "python",
      "pygments_lexer": "ipython3",
      "version": "3.7.8"
    },
    "colab": {
      "name": "Assignment_8_Rohit_Byas.ipynb",
      "provenance": []
    }
  },
  "cells": [
    {
      "cell_type": "markdown",
      "metadata": {
        "id": "lwjwVI8yr7Mw"
      },
      "source": [
        "# CSL558: Machine Learning\n",
        "\n",
        "Instructor : [Dr. Chandra Prakash]\n",
        "\n",
        "For more information visit the class website (https://cprakash86.wordpress.com/ml/)\n",
        "\n",
        "# Assignment 8:\n",
        "\n",
        "**Due Date: 7-March-2021**\n",
        "\n",
        "**Student Name: Rohit Byas sherwan**\n",
        "\n",
        "\n",
        "## Assignment Instructions\n",
        "\n",
        "You must save your as Assignment_NO_Yourname\n",
        "\n",
        "### Agenda for the Assignment 8\n",
        "\n",
        "1. Understand the working of the Linear Regression :\n",
        "\n",
        "2. Tradition Machine Learning Techniques :\n",
        "\n",
        "Your source file will most likely end in .pynb if you are using a Jupyter notebook; however, it might also end\n",
        "in .py if you are using a Python script.\n",
        "\n",
        "You have to add your name and roll no in the Google Colab Instructions section below and print it.\n",
        "\n",
        "### Google CoLab Instructions\n",
        "\n",
        "The following code ensures that Google CoLab is running the correct version of TensorFlow."
      ]
    },
    {
      "cell_type": "code",
      "metadata": {
        "colab": {
          "base_uri": "https://localhost:8080/"
        },
        "id": "nbvV3BxWr7M3",
        "outputId": "ca3e0147-2ba8-4f2e-bd0c-962ab6083b2f"
      },
      "source": [
        "try:\n",
        " from google.colab import drive\n",
        " %tensorflow_version 2.x\n",
        " COLAB = True\n",
        " print(\"Assignment 8\")\n",
        " print(\"Note: using Google CoLab\")\n",
        "except:\n",
        " print(\"Assignment 8\")\n",
        " print(\"Note: not using Google CoLab\")\n",
        " COLAB = False\n",
        "\n",
        "# Print your name and Roll No.\n",
        "print('rohit byas ')\n",
        "print('181210043')\n",
        "# Print the curent time \n",
        "import datetime\n",
        "print(datetime.datetime.now())"
      ],
      "execution_count": 1,
      "outputs": [
        {
          "output_type": "stream",
          "text": [
            "Assignment 8\n",
            "Note: using Google CoLab\n",
            "Rohit byas \n",
            "181210043\n",
            "2021-03-14 17:02:23.763941\n"
          ],
          "name": "stdout"
        }
      ]
    },
    {
      "cell_type": "code",
      "metadata": {
        "id": "hUDHXqzZr7M2"
      },
      "source": [
        "# importing required libraries\n",
        "import numpy as np\n",
        "import pandas as pd\n",
        "from sklearn.datasets import make_classification\n",
        "import matplotlib.pyplot as plt\n",
        "import seaborn as sns"
      ],
      "execution_count": null,
      "outputs": []
    },
    {
      "cell_type": "markdown",
      "metadata": {
        "id": "1PrdqIGAr7M5"
      },
      "source": [
        "## Part A: Linear Regression from scratch\n",
        "\n",
        "### Task 1:  Derive the equations for regression on the slide no 29, Regression.pdf \n",
        "\n",
        "#### Upload your handwritten file as PDF\n"
      ]
    },
    {
      "cell_type": "code",
      "metadata": {
        "colab": {
          "base_uri": "https://localhost:8080/"
        },
        "id": "O5CEQuikr7M5",
        "outputId": "d10ee791-bf63-4f82-a788-88eae2ee14ab"
      },
      "source": [
        "## Submission Status over Microsoft [ Yes/No]\n",
        "print('Yes')"
      ],
      "execution_count": 7,
      "outputs": [
        {
          "output_type": "stream",
          "text": [
            "Yes\n"
          ],
          "name": "stdout"
        }
      ]
    },
    {
      "cell_type": "code",
      "metadata": {
        "id": "QQh9JRTqr7M6"
      },
      "source": [
        "# Write a function for the caluclate the cost\n",
        "def calculate_cost(slope, intercept, data):\n",
        "    \n",
        "    # from data extract features and target values\n",
        "    X = np.array([i[0] for i in data])\n",
        "    y = np.array([i[1] for i in data])\n",
        "    m = X.shape[0]\n",
        "    h = X*slope + intercept\n",
        "    \n",
        "    # calculate the final cost\n",
        "    total_cost = (1/(2*m))*(np.sum(np.square(h-y)))\n",
        "    \n",
        "    return total_cost"
      ],
      "execution_count": 8,
      "outputs": []
    },
    {
      "cell_type": "code",
      "metadata": {
        "id": "vqUAluZyr7M7"
      },
      "source": [
        "# Write a function for the caluclate the slope\n",
        "def calculate_slope(slope, y_intercept, data,learning_rate):\n",
        "    # extract all the features and target values from data\n",
        "    X = np.array([i[0] for i in data])\n",
        "    y = np.array([i[1] for i in data])\n",
        "    m = X.shape[0]  \n",
        "    h = X*slope + y_intercept\n",
        "    # Slope of the line is getting updated below\n",
        "    slope = slope - learning_rate*(1/m)* np.sum((h-y)*X)\n",
        "    # returning the updated slope\n",
        "    return slope"
      ],
      "execution_count": 9,
      "outputs": []
    },
    {
      "cell_type": "code",
      "metadata": {
        "id": "BtE9c1xLr7M7"
      },
      "source": [
        "# Write a function for the caluclate the slope\n",
        "def calculate_intercept(slope, y_intercept, data,learning_rate):\n",
        "    # from data extracting features and target values\n",
        "    X = np.array([i[0] for i in data])\n",
        "    y = np.array([i[1] for i in data])\n",
        "    # size of data\n",
        "    m = X.shape[0]\n",
        "    # hypothesis\n",
        "    h = X*slope + y_intercept\n",
        "    \n",
        "    # updating the y_intercept\n",
        "    y_intercept = y_intercept - learning_rate*(1/m)* np.sum((h-y))\n",
        "\n",
        "    return y_intercept"
      ],
      "execution_count": 10,
      "outputs": []
    },
    {
      "cell_type": "code",
      "metadata": {
        "colab": {
          "base_uri": "https://localhost:8080/",
          "height": 334
        },
        "id": "O4969u26r7M7",
        "outputId": "1418fdda-6a97-43c4-a4fe-409ee8341399"
      },
      "source": [
        "# Generate data randomely\n",
        "data=[]\n",
        "for x in range(111):\n",
        "    data.append((x,x))\n",
        "slope=0\n",
        "y_intercept=0\n",
        "cost=calculate_cost(slope, y_intercept, data)\n",
        "print(cost)"
      ],
      "execution_count": 11,
      "outputs": [
        {
          "output_type": "error",
          "ename": "NameError",
          "evalue": "ignored",
          "traceback": [
            "\u001b[0;31m---------------------------------------------------------------------------\u001b[0m",
            "\u001b[0;31mNameError\u001b[0m                                 Traceback (most recent call last)",
            "\u001b[0;32m<ipython-input-11-e1b26793a50e>\u001b[0m in \u001b[0;36m<module>\u001b[0;34m()\u001b[0m\n\u001b[1;32m      5\u001b[0m \u001b[0mslope\u001b[0m\u001b[0;34m=\u001b[0m\u001b[0;36m0\u001b[0m\u001b[0;34m\u001b[0m\u001b[0;34m\u001b[0m\u001b[0m\n\u001b[1;32m      6\u001b[0m \u001b[0my_intercept\u001b[0m\u001b[0;34m=\u001b[0m\u001b[0;36m0\u001b[0m\u001b[0;34m\u001b[0m\u001b[0;34m\u001b[0m\u001b[0m\n\u001b[0;32m----> 7\u001b[0;31m \u001b[0mcost\u001b[0m\u001b[0;34m=\u001b[0m\u001b[0mcalculate_cost\u001b[0m\u001b[0;34m(\u001b[0m\u001b[0mslope\u001b[0m\u001b[0;34m,\u001b[0m \u001b[0my_intercept\u001b[0m\u001b[0;34m,\u001b[0m \u001b[0mdata\u001b[0m\u001b[0;34m)\u001b[0m\u001b[0;34m\u001b[0m\u001b[0;34m\u001b[0m\u001b[0m\n\u001b[0m\u001b[1;32m      8\u001b[0m \u001b[0mprint\u001b[0m\u001b[0;34m(\u001b[0m\u001b[0mcost\u001b[0m\u001b[0;34m)\u001b[0m\u001b[0;34m\u001b[0m\u001b[0;34m\u001b[0m\u001b[0m\n",
            "\u001b[0;32m<ipython-input-8-a6c680bfbe82>\u001b[0m in \u001b[0;36mcalculate_cost\u001b[0;34m(slope, intercept, data)\u001b[0m\n\u001b[1;32m      3\u001b[0m \u001b[0;34m\u001b[0m\u001b[0m\n\u001b[1;32m      4\u001b[0m     \u001b[0;31m# from data extract features and target values\u001b[0m\u001b[0;34m\u001b[0m\u001b[0;34m\u001b[0m\u001b[0;34m\u001b[0m\u001b[0m\n\u001b[0;32m----> 5\u001b[0;31m     \u001b[0mX\u001b[0m \u001b[0;34m=\u001b[0m \u001b[0mnp\u001b[0m\u001b[0;34m.\u001b[0m\u001b[0marray\u001b[0m\u001b[0;34m(\u001b[0m\u001b[0;34m[\u001b[0m\u001b[0mi\u001b[0m\u001b[0;34m[\u001b[0m\u001b[0;36m0\u001b[0m\u001b[0;34m]\u001b[0m \u001b[0;32mfor\u001b[0m \u001b[0mi\u001b[0m \u001b[0;32min\u001b[0m \u001b[0mdata\u001b[0m\u001b[0;34m]\u001b[0m\u001b[0;34m)\u001b[0m\u001b[0;34m\u001b[0m\u001b[0;34m\u001b[0m\u001b[0m\n\u001b[0m\u001b[1;32m      6\u001b[0m     \u001b[0my\u001b[0m \u001b[0;34m=\u001b[0m \u001b[0mnp\u001b[0m\u001b[0;34m.\u001b[0m\u001b[0marray\u001b[0m\u001b[0;34m(\u001b[0m\u001b[0;34m[\u001b[0m\u001b[0mi\u001b[0m\u001b[0;34m[\u001b[0m\u001b[0;36m1\u001b[0m\u001b[0;34m]\u001b[0m \u001b[0;32mfor\u001b[0m \u001b[0mi\u001b[0m \u001b[0;32min\u001b[0m \u001b[0mdata\u001b[0m\u001b[0;34m]\u001b[0m\u001b[0;34m)\u001b[0m\u001b[0;34m\u001b[0m\u001b[0;34m\u001b[0m\u001b[0m\n\u001b[1;32m      7\u001b[0m     \u001b[0mm\u001b[0m \u001b[0;34m=\u001b[0m \u001b[0mX\u001b[0m\u001b[0;34m.\u001b[0m\u001b[0mshape\u001b[0m\u001b[0;34m[\u001b[0m\u001b[0;36m0\u001b[0m\u001b[0;34m]\u001b[0m\u001b[0;34m\u001b[0m\u001b[0;34m\u001b[0m\u001b[0m\n",
            "\u001b[0;31mNameError\u001b[0m: name 'np' is not defined"
          ]
        }
      ]
    },
    {
      "cell_type": "code",
      "metadata": {
        "colab": {
          "base_uri": "https://localhost:8080/",
          "height": 232
        },
        "id": "B-oObdEkr7M8",
        "outputId": "24de4bc1-4734-4508-a568-a4b1d94dd461"
      },
      "source": [
        "learning_rate=0.00001\n",
        "previous_cost=cost+1\n",
        "\n",
        "# we can train data for 50 iteration\n",
        "iterations = 50\n",
        "while iterations>0 : #TODO:\n",
        "    iterations-=1\n",
        "\n",
        "    new_slope=calculate_slope(slope, y_intercept, data,learning_rate)\n",
        "    new_y_intercept=calculate_intercept(slope, y_intercept, data,learning_rate)\n",
        "    previous_cost=cost\n",
        "    slope=new_slope\n",
        "    y_intercept=new_y_intercept\n",
        "    cost=calculate_cost(slope, y_intercept, data)\n",
        "print('cost:',cost)\n",
        "print('slope:',slope)\n",
        "print('y_intercept:',y_intercept)"
      ],
      "execution_count": 12,
      "outputs": [
        {
          "output_type": "error",
          "ename": "NameError",
          "evalue": "ignored",
          "traceback": [
            "\u001b[0;31m---------------------------------------------------------------------------\u001b[0m",
            "\u001b[0;31mNameError\u001b[0m                                 Traceback (most recent call last)",
            "\u001b[0;32m<ipython-input-12-59862f94f84d>\u001b[0m in \u001b[0;36m<module>\u001b[0;34m()\u001b[0m\n\u001b[1;32m      1\u001b[0m \u001b[0mlearning_rate\u001b[0m\u001b[0;34m=\u001b[0m\u001b[0;36m0.00001\u001b[0m\u001b[0;34m\u001b[0m\u001b[0;34m\u001b[0m\u001b[0m\n\u001b[0;32m----> 2\u001b[0;31m \u001b[0mprevious_cost\u001b[0m\u001b[0;34m=\u001b[0m\u001b[0mcost\u001b[0m\u001b[0;34m+\u001b[0m\u001b[0;36m1\u001b[0m\u001b[0;34m\u001b[0m\u001b[0;34m\u001b[0m\u001b[0m\n\u001b[0m\u001b[1;32m      3\u001b[0m \u001b[0;34m\u001b[0m\u001b[0m\n\u001b[1;32m      4\u001b[0m \u001b[0;31m# we can train data for 50 iteration\u001b[0m\u001b[0;34m\u001b[0m\u001b[0;34m\u001b[0m\u001b[0;34m\u001b[0m\u001b[0m\n\u001b[1;32m      5\u001b[0m \u001b[0miterations\u001b[0m \u001b[0;34m=\u001b[0m \u001b[0;36m50\u001b[0m\u001b[0;34m\u001b[0m\u001b[0;34m\u001b[0m\u001b[0m\n",
            "\u001b[0;31mNameError\u001b[0m: name 'cost' is not defined"
          ]
        }
      ]
    },
    {
      "cell_type": "markdown",
      "metadata": {
        "id": "awIqUnVYr7M9"
      },
      "source": [
        "## PART B : Logistic Regression\n",
        "\n",
        "Logistic regression is used when the response variable is categorical in nature. The name is taken from the\n",
        "linear regression only. The logistic term is used because it uses the logistic function as tranfer function.\n",
        "\n",
        "Linear regression is suitable for predicting output that is continuous value, such as predicting the price of a\n",
        "property. Its prediction output can be any real number, range from negative infinity to infinity. The regression\n",
        "line is generally a straight line.\n",
        "\n",
        "Whereas logistic regression is for classification problems, which predicts a probability range between 0 to 1.\n",
        "For example, predict whether a customer will make a purchase or not. The regression line is a sigmoid curve.\n",
        "\n",
        "Why linear regression is not suitable for Classification:\n",
        "- the predicted value is continuous, not probabilistic\n",
        "\n",
        "- Sensitive to imbalance data when using linear regression for classification\n",
        "\n",
        "Probalistic model in Linear regression is Gaussian while in Logistic regression is binomial distribution\n",
        "\n",
        "3 steps in Logistic Regression\n",
        "1. Sigmoid Function\n",
        "2. Cost Function / Loss function\n",
        "3. Gradient Descent"
      ]
    },
    {
      "cell_type": "code",
      "metadata": {
        "id": "6vBbeOpfr7M9"
      },
      "source": [
        "# 1. Sigmoid Function\n",
        "def sigmoid(x):\n",
        "\n",
        "    return 1/(1 + np.exp(-x)) "
      ],
      "execution_count": null,
      "outputs": []
    },
    {
      "cell_type": "code",
      "metadata": {
        "id": "s_z_cnBDr7M-"
      },
      "source": [
        "#2 Cost Function - Write a function for the caluclate the cost\n",
        "def compute_cost(X, y, theta):\n",
        "    \n",
        "    # data size\n",
        "    m = X.shape[0]\n",
        "    \n",
        "    # hypothesis function\n",
        "    h = sigmoid(X @ theta)\n",
        "    \n",
        "    # final cost\n",
        "    cost = -1*(1/m)*(y.T@np.log(h)+(1-y).T@np.log(1-h))\n",
        "    \n",
        "    return cost"
      ],
      "execution_count": null,
      "outputs": []
    },
    {
      "cell_type": "code",
      "metadata": {
        "id": "MIPld4-hr7M-"
      },
      "source": [
        "def gradient_descent(X, y, params, learning_rate, iterations):\n",
        "    m = len(y)\n",
        "    cost_history = np.zeros((iterations,1))\n",
        "    # using for loops on iterations\n",
        "    for i in range(iterations):\n",
        "        params = params - (learning_rate/m) * (X.T @ (sigmoid(X @ params) - y)) \n",
        "        cost_history[i] = compute_cost(X, y, params)\n",
        "\n",
        "    return (cost_history, params)"
      ],
      "execution_count": null,
      "outputs": []
    },
    {
      "cell_type": "code",
      "metadata": {
        "id": "3BuA5jslr7M-"
      },
      "source": [
        "def predict(X, params):\n",
        "    return np.round(sigmoid(X @ params))"
      ],
      "execution_count": null,
      "outputs": []
    },
    {
      "cell_type": "code",
      "metadata": {
        "id": "tR5BomZTr7M_"
      },
      "source": [
        "?make_classification"
      ],
      "execution_count": null,
      "outputs": []
    },
    {
      "cell_type": "code",
      "metadata": {
        "id": "BraavUM4r7NA"
      },
      "source": [
        "# Generating artificail data sets\n",
        "X, y = make_classification(n_samples=500, n_features=2, n_redundant=0, n_informative=1,\n",
        "                             n_clusters_per_class=1, random_state=14)\n",
        "\n",
        "y = y[:,np.newaxis]"
      ],
      "execution_count": null,
      "outputs": []
    },
    {
      "cell_type": "code",
      "metadata": {
        "colab": {
          "base_uri": "https://localhost:8080/",
          "height": 497
        },
        "id": "LhVyf3CZr7NA",
        "outputId": "17d685a2-c7e7-44a3-c861-7647ce7c3c52"
      },
      "source": [
        "m = len(y)\n",
        "\n",
        "print(f\"init shape of X {X.shape}\")\n",
        "X = np.hstack((np.ones((m,1)),X))\n",
        "n = np.size(X,1)\n",
        "params = np.zeros((n,1))\n",
        "print(f\"after padding shape of X {X.shape}\")\n",
        "print(f\"shape of parms {params.shape}\")\n",
        "print(f\"shape of y {y.shape}\")\n",
        "\n",
        "iterations = 1500\n",
        "learning_rate = 0.03\n",
        "\n",
        "initial_cost = compute_cost(X, y, params)\n",
        "\n",
        "print(\"Initial Cost is: {} \\n\".format(initial_cost))\n",
        "\n",
        "(cost_history, params_optimal) = gradient_descent(X, y, params, learning_rate, iterations)\n",
        "\n",
        "print(\"Optimal Parameters are: \\n\", params_optimal, \"\\n\")\n",
        "\n",
        "plt.figure()\n",
        "sns.set_style('white')\n",
        "plt.plot(range(len(cost_history)), cost_history, 'r')\n",
        "plt.title(\"Convergence Graph of Cost Function\")\n",
        "plt.xlabel(\"Number of Iterations\")\n",
        "plt.ylabel(\"Cost\")\n",
        "plt.show()"
      ],
      "execution_count": null,
      "outputs": [
        {
          "output_type": "stream",
          "text": [
            "init shape of X (500, 2)\n",
            "after padding shape of X (500, 3)\n",
            "shape of parms (3, 1)\n",
            "shape of y (500, 1)\n",
            "Initial Cost is: [[0.69314718]] \n",
            "\n",
            "Optimal Parameters are: \n",
            " [[-0.45293068]\n",
            " [ 3.26552327]\n",
            " [ 0.03334871]] \n",
            "\n"
          ],
          "name": "stdout"
        },
        {
          "output_type": "display_data",
          "data": {
            "image/png": "[encoded data removed]",
            "text/plain": [
              "<Figure size 432x288 with 1 Axes>"
            ]
          },
          "metadata": {
            "tags": [],
            "needs_background": "light"
          }
        }
      ]
    },
    {
      "cell_type": "code",
      "metadata": {
        "colab": {
          "base_uri": "https://localhost:8080/"
        },
        "id": "EoaK_Lmbr7NA",
        "outputId": "180e8e29-736a-4878-cb10-b477be63dfe2"
      },
      "source": [
        "y_pred = predict(X, params_optimal)\n",
        "score = float(sum(y_pred == y))/ float(len(y))\n",
        "print(score)"
      ],
      "execution_count": null,
      "outputs": [
        {
          "output_type": "stream",
          "text": [
            "0.966\n"
          ],
          "name": "stdout"
        }
      ]
    },
    {
      "cell_type": "code",
      "metadata": {
        "scrolled": true,
        "colab": {
          "base_uri": "https://localhost:8080/",
          "height": 322
        },
        "id": "uZyT2rOIr7NA",
        "outputId": "c175b8ad-fa04-44c2-f90a-01db83b86755"
      },
      "source": [
        "slope = -(params_optimal[1] / params_optimal[2])\n",
        "intercept = -(params_optimal[0] / params_optimal[2])\n",
        "sns.set_style('white')\n",
        "sns.scatterplot(X[:,1],X[:,2],hue=y.reshape(-1));\n",
        "ax = plt.gca()\n",
        "ax.autoscale(False)\n",
        "x_vals = np.array(ax.get_xlim())\n",
        "y_vals = intercept + (slope * x_vals)\n",
        "plt.plot(x_vals, y_vals, c=\"k\");"
      ],
      "execution_count": null,
      "outputs": [
        {
          "output_type": "stream",
          "text": [
            "/usr/local/lib/python3.7/dist-packages/seaborn/_decorators.py:43: FutureWarning: Pass the following variables as keyword args: x, y. From version 0.12, the only valid positional argument will be `data`, and passing other arguments without an explicit keyword will result in an error or misinterpretation.\n",
            "  FutureWarning\n"
          ],
          "name": "stderr"
        },
        {
          "output_type": "display_data",
          "data": {
            "image/png": "[encoded data removed]",
            "text/plain": [
              "<Figure size 432x288 with 1 Axes>"
            ]
          },
          "metadata": {
            "tags": []
          }
        }
      ]
    },
    {
      "cell_type": "markdown",
      "metadata": {
        "id": "YP6OULbAr7NA"
      },
      "source": [
        "## PART C : Traditional ML Techniques over MNIT Gait Dataset\n",
        "\n",
        "Take the filtered Gait Dataset from the Assignment 4. You need to apply the traditional ML techniques for the\n",
        "analysis of the this dataset.\n",
        "\n",
        "Objective 1: Predict the age from the rest of features in the dataset in [Task 2] .\n",
        "\n",
        "Objective 2: Identify the gender from the rest of the features in the dataset in [Task 3] .\n",
        "\n",
        "Objective 3: Predict the knee angle for the next gait cycle [Task 4] .\n",
        "\n",
        "### Task 1: Data reading and package setup\n",
        "\n",
        "1. Read Analysis_MNIT_database.xlsx. and import the packages"
      ]
    },
    {
      "cell_type": "code",
      "metadata": {
        "id": "tIBy7w-nr7NB"
      },
      "source": [
        "# importing general libraries for data analytics\n",
        "from sklearn.model_selection import train_test_split\n",
        "from sklearn.preprocessing import StandardScaler\n",
        "from sklearn.linear_model import LinearRegression\n",
        "from sklearn import metrics\n",
        "from sklearn.linear_model import LogisticRegression\n",
        "from sklearn.metrics import plot_confusion_matrix\n",
        "%matplotlib inline"
      ],
      "execution_count": null,
      "outputs": []
    },
    {
      "cell_type": "code",
      "metadata": {
        "colab": {
          "base_uri": "https://localhost:8080/",
          "height": 459
        },
        "id": "1IKUw4aPr7NB",
        "outputId": "275697a8-1e7f-4f42-9835-287e955c426a"
      },
      "source": [
        "# reading the dataset from Analysis_MNIT.xlsx\n",
        "df = pd.read_excel('Analysis_MNIT.xlsx')\n",
        "df.drop(columns=[df.columns[0]], inplace=True)\n",
        "\n",
        "df"
      ],
      "execution_count": null,
      "outputs": [
        {
          "output_type": "execute_result",
          "data": {
            "text/html": [
              "<div>\n",
              "<style scoped>\n",
              "    .dataframe tbody tr th:only-of-type {\n",
              "        vertical-align: middle;\n",
              "    }\n",
              "\n",
              "    .dataframe tbody tr th {\n",
              "        vertical-align: top;\n",
              "    }\n",
              "\n",
              "    .dataframe thead th {\n",
              "        text-align: right;\n",
              "    }\n",
              "</style>\n",
              "<table border=\"1\" class=\"dataframe\">\n",
              "  <thead>\n",
              "    <tr style=\"text-align: right;\">\n",
              "      <th></th>\n",
              "      <th>Subject #</th>\n",
              "      <th>Age (Year)</th>\n",
              "      <th>Height (m)</th>\n",
              "      <th>Weight (Kg)</th>\n",
              "      <th>BMI</th>\n",
              "      <th>Leg Length (m)</th>\n",
              "      <th>Thigh Length (m)</th>\n",
              "      <th>Calf Length</th>\n",
              "      <th>Mallelous height -L</th>\n",
              "      <th>Foot Length (cM)</th>\n",
              "      <th>Shoe No</th>\n",
              "      <th>Waist width (inches)</th>\n",
              "      <th>Bi-illiac width (m)</th>\n",
              "      <th>Gender_0</th>\n",
              "      <th>Gender_1</th>\n",
              "    </tr>\n",
              "  </thead>\n",
              "  <tbody>\n",
              "    <tr>\n",
              "      <th>0</th>\n",
              "      <td>S21</td>\n",
              "      <td>30</td>\n",
              "      <td>1.740</td>\n",
              "      <td>61.0</td>\n",
              "      <td>20.147972</td>\n",
              "      <td>0.930</td>\n",
              "      <td>0.52</td>\n",
              "      <td>0.410</td>\n",
              "      <td>0.078103</td>\n",
              "      <td>0.260</td>\n",
              "      <td>8</td>\n",
              "      <td>31.0</td>\n",
              "      <td>0.79</td>\n",
              "      <td>0</td>\n",
              "      <td>1</td>\n",
              "    </tr>\n",
              "    <tr>\n",
              "      <th>1</th>\n",
              "      <td>S22</td>\n",
              "      <td>27</td>\n",
              "      <td>1.855</td>\n",
              "      <td>65.9</td>\n",
              "      <td>19.151270</td>\n",
              "      <td>1.095</td>\n",
              "      <td>0.56</td>\n",
              "      <td>0.535</td>\n",
              "      <td>0.078103</td>\n",
              "      <td>0.274</td>\n",
              "      <td>11</td>\n",
              "      <td>32.0</td>\n",
              "      <td>0.81</td>\n",
              "      <td>0</td>\n",
              "      <td>1</td>\n",
              "    </tr>\n",
              "    <tr>\n",
              "      <th>2</th>\n",
              "      <td>S23</td>\n",
              "      <td>27</td>\n",
              "      <td>1.570</td>\n",
              "      <td>62.1</td>\n",
              "      <td>25.193720</td>\n",
              "      <td>0.815</td>\n",
              "      <td>0.46</td>\n",
              "      <td>0.355</td>\n",
              "      <td>0.517500</td>\n",
              "      <td>0.235</td>\n",
              "      <td>5</td>\n",
              "      <td>34.0</td>\n",
              "      <td>0.87</td>\n",
              "      <td>1</td>\n",
              "      <td>0</td>\n",
              "    </tr>\n",
              "    <tr>\n",
              "      <th>3</th>\n",
              "      <td>S24</td>\n",
              "      <td>22</td>\n",
              "      <td>1.580</td>\n",
              "      <td>59.5</td>\n",
              "      <td>23.834321</td>\n",
              "      <td>0.830</td>\n",
              "      <td>0.49</td>\n",
              "      <td>0.340</td>\n",
              "      <td>0.076000</td>\n",
              "      <td>0.240</td>\n",
              "      <td>7</td>\n",
              "      <td>30.0</td>\n",
              "      <td>0.76</td>\n",
              "      <td>1</td>\n",
              "      <td>0</td>\n",
              "    </tr>\n",
              "    <tr>\n",
              "      <th>4</th>\n",
              "      <td>S25</td>\n",
              "      <td>20</td>\n",
              "      <td>1.740</td>\n",
              "      <td>80.0</td>\n",
              "      <td>26.423570</td>\n",
              "      <td>0.840</td>\n",
              "      <td>0.47</td>\n",
              "      <td>0.370</td>\n",
              "      <td>0.078103</td>\n",
              "      <td>0.240</td>\n",
              "      <td>8</td>\n",
              "      <td>34.0</td>\n",
              "      <td>0.87</td>\n",
              "      <td>0</td>\n",
              "      <td>1</td>\n",
              "    </tr>\n",
              "    <tr>\n",
              "      <th>...</th>\n",
              "      <td>...</td>\n",
              "      <td>...</td>\n",
              "      <td>...</td>\n",
              "      <td>...</td>\n",
              "      <td>...</td>\n",
              "      <td>...</td>\n",
              "      <td>...</td>\n",
              "      <td>...</td>\n",
              "      <td>...</td>\n",
              "      <td>...</td>\n",
              "      <td>...</td>\n",
              "      <td>...</td>\n",
              "      <td>...</td>\n",
              "      <td>...</td>\n",
              "      <td>...</td>\n",
              "    </tr>\n",
              "    <tr>\n",
              "      <th>109</th>\n",
              "      <td>S130</td>\n",
              "      <td>25</td>\n",
              "      <td>1.670</td>\n",
              "      <td>62.0</td>\n",
              "      <td>22.230987</td>\n",
              "      <td>0.980</td>\n",
              "      <td>0.49</td>\n",
              "      <td>0.490</td>\n",
              "      <td>0.070000</td>\n",
              "      <td>0.250</td>\n",
              "      <td>8</td>\n",
              "      <td>32.0</td>\n",
              "      <td>0.81</td>\n",
              "      <td>0</td>\n",
              "      <td>1</td>\n",
              "    </tr>\n",
              "    <tr>\n",
              "      <th>110</th>\n",
              "      <td>S131</td>\n",
              "      <td>28</td>\n",
              "      <td>1.700</td>\n",
              "      <td>68.0</td>\n",
              "      <td>23.529412</td>\n",
              "      <td>0.880</td>\n",
              "      <td>0.49</td>\n",
              "      <td>0.390</td>\n",
              "      <td>0.070000</td>\n",
              "      <td>0.250</td>\n",
              "      <td>7</td>\n",
              "      <td>30.0</td>\n",
              "      <td>0.76</td>\n",
              "      <td>0</td>\n",
              "      <td>1</td>\n",
              "    </tr>\n",
              "    <tr>\n",
              "      <th>111</th>\n",
              "      <td>S132</td>\n",
              "      <td>55</td>\n",
              "      <td>1.670</td>\n",
              "      <td>62.3</td>\n",
              "      <td>22.338556</td>\n",
              "      <td>0.900</td>\n",
              "      <td>0.49</td>\n",
              "      <td>0.410</td>\n",
              "      <td>0.059000</td>\n",
              "      <td>0.260</td>\n",
              "      <td>8</td>\n",
              "      <td>32.0</td>\n",
              "      <td>0.81</td>\n",
              "      <td>0</td>\n",
              "      <td>1</td>\n",
              "    </tr>\n",
              "    <tr>\n",
              "      <th>112</th>\n",
              "      <td>S133</td>\n",
              "      <td>42</td>\n",
              "      <td>1.680</td>\n",
              "      <td>60.2</td>\n",
              "      <td>21.329365</td>\n",
              "      <td>0.940</td>\n",
              "      <td>0.55</td>\n",
              "      <td>0.390</td>\n",
              "      <td>0.059000</td>\n",
              "      <td>0.250</td>\n",
              "      <td>7</td>\n",
              "      <td>36.0</td>\n",
              "      <td>0.92</td>\n",
              "      <td>0</td>\n",
              "      <td>1</td>\n",
              "    </tr>\n",
              "    <tr>\n",
              "      <th>113</th>\n",
              "      <td>S134</td>\n",
              "      <td>53</td>\n",
              "      <td>1.780</td>\n",
              "      <td>73.1</td>\n",
              "      <td>23.071582</td>\n",
              "      <td>0.960</td>\n",
              "      <td>0.50</td>\n",
              "      <td>0.460</td>\n",
              "      <td>0.070000</td>\n",
              "      <td>0.280</td>\n",
              "      <td>9</td>\n",
              "      <td>37.0</td>\n",
              "      <td>0.94</td>\n",
              "      <td>0</td>\n",
              "      <td>1</td>\n",
              "    </tr>\n",
              "  </tbody>\n",
              "</table>\n",
              "<p>114 rows × 15 columns</p>\n",
              "</div>"
            ],
            "text/plain": [
              "    Subject #  Age (Year)  Height (m)  ...  Bi-illiac width (m)  Gender_0  Gender_1\n",
              "0         S21          30       1.740  ...                 0.79         0         1\n",
              "1         S22          27       1.855  ...                 0.81         0         1\n",
              "2         S23          27       1.570  ...                 0.87         1         0\n",
              "3         S24          22       1.580  ...                 0.76         1         0\n",
              "4         S25          20       1.740  ...                 0.87         0         1\n",
              "..        ...         ...         ...  ...                  ...       ...       ...\n",
              "109      S130          25       1.670  ...                 0.81         0         1\n",
              "110      S131          28       1.700  ...                 0.76         0         1\n",
              "111      S132          55       1.670  ...                 0.81         0         1\n",
              "112      S133          42       1.680  ...                 0.92         0         1\n",
              "113      S134          53       1.780  ...                 0.94         0         1\n",
              "\n",
              "[114 rows x 15 columns]"
            ]
          },
          "metadata": {
            "tags": []
          },
          "execution_count": 33
        }
      ]
    },
    {
      "cell_type": "code",
      "metadata": {
        "colab": {
          "base_uri": "https://localhost:8080/",
          "height": 355
        },
        "id": "HxKNhEHpr7NC",
        "outputId": "56362213-23fb-4da1-b3d1-8f768460ba13"
      },
      "source": [
        "# describing data set\r\n",
        "df.describe()"
      ],
      "execution_count": null,
      "outputs": [
        {
          "output_type": "execute_result",
          "data": {
            "text/html": [
              "<div>\n",
              "<style scoped>\n",
              "    .dataframe tbody tr th:only-of-type {\n",
              "        vertical-align: middle;\n",
              "    }\n",
              "\n",
              "    .dataframe tbody tr th {\n",
              "        vertical-align: top;\n",
              "    }\n",
              "\n",
              "    .dataframe thead th {\n",
              "        text-align: right;\n",
              "    }\n",
              "</style>\n",
              "<table border=\"1\" class=\"dataframe\">\n",
              "  <thead>\n",
              "    <tr style=\"text-align: right;\">\n",
              "      <th></th>\n",
              "      <th>Age (Year)</th>\n",
              "      <th>Height (m)</th>\n",
              "      <th>Weight (Kg)</th>\n",
              "      <th>BMI</th>\n",
              "      <th>Leg Length (m)</th>\n",
              "      <th>Thigh Length (m)</th>\n",
              "      <th>Calf Length</th>\n",
              "      <th>Mallelous height -L</th>\n",
              "      <th>Foot Length (cM)</th>\n",
              "      <th>Shoe No</th>\n",
              "      <th>Waist width (inches)</th>\n",
              "      <th>Bi-illiac width (m)</th>\n",
              "      <th>Gender_0</th>\n",
              "      <th>Gender_1</th>\n",
              "    </tr>\n",
              "  </thead>\n",
              "  <tbody>\n",
              "    <tr>\n",
              "      <th>count</th>\n",
              "      <td>114.000000</td>\n",
              "      <td>114.000000</td>\n",
              "      <td>114.000000</td>\n",
              "      <td>114.000000</td>\n",
              "      <td>114.000000</td>\n",
              "      <td>114.000000</td>\n",
              "      <td>114.000000</td>\n",
              "      <td>114.000000</td>\n",
              "      <td>114.000000</td>\n",
              "      <td>114.000000</td>\n",
              "      <td>114.000000</td>\n",
              "      <td>114.000000</td>\n",
              "      <td>114.000000</td>\n",
              "      <td>114.000000</td>\n",
              "    </tr>\n",
              "    <tr>\n",
              "      <th>mean</th>\n",
              "      <td>28.096491</td>\n",
              "      <td>1.681886</td>\n",
              "      <td>66.992982</td>\n",
              "      <td>23.495783</td>\n",
              "      <td>0.885263</td>\n",
              "      <td>0.480395</td>\n",
              "      <td>0.394474</td>\n",
              "      <td>0.110439</td>\n",
              "      <td>0.251346</td>\n",
              "      <td>7.675439</td>\n",
              "      <td>32.881579</td>\n",
              "      <td>0.834386</td>\n",
              "      <td>0.245614</td>\n",
              "      <td>0.754386</td>\n",
              "    </tr>\n",
              "    <tr>\n",
              "      <th>std</th>\n",
              "      <td>8.831730</td>\n",
              "      <td>0.110621</td>\n",
              "      <td>14.417171</td>\n",
              "      <td>3.822484</td>\n",
              "      <td>0.066980</td>\n",
              "      <td>0.042552</td>\n",
              "      <td>0.079641</td>\n",
              "      <td>0.119804</td>\n",
              "      <td>0.019723</td>\n",
              "      <td>1.669591</td>\n",
              "      <td>3.038326</td>\n",
              "      <td>0.080924</td>\n",
              "      <td>0.432351</td>\n",
              "      <td>0.432351</td>\n",
              "    </tr>\n",
              "    <tr>\n",
              "      <th>min</th>\n",
              "      <td>4.000000</td>\n",
              "      <td>0.970000</td>\n",
              "      <td>13.200000</td>\n",
              "      <td>13.960249</td>\n",
              "      <td>0.490000</td>\n",
              "      <td>0.300000</td>\n",
              "      <td>0.000000</td>\n",
              "      <td>0.059000</td>\n",
              "      <td>0.160000</td>\n",
              "      <td>1.000000</td>\n",
              "      <td>22.000000</td>\n",
              "      <td>0.480000</td>\n",
              "      <td>0.000000</td>\n",
              "      <td>0.000000</td>\n",
              "    </tr>\n",
              "    <tr>\n",
              "      <th>25%</th>\n",
              "      <td>23.000000</td>\n",
              "      <td>1.640000</td>\n",
              "      <td>59.200000</td>\n",
              "      <td>20.881610</td>\n",
              "      <td>0.852500</td>\n",
              "      <td>0.450000</td>\n",
              "      <td>0.380000</td>\n",
              "      <td>0.070000</td>\n",
              "      <td>0.240000</td>\n",
              "      <td>7.000000</td>\n",
              "      <td>31.000000</td>\n",
              "      <td>0.790000</td>\n",
              "      <td>0.000000</td>\n",
              "      <td>1.000000</td>\n",
              "    </tr>\n",
              "    <tr>\n",
              "      <th>50%</th>\n",
              "      <td>27.000000</td>\n",
              "      <td>1.695000</td>\n",
              "      <td>66.100000</td>\n",
              "      <td>23.474817</td>\n",
              "      <td>0.890000</td>\n",
              "      <td>0.485000</td>\n",
              "      <td>0.400000</td>\n",
              "      <td>0.070000</td>\n",
              "      <td>0.250000</td>\n",
              "      <td>8.000000</td>\n",
              "      <td>32.000000</td>\n",
              "      <td>0.810000</td>\n",
              "      <td>0.000000</td>\n",
              "      <td>1.000000</td>\n",
              "    </tr>\n",
              "    <tr>\n",
              "      <th>75%</th>\n",
              "      <td>31.000000</td>\n",
              "      <td>1.740000</td>\n",
              "      <td>75.075000</td>\n",
              "      <td>25.350782</td>\n",
              "      <td>0.920000</td>\n",
              "      <td>0.510000</td>\n",
              "      <td>0.430000</td>\n",
              "      <td>0.078103</td>\n",
              "      <td>0.265000</td>\n",
              "      <td>9.000000</td>\n",
              "      <td>35.000000</td>\n",
              "      <td>0.890000</td>\n",
              "      <td>0.000000</td>\n",
              "      <td>1.000000</td>\n",
              "    </tr>\n",
              "    <tr>\n",
              "      <th>max</th>\n",
              "      <td>57.000000</td>\n",
              "      <td>1.930000</td>\n",
              "      <td>132.500000</td>\n",
              "      <td>35.571425</td>\n",
              "      <td>1.095000</td>\n",
              "      <td>0.600000</td>\n",
              "      <td>0.535000</td>\n",
              "      <td>0.517500</td>\n",
              "      <td>0.310000</td>\n",
              "      <td>12.000000</td>\n",
              "      <td>40.000000</td>\n",
              "      <td>1.020000</td>\n",
              "      <td>1.000000</td>\n",
              "      <td>1.000000</td>\n",
              "    </tr>\n",
              "  </tbody>\n",
              "</table>\n",
              "</div>"
            ],
            "text/plain": [
              "       Age (Year)  Height (m)  ...    Gender_0    Gender_1\n",
              "count  114.000000  114.000000  ...  114.000000  114.000000\n",
              "mean    28.096491    1.681886  ...    0.245614    0.754386\n",
              "std      8.831730    0.110621  ...    0.432351    0.432351\n",
              "min      4.000000    0.970000  ...    0.000000    0.000000\n",
              "25%     23.000000    1.640000  ...    0.000000    1.000000\n",
              "50%     27.000000    1.695000  ...    0.000000    1.000000\n",
              "75%     31.000000    1.740000  ...    0.000000    1.000000\n",
              "max     57.000000    1.930000  ...    1.000000    1.000000\n",
              "\n",
              "[8 rows x 14 columns]"
            ]
          },
          "metadata": {
            "tags": []
          },
          "execution_count": 51
        }
      ]
    },
    {
      "cell_type": "markdown",
      "metadata": {
        "id": "mZvGhJqTr7NC"
      },
      "source": [
        "### Task 2: Regression\n",
        "\n",
        "Perform the Objective 1:"
      ]
    },
    {
      "cell_type": "code",
      "metadata": {
        "id": "l-GEUiWDr7NC"
      },
      "source": [
        "# We need to create features and target array\n",
        "X = df[df.columns[2:]].to_numpy()\n",
        "y = df[[df.columns[1]]].to_numpy()"
      ],
      "execution_count": null,
      "outputs": []
    },
    {
      "cell_type": "code",
      "metadata": {
        "colab": {
          "base_uri": "https://localhost:8080/"
        },
        "id": "qlHHu2Udr7NC",
        "outputId": "169b1863-c130-44a6-9cd8-102b0e188bdd"
      },
      "source": [
        "# Dataset are getting splitted into training and test dataset\n",
        "x_train, x_test, y_train, y_test = train_test_split(X, y, t_size=0.2)\n",
        "x_train.shape, x_test.shape, y_train.shape, y_test.shape"
      ],
      "execution_count": null,
      "outputs": [
        {
          "output_type": "execute_result",
          "data": {
            "text/plain": [
              "((91, 13), (23, 13), (91, 1), (23, 1))"
            ]
          },
          "metadata": {
            "tags": []
          },
          "execution_count": 36
        }
      ]
    },
    {
      "cell_type": "code",
      "metadata": {
        "colab": {
          "base_uri": "https://localhost:8080/"
        },
        "id": "9B-UwRnzr7ND",
        "outputId": "a889327f-6368-482c-8990-02dfdb2715ad"
      },
      "source": [
        "# Crerating the regressor object of LinearRegression class\n",
        "r=LinearRegression()\n",
        "r.fit(x_train,y_train)"
      ],
      "execution_count": null,
      "outputs": [
        {
          "output_type": "execute_result",
          "data": {
            "text/plain": [
              "LinearRegression(copy_X=True, fit_intercept=True, n_jobs=None, normalize=False)"
            ]
          },
          "metadata": {
            "tags": []
          },
          "execution_count": 52
        }
      ]
    },
    {
      "cell_type": "code",
      "metadata": {
        "colab": {
          "base_uri": "https://localhost:8080/"
        },
        "id": "F0-lyXDhr7ND",
        "outputId": "c16de6df-7aef-4678-e1a3-faf4c36eae2a"
      },
      "source": [
        "# regressor's intercept and coeffcient\n",
        "r.intercept_, r.coef_"
      ],
      "execution_count": null,
      "outputs": [
        {
          "output_type": "execute_result",
          "data": {
            "text/plain": [
              "(array([-25.27270289]),\n",
              " array([[-44.40421244,  -0.21959502,   0.63534084,  77.50567941,\n",
              "          10.03881382, -13.65059126,  -6.55436642, 106.91249275,\n",
              "          -2.10666205,  -2.40775161, 152.12934878,  -4.41536348,\n",
              "           4.41536348]]))"
            ]
          },
          "metadata": {
            "tags": []
          },
          "execution_count": 53
        }
      ]
    },
    {
      "cell_type": "code",
      "metadata": {
        "id": "PZcajgK5r7ND"
      },
      "source": [
        "# For Testing\n",
        "y_predict=regressor.predict(x_test)"
      ],
      "execution_count": null,
      "outputs": []
    },
    {
      "cell_type": "code",
      "metadata": {
        "colab": {
          "base_uri": "https://localhost:8080/"
        },
        "id": "W9KwCHlNr7NE",
        "outputId": "320b48bb-04cf-447f-a72a-3c2b801c8cd3"
      },
      "source": [
        "x_train.shape, x_test.shape, y_train.shape, y_test.shape, y_predict.shape"
      ],
      "execution_count": null,
      "outputs": [
        {
          "output_type": "execute_result",
          "data": {
            "text/plain": [
              "((91, 13), (23, 13), (91, 1), (23, 1), (23, 1))"
            ]
          },
          "metadata": {
            "tags": []
          },
          "execution_count": 40
        }
      ]
    },
    {
      "cell_type": "code",
      "metadata": {
        "colab": {
          "base_uri": "https://localhost:8080/",
          "height": 283
        },
        "id": "-CsaU62Lr7NE",
        "outputId": "56632b85-d44c-4ba2-d05c-e0b79bfa2024"
      },
      "source": [
        "plt.scatter([i for i in range(len(x_test))], y_test)\n",
        "plt.plot(y_predict)"
      ],
      "execution_count": null,
      "outputs": [
        {
          "output_type": "execute_result",
          "data": {
            "text/plain": [
              "[<matplotlib.lines.Line2D at 0x7f1e759e6c50>]"
            ]
          },
          "metadata": {
            "tags": []
          },
          "execution_count": 41
        },
        {
          "output_type": "display_data",
          "data": {
            "image/png": "[encoded data removed]",
            "text/plain": [
              "<Figure size 432x288 with 1 Axes>"
            ]
          },
          "metadata": {
            "tags": [],
            "needs_background": "light"
          }
        }
      ]
    },
    {
      "cell_type": "code",
      "metadata": {
        "colab": {
          "base_uri": "https://localhost:8080/",
          "height": 283
        },
        "id": "tWeDyeFnr7NE",
        "outputId": "c417ed9f-4380-41b6-e54e-aa38c611ad2b"
      },
      "source": [
        "# ploting ytrain and xtrain\n",
        "plt.plot(y_train)\n",
        "plt.plot(r.predict(x_train))"
      ],
      "execution_count": null,
      "outputs": [
        {
          "output_type": "execute_result",
          "data": {
            "text/plain": [
              "[<matplotlib.lines.Line2D at 0x7f1e759cc910>]"
            ]
          },
          "metadata": {
            "tags": []
          },
          "execution_count": 42
        },
        {
          "output_type": "display_data",
          "data": {
            "image/png": "[encoded data removed]",
            "text/plain": [
              "<Figure size 432x288 with 1 Axes>"
            ]
          },
          "metadata": {
            "tags": [],
            "needs_background": "light"
          }
        }
      ]
    },
    {
      "cell_type": "code",
      "metadata": {
        "colab": {
          "base_uri": "https://localhost:8080/"
        },
        "id": "REARbLR9r7NE",
        "outputId": "fd054292-6313-4a56-e13e-a88c2384ef89"
      },
      "source": [
        "print('Mean Absolute Error:', metrics.mean_absolute_error(y_test, y_pred))\n",
        "print('Mean Squared Error:', metrics.mean_squared_error(y_test, y_pred))\n",
        "print('Root Mean Squared Error:', np.sqrt(metrics.mean_squared_error(y_test,y_pred)))"
      ],
      "execution_count": null,
      "outputs": [
        {
          "output_type": "stream",
          "text": [
            "Mean Absolute Error: 3.43953471218567\n",
            "Mean Squared Error: 27.91292312491641\n",
            "Root Mean Squared Error: 5.283268223828543\n"
          ],
          "name": "stdout"
        }
      ]
    },
    {
      "cell_type": "markdown",
      "metadata": {
        "id": "yGjOis6hr7NF"
      },
      "source": [
        "### Task 3: Logistic Regression"
      ]
    },
    {
      "cell_type": "code",
      "metadata": {
        "id": "pcUayuxjr7NF"
      },
      "source": [
        "X = df[df.columns[1:-2]].to_numpy()\n",
        "y = df[[df.columns[-1]]].to_numpy().squeeze()"
      ],
      "execution_count": null,
      "outputs": []
    },
    {
      "cell_type": "code",
      "metadata": {
        "id": "9ADPwdGir7NF"
      },
      "source": [
        "train_data,t_data, train_label, t_lable = train_test_split(X,y,t_size=0.20)"
      ],
      "execution_count": null,
      "outputs": []
    },
    {
      "cell_type": "code",
      "metadata": {
        "id": "jbyEC26er7NF"
      },
      "source": [
        "# crerating the regressor object of LogisticRegression class with 500 iteration\n",
        "r= LogisticRegression(max_iter=500)\n",
        "\n",
        "# fitting the model with data\n",
        "r.fit(train_data, train_label)\n",
        "\n",
        "# predicting model's performancce on test data\n",
        "p_t_lable=r.predict(t_data)"
      ],
      "execution_count": null,
      "outputs": []
    },
    {
      "cell_type": "code",
      "metadata": {
        "colab": {
          "base_uri": "https://localhost:8080/"
        },
        "id": "jWrwwvWHr7NG",
        "outputId": "7695f0cb-217f-484c-8bdf-ed67e38af937"
      },
      "source": [
        "confusion_matrix= metrics.confusion_matrix(t_lable, p_t_lable)\n",
        "confusion_matrix"
      ],
      "execution_count": null,
      "outputs": [
        {
          "output_type": "execute_result",
          "data": {
            "text/plain": [
              "array([[ 5,  1],\n",
              "       [ 3, 14]])"
            ]
          },
          "metadata": {
            "tags": []
          },
          "execution_count": 47
        }
      ]
    },
    {
      "cell_type": "code",
      "metadata": {
        "colab": {
          "base_uri": "https://localhost:8080/",
          "height": 301
        },
        "id": "yI2wsL8fr7NG",
        "outputId": "f5b78f0c-ff84-49d8-feea-16d0d390a241"
      },
      "source": [
        "plot_confusion_matrix(regressor, t_data, t_lable)"
      ],
      "execution_count": null,
      "outputs": [
        {
          "output_type": "execute_result",
          "data": {
            "text/plain": [
              "<sklearn.metrics._plot.confusion_matrix.ConfusionMatrixDisplay at 0x7f1e75974c50>"
            ]
          },
          "metadata": {
            "tags": []
          },
          "execution_count": 48
        },
        {
          "output_type": "display_data",
          "data": {
            "image/png": "[encoded data removed]",
            "text/plain": [
              "<Figure size 432x288 with 2 Axes>"
            ]
          },
          "metadata": {
            "tags": [],
            "needs_background": "light"
          }
        }
      ]
    },
    {
      "cell_type": "code",
      "metadata": {
        "colab": {
          "base_uri": "https://localhost:8080/"
        },
        "id": "sbbvcNEAr7NG",
        "outputId": "b5dda078-1758-4f58-d80d-82eef6154364"
      },
      "source": [
        "print(\"Accuracy:\",metrics.accuracy_score(t_lable, p_t_lable))\n",
        "print(\"Precision:\",metrics.precision_score(t_lable, p_t_lable))\n",
        "print(\"Recall:\",metrics.recall_score(t_lable, p_t_lable))"
      ],
      "execution_count": null,
      "outputs": [
        {
          "output_type": "stream",
          "text": [
            "Accuracy: 0.8260869565217391\n",
            "Precision: 0.9333333333333333\n",
            "Recall: 0.8235294117647058\n"
          ],
          "name": "stdout"
        }
      ]
    },
    {
      "cell_type": "markdown",
      "metadata": {
        "id": "6oW4GuAR6kJQ"
      },
      "source": [
        "Observations:\r\n",
        "1. Learnt about Linear and Multiple regression\r\n",
        "2. Learnt about different types of errors and their usage\r\n",
        "3. Learnt why we use logistic reasoning\r\n",
        "4. Learnt about importance of precision and recall value in confusion matrix"
      ]
    }
  ]
}