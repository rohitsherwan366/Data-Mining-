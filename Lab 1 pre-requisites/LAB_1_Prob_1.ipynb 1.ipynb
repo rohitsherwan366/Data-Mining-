{
 "cells": [
  {
   "cell_type": "markdown",
   "metadata": {},
   "source": [
    "<a href=\"https://colab.research.google.com/github/prakash27/CSL522_ML/blob/master/assignments/Assignment_1_Python_Introduction.ipynb\" target=\"_parent\"><img src=\"https://colab.research.google.com/assets/colab-badge.svg\" alt=\"Open In Colab\"/></a>"
   ]
  },
  {
   "cell_type": "markdown",
   "metadata": {},
   "source": [
    "# CSB352: Data Mining \n",
    "\n",
    "**Instructor** : [Dr. Chandra Prakash]\n",
    "\n",
    "* For more information visit the [class website](https://cprakash86.wordpress.com/csb352_s21/).\n"
   ]
  },
  {
   "cell_type": "markdown",
   "metadata": {},
   "source": [
    "# LAB_1_Assignment : Introduction to Python \n",
    "**Due Date: 09-Jan-2021**\n",
    "\n",
    "\n",
    "**Student Name: Your Name**"
   ]
  },
  {
   "cell_type": "markdown",
   "metadata": {},
   "source": [
    "# Assignment Instructions\n",
    "\n",
    "\n",
    "You must save your as Assignment_NO_Yourname\n",
    "\n",
    "**Assignment 1 :** To complete assignment one, first you have to add your name and roll no in the Google Colab Instructions section below and print it. Perform the 10 task given in the assignment and submit it over Microsoft Team. \n",
    "\n",
    "Your source file will most likely end in **.pynb** if you are using a Jupyter notebook; however, it might also end in **.py** if you are using a Python script.\n",
    "\n"
   ]
  },
  {
   "cell_type": "markdown",
   "metadata": {
    "colab_type": "text",
    "id": "4jt8KqCCpE4Z"
   },
   "source": [
    " "
   ]
  },
  {
   "cell_type": "markdown",
   "metadata": {},
   "source": [
    "# Google CoLab Instructions\n",
    "\n",
    "The following code ensures that Google CoLab is running the correct version of TensorFlow.\n",
    "\n"
   ]
  },
  {
   "cell_type": "code",
   "execution_count": null,
   "metadata": {},
   "outputs": [],
   "source": [
    "try:\n",
    "    from google.colab import drive\n",
    "    %tensorflow_version 2.x\n",
    "    COLAB = True\n",
    "    print(\"Hello World\")\n",
    "    print(\"Note: using Google CoLab\")\n",
    "except:\n",
    "    print(\"Hello NITD\")\n",
    "    print(\"Note: not using Google CoLab\")\n",
    "    COLAB = False\n",
    "    \n",
    "# Print your name and Roll No. \n",
    "# Print the curent time "
   ]
  },
  {
   "cell_type": "markdown",
   "metadata": {
    "colab_type": "text",
    "id": "R9Bv34GsovHd"
   },
   "source": [
    "**Exercise 1.** Create following list:\n",
    "\n",
    "data = [2,34,23,16,56,45,34,26,78,56,1,16]\n",
    "\n",
    "Write a function to count number of elements in a list . <br> \n",
    "Now delete the duplicate values and print the list in ascending order. "
   ]
  },
  {
   "cell_type": "code",
   "execution_count": null,
   "metadata": {
    "colab": {},
    "colab_type": "code",
    "id": "esARDCHLoysa"
   },
   "outputs": [],
   "source": [
    "#Write your code here"
   ]
  },
  {
   "cell_type": "markdown",
   "metadata": {
    "colab_type": "text",
    "id": "5kImrrP2owii"
   },
   "source": [
    "**Exercise 2:** Take five numbers as input from the user and save into a list. Find the maximum of the list and sort the data in descending order."
   ]
  },
  {
   "cell_type": "code",
   "execution_count": null,
   "metadata": {
    "colab": {},
    "colab_type": "code",
    "id": "O7U-8ShDosd-"
   },
   "outputs": [],
   "source": [
    "#Write your code here"
   ]
  },
  {
   "cell_type": "markdown",
   "metadata": {
    "colab_type": "text",
    "id": "asaJtrdPLu28"
   },
   "source": [
    "**Exercise 4:**\n",
    "\n",
    "(i) Generate two arrays A1 and A2 of size 5 X 4 and 3 X 4 respectively using np.random()\n",
    "\n",
    "(ii) Join them and make an array A3 of 8 X 4. Now append random numbers ranging between from 0 to 5 to make the fourth array A4 of size 10 X 10. \n",
    "\n",
    "(iii) Print all the arrays and their transpose ( Transpose of 'A' can be obtained by 'A.T') "
   ]
  },
  {
   "cell_type": "code",
   "execution_count": null,
   "metadata": {
    "colab": {},
    "colab_type": "code",
    "id": "pNV0vFKtLuQJ"
   },
   "outputs": [],
   "source": [
    "#Write your code here"
   ]
  },
  {
   "cell_type": "markdown",
   "metadata": {
    "colab_type": "text",
    "id": "9pL_Rk-wL5Vb"
   },
   "source": [
    "**Exercise 5: Create two dictionaries.** \n",
    "\n",
    "The first dictionary 'name' will contain first name(key) of a person and its hash value(value). \n",
    "The Second will contain hash value(key) and mobile no(value). \n",
    "\n",
    "\n",
    "i) Add 5 entries.\n",
    "\n",
    "ii) Delete two entries by taking the input from user as the first name.\n",
    "\n",
    "ii) Add two entries by taking the input as the first name and mobile no. \n",
    "\n",
    "Hint: You can use remainder ( %) to obtain hash value. "
   ]
  },
  {
   "cell_type": "code",
   "execution_count": null,
   "metadata": {
    "colab": {},
    "colab_type": "code",
    "id": "4fvI9c19tIv4"
   },
   "outputs": [],
   "source": [
    "#Write your code here"
   ]
  },
  {
   "cell_type": "markdown",
   "metadata": {
    "colab_type": "text",
    "id": "SsuXy_YmtDMQ"
   },
   "source": [
    "# PART 2: Introduction to NumPy    \n"
   ]
  },
  {
   "cell_type": "markdown",
   "metadata": {},
   "source": [
    "**Exercise 6:** Write a NumPy program to create an element-wise comparison (greater, greater_equal, less and less_equal) of two given arrays"
   ]
  },
  {
   "cell_type": "code",
   "execution_count": null,
   "metadata": {},
   "outputs": [],
   "source": [
    "#Write your code here"
   ]
  },
  {
   "cell_type": "markdown",
   "metadata": {},
   "source": [
    "**Exercise 7:** Write a NumPy program to create an array with the values 100, 71, 113, 1050 and determine the size of the memory occupied by the array."
   ]
  },
  {
   "cell_type": "code",
   "execution_count": null,
   "metadata": {},
   "outputs": [],
   "source": [
    "#Write your code here"
   ]
  },
  {
   "cell_type": "markdown",
   "metadata": {},
   "source": [
    "**Exercise 8:** Write a NumPy program to get the powers ( x ^ 3 ) of an array values element-wise\n",
    "\n",
    "\n",
    "Expected Output:\n",
    "Original array\n",
    "[1 2 3 4 5 ]\n",
    "Output array: \n",
    "[ 1 8 27 64 125 ]"
   ]
  },
  {
   "cell_type": "code",
   "execution_count": null,
   "metadata": {},
   "outputs": [],
   "source": [
    "#Write your code here"
   ]
  },
  {
   "cell_type": "markdown",
   "metadata": {},
   "source": [
    "**Exercise 9:** Write a NumPy program to get the floor, ceiling and truncated values of the elements of a numpy array.\n",
    "Sample Output:\n",
    "Original array:\n",
    "[-1.3, -1.15, -0.1, 0.12, 1.7, 0.9, 1.1]"
   ]
  },
  {
   "cell_type": "code",
   "execution_count": null,
   "metadata": {},
   "outputs": [],
   "source": [
    "#Write your code here"
   ]
  },
  {
   "cell_type": "markdown",
   "metadata": {},
   "source": [
    "**Exercise 10:** Write a program in python to display prime numbers from x to y (here x and y are user given values)."
   ]
  },
  {
   "cell_type": "code",
   "execution_count": null,
   "metadata": {},
   "outputs": [],
   "source": [
    "#Write your code here"
   ]
  },
  {
   "cell_type": "code",
   "execution_count": null,
   "metadata": {},
   "outputs": [],
   "source": []
  },
  {
   "cell_type": "markdown",
   "metadata": {},
   "source": [
    "# Observation \\ Comments "
   ]
  },
  {
   "cell_type": "code",
   "execution_count": null,
   "metadata": {},
   "outputs": [],
   "source": [
    "#Write your observation\\ Learning here"
   ]
  },
  {
   "cell_type": "markdown",
   "metadata": {},
   "source": [
    "## Hint : \n",
    "\n",
    "Reference Book to learn python: https://anandology.com/python-practice-book/getting-started.html"
   ]
  }
 ],
 "metadata": {
  "colab": {
   "collapsed_sections": [],
   "name": "Assignment 1(Introduction_to_python_FDP_29/06/2020/2.ipynb",
   "provenance": []
  },
  "kernelspec": {
   "display_name": "Python 3",
   "language": "python",
   "name": "python3"
  },
  "language_info": {
   "codemirror_mode": {
    "name": "ipython",
    "version": 3
   },
   "file_extension": ".py",
   "mimetype": "text/x-python",
   "name": "python",
   "nbconvert_exporter": "python",
   "pygments_lexer": "ipython3",
   "version": "3.8.3"
  }
 },
 "nbformat": 4,
 "nbformat_minor": 1
}
