{
  "nbformat": 4,
  "nbformat_minor": 0,
  "metadata": {
    "colab": {
      "name": "Lab_Assignment_3_181210043.ipynb",
      "provenance": []
    },
    "kernelspec": {
      "name": "python3",
      "display_name": "Python 3"
    },
    "widgets": {
      "application/vnd.jupyter.widget-state+json": {
        "b4f3a405eec946ebb3e0e114e7993cfd": {
          "model_module": "@jupyter-widgets/controls",
          "model_name": "CheckboxModel",
          "state": {
            "_view_name": "CheckboxView",
            "style": "IPY_MODEL_6846cd0748ae4176b38ec02a8fbe6b1d",
            "_dom_classes": [],
            "description": "",
            "_model_name": "CheckboxModel",
            "_view_module": "@jupyter-widgets/controls",
            "_model_module_version": "1.5.0",
            "value": false,
            "_view_count": null,
            "disabled": false,
            "_view_module_version": "1.5.0",
            "indent": false,
            "description_tooltip": null,
            "_model_module": "@jupyter-widgets/controls",
            "layout": "IPY_MODEL_7f9c2ed1202a48a9ab7b1a24465bc116"
          }
        },
        "6846cd0748ae4176b38ec02a8fbe6b1d": {
          "model_module": "@jupyter-widgets/controls",
          "model_name": "DescriptionStyleModel",
          "state": {
            "_view_name": "StyleView",
            "_model_name": "DescriptionStyleModel",
            "description_width": "",
            "_view_module": "@jupyter-widgets/base",
            "_model_module_version": "1.5.0",
            "_view_count": null,
            "_view_module_version": "1.2.0",
            "_model_module": "@jupyter-widgets/controls"
          }
        },
        "7f9c2ed1202a48a9ab7b1a24465bc116": {
          "model_module": "@jupyter-widgets/base",
          "model_name": "LayoutModel",
          "state": {
            "_view_name": "LayoutView",
            "grid_template_rows": null,
            "right": null,
            "justify_content": null,
            "_view_module": "@jupyter-widgets/base",
            "overflow": null,
            "_model_module_version": "1.2.0",
            "_view_count": null,
            "flex_flow": null,
            "width": null,
            "min_width": null,
            "border": null,
            "align_items": null,
            "bottom": null,
            "_model_module": "@jupyter-widgets/base",
            "top": null,
            "grid_column": null,
            "overflow_y": null,
            "overflow_x": null,
            "grid_auto_flow": null,
            "grid_area": null,
            "grid_template_columns": null,
            "flex": null,
            "_model_name": "LayoutModel",
            "justify_items": null,
            "grid_row": null,
            "max_height": null,
            "align_content": null,
            "visibility": null,
            "align_self": null,
            "height": null,
            "min_height": null,
            "padding": null,
            "grid_auto_rows": null,
            "grid_gap": null,
            "max_width": null,
            "order": null,
            "_view_module_version": "1.2.0",
            "grid_template_areas": null,
            "object_position": null,
            "object_fit": null,
            "grid_auto_columns": null,
            "margin": null,
            "display": null,
            "left": null
          }
        }
      }
    }
  },
  "cells": [
    {
      "cell_type": "markdown",
      "metadata": {
        "id": "6q46GW353tMY"
      },
      "source": [
        "# CSL558: Machine Learning \r\n",
        "\r\n",
        "**Instructor** : [Dr. Chandra Prakash]\r\n",
        "\r\n",
        "* For more information visit the [class website](https://cprakash86.wordpress.com/ml/).\r\n",
        "\r\n"
      ]
    },
    {
      "cell_type": "markdown",
      "metadata": {
        "id": "P0Mi_vKy381W"
      },
      "source": [
        "# LAB Assignment 3: Data Collection Using Web Scraping\r\n",
        "\r\n",
        "**Assigning Date : 18-01-2021**\r\n",
        "\r\n",
        "**Due Date: 24-Jan-2021**\r\n",
        "\r\n",
        "**Student Name: Rohit Byas**\r\n",
        "\r\n",
        "**Student Roll No.: 181210043**\r\n",
        "\r\n"
      ]
    },
    {
      "cell_type": "markdown",
      "metadata": {
        "id": "fSq4f19b39EI"
      },
      "source": [
        "# Assignment Instructions\r\n",
        "You must save your as Assignment_NO_Yourname\r\n",
        "\r\n",
        "Your source file will most likely end in.pynbif you are using a Jupyter notebook; however, itmight also end in.pyif you are using a Python script.\r\n",
        "\r\n",
        "You have to add your name and roll no in the Google Colab Instructions section below and printit."
      ]
    },
    {
      "cell_type": "markdown",
      "metadata": {
        "id": "DD0M1E5s5YuP"
      },
      "source": [
        "# Google CoLab Instructions\r\n",
        "\r\n",
        "The following code ensures that Google CoLab is running the correct version of TensorFlow."
      ]
    },
    {
      "cell_type": "code",
      "metadata": {
        "colab": {
          "base_uri": "https://localhost:8080/"
        },
        "id": "n73bgAur05zJ",
        "outputId": "6bab4b1d-f535-40b4-d030-1e127e77aa8b"
      },
      "source": [
        "try:\r\n",
        "  from google.colab import drive \r\n",
        "  %tensorflow_version 2.x\r\n",
        "  COLAB = True\r\n",
        "  print(\"Hello World\") \r\n",
        "  print(\"Note: using Google CoLab\")\r\n",
        "except:\r\n",
        "  print(\"Hello NITD\")\r\n",
        "  print(\"Note: not using Google CoLab\") \r\n",
        "  COLAB = False\r\n",
        "\r\n",
        "# Print your name and Roll No. \r\n",
        "print('Rohit Byas')\r\n",
        "print('181210043')\r\n",
        "\r\n"
      ],
      "execution_count": null,
      "outputs": [
        {
          "output_type": "stream",
          "text": [
            "Hello World\n",
            "Note: using Google CoLab\n",
            "Rohit Byas\n",
            "181210043\n"
          ],
          "name": "stdout"
        }
      ]
    },
    {
      "cell_type": "markdown",
      "metadata": {
        "id": "ZCeOcJpW5bZW"
      },
      "source": [
        "### Task 1:\r\n",
        "1. Collect the first 100 quotes from the website http://quotes.toscrape.com/\r\n",
        "2. The output should store in three column namely- Quote, Author and Tags. \r\n",
        "\r\n",
        "  Hint:\r\n",
        "- You may use panda Dataframe framework as pd.DataFrame for storing the data \r\n",
        "- use urllib package"
      ]
    },
    {
      "cell_type": "code",
      "metadata": {
        "colab": {
          "base_uri": "https://localhost:8080/"
        },
        "id": "JRqtLU0b5qm2",
        "outputId": "83eb1637-f6a3-4501-d555-7ec35854fe56"
      },
      "source": [
        "!pip install BeautifulSoup4"
      ],
      "execution_count": null,
      "outputs": [
        {
          "output_type": "stream",
          "text": [
            "Requirement already satisfied: BeautifulSoup4 in /usr/local/lib/python3.6/dist-packages (4.6.3)\n"
          ],
          "name": "stdout"
        }
      ]
    },
    {
      "cell_type": "code",
      "metadata": {
        "colab": {
          "base_uri": "https://localhost:8080/"
        },
        "id": "UqXOnaQY5ztn",
        "outputId": "60df899a-9d88-4f2a-87c4-4e62deef97e5"
      },
      "source": [
        "!pip install tqdm"
      ],
      "execution_count": null,
      "outputs": [
        {
          "output_type": "stream",
          "text": [
            "Requirement already satisfied: tqdm in /usr/local/lib/python3.6/dist-packages (4.41.1)\n"
          ],
          "name": "stdout"
        }
      ]
    },
    {
      "cell_type": "code",
      "metadata": {
        "id": "5_ICG91d5_vZ"
      },
      "source": [
        "# import different libraries \r\n",
        "import json # for json data\r\n",
        "import pandas as pd # for data analysis and manipulation\r\n",
        "from bs4 import BeautifulSoup # for parsing HTML\r\n",
        "from urllib.request import urlopen, Request # for http requests\r\n",
        "from IPython.display import display\r\n",
        "from ipywidgets import Checkbox"
      ],
      "execution_count": null,
      "outputs": []
    },
    {
      "cell_type": "code",
      "metadata": {
        "colab": {
          "base_uri": "https://localhost:8080/",
          "height": 84,
          "referenced_widgets": [
            "b4f3a405eec946ebb3e0e114e7993cfd",
            "6846cd0748ae4176b38ec02a8fbe6b1d",
            "7f9c2ed1202a48a9ab7b1a24465bc116"
          ]
        },
        "id": "xpI9nUty6O5o",
        "outputId": "ee5f97cb-3ed9-42ee-c7c1-cb46772ca7f7"
      },
      "source": [
        "# We need to add agree to legal and ethical concerns before scrapping\r\n",
        "box = Checkbox(False, indent=False)\r\n",
        "display(box, f\"I, {input('Enter your name: ')}, agree to the above Legal and Ethical concerns. If I do anything,unethical I will be responsible for it.\")"
      ],
      "execution_count": null,
      "outputs": [
        {
          "output_type": "stream",
          "text": [
            "Enter your name: Rohit\n"
          ],
          "name": "stdout"
        },
        {
          "output_type": "display_data",
          "data": {
            "application/vnd.jupyter.widget-view+json": {
              "model_id": "b4f3a405eec946ebb3e0e114e7993cfd",
              "version_minor": 0,
              "version_major": 2
            },
            "text/plain": [
              "Checkbox(value=False, indent=False)"
            ]
          },
          "metadata": {
            "tags": []
          }
        },
        {
          "output_type": "display_data",
          "data": {
            "application/vnd.google.colaboratory.intrinsic+json": {
              "type": "string"
            },
            "text/plain": [
              "'I, Rohit, agree to the above Legal and Ethical concerns. If I do anything,unethical I will be responsible for it.'"
            ]
          },
          "metadata": {
            "tags": []
          }
        }
      ]
    },
    {
      "cell_type": "code",
      "metadata": {
        "id": "5PwwGm1t6uDK"
      },
      "source": [
        "# Defining header that will be send while doing http requests\r\n",
        "hdr = {\r\n",
        "  'User-Agent': 'Mozilla/5.0 (Windows NT 10.0; Win64; x64) AppleWebKit/537.36 (KHTML, like Gecko) Chrome/87.0.4280.66 Safari/537.36',\r\n",
        "  'From': 'nitdelhi.ac.in',\r\n",
        "  'Accept': 'text/html,application/xhtml+xml,application/xml;q=0.9,*/*;q=0.8',\r\n",
        "  'Accept-Charset': 'ISO-8859-1,utf-8;q=0.7,*;q=0.3',\r\n",
        "  'Accept-Encoding': 'none',\r\n",
        "  'Accept-Language': 'en-US,en;q=0.8',\r\n",
        "}"
      ],
      "execution_count": null,
      "outputs": []
    },
    {
      "cell_type": "code",
      "metadata": {
        "colab": {
          "base_uri": "https://localhost:8080/",
          "height": 419
        },
        "id": "2VZ8fNU16xRQ",
        "outputId": "2032e1fb-be88-46f4-d2a9-0a34e1e58d31"
      },
      "source": [
        "# On each page there are 10 quotes, so we need to scrap 10 pages\r\n",
        "data = []\r\n",
        "for i in range(1,11):\r\n",
        "\r\n",
        "  # get request to the website with page number and header as the link of website ends with /page{page_no}\r\n",
        "  request=Request(f\"http://quotes.toscrape.com/page/{i}/\", headers=hdr)\r\n",
        "\r\n",
        "  # reading and decoding the response of request\r\n",
        "  html=urlopen(request).read().decode()\r\n",
        "\r\n",
        "  # parsing the webpage by using beautiful soup\r\n",
        "  soup=BeautifulSoup(html,'html.parser')\r\n",
        "\r\n",
        "  # quotes are present in div having class \"quote\"\r\n",
        "  quotes = soup.find_all('div', class_='quote')\r\n",
        "\r\n",
        "  #iterate throug those divs\r\n",
        "  for quote in quotes:\r\n",
        "      # finding the quote with span tag and text class\r\n",
        "      text = quote.find('span', class_='text').text\r\n",
        "      # finding the author with small tag and author class\r\n",
        "      author = quote.find('small', class_='author').text\r\n",
        "      # initialising an empty list for tags\r\n",
        "      tags = []\r\n",
        "      # finding all the a tags with tag class\r\n",
        "      tag = quote.find_all('a', class_='tag')\r\n",
        "      #iterating through the tags\r\n",
        "      for t in tag:\r\n",
        "        tags.append(t.text)\r\n",
        "      # appending the quotes found on this page to scraped list\r\n",
        "      data.append([text, author,tags])\r\n",
        "\r\n",
        "# Creatind dataframe consisting of scrapped qoutes, authorm tags\r\n",
        "DataFrame = pd.DataFrame(data,columns=['Quote','Author','Tags'])\r\n",
        "DataFrame"
      ],
      "execution_count": null,
      "outputs": [
        {
          "output_type": "execute_result",
          "data": {
            "text/html": [
              "<div>\n",
              "<style scoped>\n",
              "    .dataframe tbody tr th:only-of-type {\n",
              "        vertical-align: middle;\n",
              "    }\n",
              "\n",
              "    .dataframe tbody tr th {\n",
              "        vertical-align: top;\n",
              "    }\n",
              "\n",
              "    .dataframe thead th {\n",
              "        text-align: right;\n",
              "    }\n",
              "</style>\n",
              "<table border=\"1\" class=\"dataframe\">\n",
              "  <thead>\n",
              "    <tr style=\"text-align: right;\">\n",
              "      <th></th>\n",
              "      <th>Quote</th>\n",
              "      <th>Author</th>\n",
              "      <th>Tags</th>\n",
              "    </tr>\n",
              "  </thead>\n",
              "  <tbody>\n",
              "    <tr>\n",
              "      <th>0</th>\n",
              "      <td>“The world as we have created it is a process ...</td>\n",
              "      <td>Albert Einstein</td>\n",
              "      <td>[change, deep-thoughts, thinking, world]</td>\n",
              "    </tr>\n",
              "    <tr>\n",
              "      <th>1</th>\n",
              "      <td>“It is our choices, Harry, that show what we t...</td>\n",
              "      <td>J.K. Rowling</td>\n",
              "      <td>[abilities, choices]</td>\n",
              "    </tr>\n",
              "    <tr>\n",
              "      <th>2</th>\n",
              "      <td>“There are only two ways to live your life. On...</td>\n",
              "      <td>Albert Einstein</td>\n",
              "      <td>[inspirational, life, live, miracle, miracles]</td>\n",
              "    </tr>\n",
              "    <tr>\n",
              "      <th>3</th>\n",
              "      <td>“The person, be it gentleman or lady, who has ...</td>\n",
              "      <td>Jane Austen</td>\n",
              "      <td>[aliteracy, books, classic, humor]</td>\n",
              "    </tr>\n",
              "    <tr>\n",
              "      <th>4</th>\n",
              "      <td>“Imperfection is beauty, madness is genius and...</td>\n",
              "      <td>Marilyn Monroe</td>\n",
              "      <td>[be-yourself, inspirational]</td>\n",
              "    </tr>\n",
              "    <tr>\n",
              "      <th>...</th>\n",
              "      <td>...</td>\n",
              "      <td>...</td>\n",
              "      <td>...</td>\n",
              "    </tr>\n",
              "    <tr>\n",
              "      <th>95</th>\n",
              "      <td>“You never really understand a person until yo...</td>\n",
              "      <td>Harper Lee</td>\n",
              "      <td>[better-life-empathy]</td>\n",
              "    </tr>\n",
              "    <tr>\n",
              "      <th>96</th>\n",
              "      <td>“You have to write the book that wants to be w...</td>\n",
              "      <td>Madeleine L'Engle</td>\n",
              "      <td>[books, children, difficult, grown-ups, write,...</td>\n",
              "    </tr>\n",
              "    <tr>\n",
              "      <th>97</th>\n",
              "      <td>“Never tell the truth to people who are not wo...</td>\n",
              "      <td>Mark Twain</td>\n",
              "      <td>[truth]</td>\n",
              "    </tr>\n",
              "    <tr>\n",
              "      <th>98</th>\n",
              "      <td>“A person's a person, no matter how small.”</td>\n",
              "      <td>Dr. Seuss</td>\n",
              "      <td>[inspirational]</td>\n",
              "    </tr>\n",
              "    <tr>\n",
              "      <th>99</th>\n",
              "      <td>“... a mind needs books as a sword needs a whe...</td>\n",
              "      <td>George R.R. Martin</td>\n",
              "      <td>[books, mind]</td>\n",
              "    </tr>\n",
              "  </tbody>\n",
              "</table>\n",
              "<p>100 rows × 3 columns</p>\n",
              "</div>"
            ],
            "text/plain": [
              "                                                Quote  ...                                               Tags\n",
              "0   “The world as we have created it is a process ...  ...           [change, deep-thoughts, thinking, world]\n",
              "1   “It is our choices, Harry, that show what we t...  ...                               [abilities, choices]\n",
              "2   “There are only two ways to live your life. On...  ...     [inspirational, life, live, miracle, miracles]\n",
              "3   “The person, be it gentleman or lady, who has ...  ...                 [aliteracy, books, classic, humor]\n",
              "4   “Imperfection is beauty, madness is genius and...  ...                       [be-yourself, inspirational]\n",
              "..                                                ...  ...                                                ...\n",
              "95  “You never really understand a person until yo...  ...                              [better-life-empathy]\n",
              "96  “You have to write the book that wants to be w...  ...  [books, children, difficult, grown-ups, write,...\n",
              "97  “Never tell the truth to people who are not wo...  ...                                            [truth]\n",
              "98        “A person's a person, no matter how small.”  ...                                    [inspirational]\n",
              "99  “... a mind needs books as a sword needs a whe...  ...                                      [books, mind]\n",
              "\n",
              "[100 rows x 3 columns]"
            ]
          },
          "metadata": {
            "tags": []
          },
          "execution_count": 10
        }
      ]
    },
    {
      "cell_type": "markdown",
      "metadata": {
        "id": "sMfHvdJsBRMH"
      },
      "source": [
        "# Supplementary Problem :\r\n",
        "1. Add two more column of Date of Birth (DoB) and Place of Birth(PoB) of the Author to the output\r\n"
      ]
    },
    {
      "cell_type": "code",
      "metadata": {
        "colab": {
          "base_uri": "https://localhost:8080/",
          "height": 589
        },
        "id": "iC8zsrjrBTLn",
        "outputId": "1aad44b7-1a08-4f1e-dca3-56c68a6075ad"
      },
      "source": [
        "# On each page there are 10 quotes, so we need to scrap 10 pages\r\n",
        "data = []\r\n",
        "for i in range(1,11):\r\n",
        "\r\n",
        "  # get request to the website with page number and header as the link of website ends with /page{page_no}\r\n",
        "  request=Request(f\"http://quotes.toscrape.com/page/{i}/\", headers=hdr)\r\n",
        "\r\n",
        "  # reading and decoding the response of request\r\n",
        "  html=urlopen(request).read().decode()\r\n",
        "\r\n",
        "  # parsing the webpage by using beautiful soup\r\n",
        "  soup=BeautifulSoup(html,'html.parser')\r\n",
        "\r\n",
        "  # quotes are present in div having class \"quote\"\r\n",
        "  quotes = soup.find_all('div', class_='quote')\r\n",
        "\r\n",
        "  #iterate throug those divs\r\n",
        "  for quote in quotes:\r\n",
        "      # finding the quote with span tag and text class\r\n",
        "      text = quote.find('span', class_='text').text\r\n",
        "      # finding the author with small tag and author class\r\n",
        "      author = quote.find('small', class_='author').text\r\n",
        "\r\n",
        "      # find the link to about author page\r\n",
        "      link = quote.find('a',href=True).attrs['href']\r\n",
        "\r\n",
        "      # a get request to about author page\r\n",
        "      request=Request(f\"http://quotes.toscrape.com{link}/\", headers=hdr)\r\n",
        "      html=urlopen(request).read().decode()\r\n",
        "\r\n",
        "      # parsing the webpage by using beautiful soup\r\n",
        "      soup=BeautifulSoup(html,'html.parser')\r\n",
        "\r\n",
        "      # finding the author dob and pob \r\n",
        "      dob = soup.find('span', class_='author-born-date').text\r\n",
        "      pob = soup.find('span', class_='author-born-location').text\r\n",
        "      pob = pob.replace('in ','')\r\n",
        "\r\n",
        "      # initialising an empty list for tags\r\n",
        "      tags = []\r\n",
        "      # finding all the a tags with tag class\r\n",
        "      tag = quote.find_all('a', class_='tag')\r\n",
        "      #iterating through the tags\r\n",
        "      for t in tag:\r\n",
        "        tags.append(t.text)\r\n",
        "      # appending the quotes found on this page to scraped list\r\n",
        "      data.append([text, author,tags, dob, pob])\r\n",
        "\r\n",
        "# Creatind dataframe consisting of scrapped qoutes, authorm tags\r\n",
        "DataFrame = pd.DataFrame(data,columns=['Quote','Author','Tags', 'Date of Birth(Author)', 'Place of Birth (Author)' ])\r\n",
        "DataFrame"
      ],
      "execution_count": null,
      "outputs": [
        {
          "output_type": "execute_result",
          "data": {
            "text/html": [
              "<div>\n",
              "<style scoped>\n",
              "    .dataframe tbody tr th:only-of-type {\n",
              "        vertical-align: middle;\n",
              "    }\n",
              "\n",
              "    .dataframe tbody tr th {\n",
              "        vertical-align: top;\n",
              "    }\n",
              "\n",
              "    .dataframe thead th {\n",
              "        text-align: right;\n",
              "    }\n",
              "</style>\n",
              "<table border=\"1\" class=\"dataframe\">\n",
              "  <thead>\n",
              "    <tr style=\"text-align: right;\">\n",
              "      <th></th>\n",
              "      <th>Quote</th>\n",
              "      <th>Author</th>\n",
              "      <th>Tags</th>\n",
              "      <th>Date of Birth(Author)</th>\n",
              "      <th>Place of Birth (Author)</th>\n",
              "    </tr>\n",
              "  </thead>\n",
              "  <tbody>\n",
              "    <tr>\n",
              "      <th>0</th>\n",
              "      <td>“The world as we have created it is a process ...</td>\n",
              "      <td>Albert Einstein</td>\n",
              "      <td>[change, deep-thoughts, thinking, world]</td>\n",
              "      <td>March 14, 1879</td>\n",
              "      <td>Ulm, Germany</td>\n",
              "    </tr>\n",
              "    <tr>\n",
              "      <th>1</th>\n",
              "      <td>“It is our choices, Harry, that show what we t...</td>\n",
              "      <td>J.K. Rowling</td>\n",
              "      <td>[abilities, choices]</td>\n",
              "      <td>July 31, 1965</td>\n",
              "      <td>Yate, South Gloucestershire, England, The Unit...</td>\n",
              "    </tr>\n",
              "    <tr>\n",
              "      <th>2</th>\n",
              "      <td>“There are only two ways to live your life. On...</td>\n",
              "      <td>Albert Einstein</td>\n",
              "      <td>[inspirational, life, live, miracle, miracles]</td>\n",
              "      <td>March 14, 1879</td>\n",
              "      <td>Ulm, Germany</td>\n",
              "    </tr>\n",
              "    <tr>\n",
              "      <th>3</th>\n",
              "      <td>“The person, be it gentleman or lady, who has ...</td>\n",
              "      <td>Jane Austen</td>\n",
              "      <td>[aliteracy, books, classic, humor]</td>\n",
              "      <td>December 16, 1775</td>\n",
              "      <td>Steventon Rectory, Hampshire, The United Kingdom</td>\n",
              "    </tr>\n",
              "    <tr>\n",
              "      <th>4</th>\n",
              "      <td>“Imperfection is beauty, madness is genius and...</td>\n",
              "      <td>Marilyn Monroe</td>\n",
              "      <td>[be-yourself, inspirational]</td>\n",
              "      <td>June 01, 1926</td>\n",
              "      <td>The United States</td>\n",
              "    </tr>\n",
              "    <tr>\n",
              "      <th>...</th>\n",
              "      <td>...</td>\n",
              "      <td>...</td>\n",
              "      <td>...</td>\n",
              "      <td>...</td>\n",
              "      <td>...</td>\n",
              "    </tr>\n",
              "    <tr>\n",
              "      <th>95</th>\n",
              "      <td>“You never really understand a person until yo...</td>\n",
              "      <td>Harper Lee</td>\n",
              "      <td>[better-life-empathy]</td>\n",
              "      <td>April 28, 1926</td>\n",
              "      <td>Monroeville, Alabama, The United States</td>\n",
              "    </tr>\n",
              "    <tr>\n",
              "      <th>96</th>\n",
              "      <td>“You have to write the book that wants to be w...</td>\n",
              "      <td>Madeleine L'Engle</td>\n",
              "      <td>[books, children, difficult, grown-ups, write,...</td>\n",
              "      <td>November 29, 1918</td>\n",
              "      <td>New York City, New York, The United States</td>\n",
              "    </tr>\n",
              "    <tr>\n",
              "      <th>97</th>\n",
              "      <td>“Never tell the truth to people who are not wo...</td>\n",
              "      <td>Mark Twain</td>\n",
              "      <td>[truth]</td>\n",
              "      <td>November 30, 1835</td>\n",
              "      <td>Florida, Missouri, The United States</td>\n",
              "    </tr>\n",
              "    <tr>\n",
              "      <th>98</th>\n",
              "      <td>“A person's a person, no matter how small.”</td>\n",
              "      <td>Dr. Seuss</td>\n",
              "      <td>[inspirational]</td>\n",
              "      <td>March 02, 1904</td>\n",
              "      <td>Springfield, MA, The United States</td>\n",
              "    </tr>\n",
              "    <tr>\n",
              "      <th>99</th>\n",
              "      <td>“... a mind needs books as a sword needs a whe...</td>\n",
              "      <td>George R.R. Martin</td>\n",
              "      <td>[books, mind]</td>\n",
              "      <td>September 20, 1948</td>\n",
              "      <td>Bayonne, New Jersey, The United States</td>\n",
              "    </tr>\n",
              "  </tbody>\n",
              "</table>\n",
              "<p>100 rows × 5 columns</p>\n",
              "</div>"
            ],
            "text/plain": [
              "                                                Quote  ...                            Place of Birth (Author)\n",
              "0   “The world as we have created it is a process ...  ...                                       Ulm, Germany\n",
              "1   “It is our choices, Harry, that show what we t...  ...  Yate, South Gloucestershire, England, The Unit...\n",
              "2   “There are only two ways to live your life. On...  ...                                       Ulm, Germany\n",
              "3   “The person, be it gentleman or lady, who has ...  ...   Steventon Rectory, Hampshire, The United Kingdom\n",
              "4   “Imperfection is beauty, madness is genius and...  ...                                  The United States\n",
              "..                                                ...  ...                                                ...\n",
              "95  “You never really understand a person until yo...  ...            Monroeville, Alabama, The United States\n",
              "96  “You have to write the book that wants to be w...  ...         New York City, New York, The United States\n",
              "97  “Never tell the truth to people who are not wo...  ...               Florida, Missouri, The United States\n",
              "98        “A person's a person, no matter how small.”  ...                 Springfield, MA, The United States\n",
              "99  “... a mind needs books as a sword needs a whe...  ...             Bayonne, New Jersey, The United States\n",
              "\n",
              "[100 rows x 5 columns]"
            ]
          },
          "metadata": {
            "tags": []
          },
          "execution_count": 11
        }
      ]
    }
  ]
}