{
  "nbformat": 4,
  "nbformat_minor": 0,
  "metadata": {
    "kernelspec": {
      "display_name": "Python 3",
      "language": "python",
      "name": "python3"
    },
    "language_info": {
      "codemirror_mode": {
        "name": "ipython",
        "version": 3
      },
      "file_extension": ".py",
      "mimetype": "text/x-python",
      "name": "python",
      "nbconvert_exporter": "python",
      "pygments_lexer": "ipython3",
      "version": "3.7.6"
    },
    "colab": {
      "name": "Lab5_181210043_2hr.ipynb",
      "provenance": []
    }
  },
  "cells": [
    {
      "cell_type": "markdown",
      "metadata": {
        "id": "6_ZaLciKugkm"
      },
      "source": [
        "# CSB352: Data Mining LAB \n",
        "\n",
        "**Instructor** : [Dr. Chandra Prakash]\n",
        "\n",
        "* For more information visit the [class website](https://cprakash86.wordpress.com/csb352_s21/).\n",
        "\n",
        "* DATE: 01-Feb-2021\n",
        "\n"
      ]
    },
    {
      "cell_type": "markdown",
      "metadata": {
        "id": "she3NRpougks"
      },
      "source": [
        "# LAB  5: Data Pre-Processing "
      ]
    },
    {
      "cell_type": "markdown",
      "metadata": {
        "id": "VXBnCMHVybJS"
      },
      "source": [
        "### Feature Engineering in ML \n",
        "\n",
        "1. Data Visualization\n",
        "\n",
        "2. Data Pre-processing \n",
        "    - Missing Values \n",
        "    - Handling Outliers\n",
        "    - Label Encoding\n",
        "    - Log Transform\n",
        "        - handle skewed data and after transformation, the distribution becomes more approximate to normal.\n",
        "        - decreases the effect of the outliers\n",
        "    - Binning\n",
        "        - Binning can be applied on both categorical and numerical data.\n",
        "        - Model more robust and prevent overfitting\n",
        "        \n",
        "    - Scaling/ Normalization\n",
        "        - Need of Normalization\n",
        "        - Type of Normalization\n",
        "            - Min-Max Normalization\n",
        "            - Standard Normalization / Standardization\n",
        "            - Z-score Normalization\n",
        "    - Feature Split / Joining"
      ]
    },
    {
      "cell_type": "markdown",
      "metadata": {
        "id": "tZ4ipJPKugkt"
      },
      "source": [
        "### Need of Pre-Processing \n",
        "\n",
        "![title](preprocessing.png)"
      ]
    },
    {
      "cell_type": "markdown",
      "metadata": {
        "id": "7KdMAAkOugkt"
      },
      "source": [
        "# PART 4.1: Tabular data Pre-processing  "
      ]
    },
    {
      "cell_type": "markdown",
      "metadata": {
        "id": "lQZCyi8Bugkt"
      },
      "source": [
        "- Structured data - Tabular data\n",
        "- Semistructured data - Json data\n",
        "- Unstructured data - Text file"
      ]
    },
    {
      "cell_type": "markdown",
      "metadata": {
        "id": "iNK_Z_f2ugkt"
      },
      "source": [
        "**Downlaod the DATA**\n"
      ]
    },
    {
      "cell_type": "code",
      "metadata": {
        "colab": {
          "base_uri": "https://localhost:8080/"
        },
        "id": "-1bvCQgPugku",
        "outputId": "e43ec5fc-696b-4a1c-fa66-582f1d8aa547"
      },
      "source": [
        "\n",
        "from datetime import datetime\n",
        "\n",
        "try:\n",
        "    from google.colab import drive\n",
        "    %tensorflow_version 2.x\n",
        "    COLAB = True\n",
        "    print(\"Assignment 4\")\n",
        "    print(\"Note: using Google CoLab\")\n",
        "except:\n",
        "    print(\"Assignment 4\")\n",
        "    print(\"Note: not using Google CoLab\")\n",
        "    COLAB = False\n",
        "    \n",
        "# Print your name and Roll No. \n",
        "print('Name :Rohit Byas')\n",
        "print('Roll No. : 181210043')\n",
        "# Print the curent time\n",
        "\n",
        "now = datetime.now()\n",
        "\n",
        "current_time = now.strftime(\"%H:%M:%S\")\n",
        "print(\"Current Time =\", current_time)"
      ],
      "execution_count": 37,
      "outputs": [
        {
          "output_type": "stream",
          "text": [
            "Assignment 4\n",
            "Note: using Google CoLab\n",
            "Name :Rohit Byas\n",
            "Roll No. : 181210043\n",
            "Current Time = 08:56:34\n"
          ],
          "name": "stdout"
        }
      ]
    },
    {
      "cell_type": "markdown",
      "metadata": {
        "id": "Ax5NXZKAugku"
      },
      "source": [
        "## Data reading and setup"
      ]
    },
    {
      "cell_type": "code",
      "metadata": {
        "id": "6F0Ls3c3ugku"
      },
      "source": [
        "import numpy as np\n",
        "import pandas as pd"
      ],
      "execution_count": 192,
      "outputs": []
    },
    {
      "cell_type": "code",
      "metadata": {
        "id": "m6YUet9Xugku"
      },
      "source": [
        "# Read the Dataset \n",
        "\n",
        "data_actuals=pd.read_csv('data/actuals.csv')\n",
        "data_schedules=pd.read_csv('data/schedules.csv')\n",
        "data_drones=pd.read_csv('data/drones.csv')\n",
        "\n",
        "data_services=pd.read_csv('data/services.csv')\n",
        "data_stations=pd.read_csv('data/stations.csv')"
      ],
      "execution_count": 193,
      "outputs": []
    },
    {
      "cell_type": "code",
      "metadata": {
        "colab": {
          "base_uri": "https://localhost:8080/",
          "height": 215
        },
        "id": "OP4ND9i-ugkv",
        "outputId": "9976641c-2ea5-46b0-9c22-abd6cacdb088"
      },
      "source": [
        "# Show the top 5 rows of actuals.csv\n",
        "\n",
        "data_actuals.head()"
      ],
      "execution_count": 194,
      "outputs": [
        {
          "output_type": "execute_result",
          "data": {
            "text/html": [
              "<div>\n",
              "<style scoped>\n",
              "    .dataframe tbody tr th:only-of-type {\n",
              "        vertical-align: middle;\n",
              "    }\n",
              "\n",
              "    .dataframe tbody tr th {\n",
              "        vertical-align: top;\n",
              "    }\n",
              "\n",
              "    .dataframe thead th {\n",
              "        text-align: right;\n",
              "    }\n",
              "</style>\n",
              "<table border=\"1\" class=\"dataframe\">\n",
              "  <thead>\n",
              "    <tr style=\"text-align: right;\">\n",
              "      <th></th>\n",
              "      <th>actual_arrival_datetime</th>\n",
              "      <th>actual_departure_datetime</th>\n",
              "      <th>actual_fuel_consumption_gm_per_mile</th>\n",
              "      <th>actual_windspeed_kts</th>\n",
              "      <th>arrival_delay_seconds</th>\n",
              "      <th>service_id</th>\n",
              "      <th>station</th>\n",
              "      <th>station_call_id</th>\n",
              "    </tr>\n",
              "  </thead>\n",
              "  <tbody>\n",
              "    <tr>\n",
              "      <th>0</th>\n",
              "      <td>2050-07-01 05:06</td>\n",
              "      <td>2050-07-01 06:00</td>\n",
              "      <td>56.12</td>\n",
              "      <td>0</td>\n",
              "      <td>2</td>\n",
              "      <td>JP_0</td>\n",
              "      <td>Iwade</td>\n",
              "      <td>JP_0_205007010506</td>\n",
              "    </tr>\n",
              "    <tr>\n",
              "      <th>1</th>\n",
              "      <td>2050-07-01 06:19</td>\n",
              "      <td>2050-07-01 07:00</td>\n",
              "      <td>168.31</td>\n",
              "      <td>0</td>\n",
              "      <td>5</td>\n",
              "      <td>JP_0</td>\n",
              "      <td>Komono</td>\n",
              "      <td>JP_0_205007010619</td>\n",
              "    </tr>\n",
              "    <tr>\n",
              "      <th>2</th>\n",
              "      <td>2050-07-01 07:09</td>\n",
              "      <td>2050-07-01 08:00</td>\n",
              "      <td>77.31</td>\n",
              "      <td>0</td>\n",
              "      <td>2</td>\n",
              "      <td>JP_0</td>\n",
              "      <td>Toba</td>\n",
              "      <td>JP_0_205007010709</td>\n",
              "    </tr>\n",
              "    <tr>\n",
              "      <th>3</th>\n",
              "      <td>2050-07-01 08:21</td>\n",
              "      <td>2050-07-01 09:00</td>\n",
              "      <td>164.24</td>\n",
              "      <td>0</td>\n",
              "      <td>6</td>\n",
              "      <td>JP_0</td>\n",
              "      <td>Gero</td>\n",
              "      <td>JP_0_205007010821</td>\n",
              "    </tr>\n",
              "    <tr>\n",
              "      <th>4</th>\n",
              "      <td>2050-07-01 09:09</td>\n",
              "      <td>2050-07-01 10:00</td>\n",
              "      <td>69.68</td>\n",
              "      <td>0</td>\n",
              "      <td>3</td>\n",
              "      <td>JP_0</td>\n",
              "      <td>Ina</td>\n",
              "      <td>JP_0_205007010909</td>\n",
              "    </tr>\n",
              "  </tbody>\n",
              "</table>\n",
              "</div>"
            ],
            "text/plain": [
              "  actual_arrival_datetime actual_departure_datetime  ...  station    station_call_id\n",
              "0        2050-07-01 05:06          2050-07-01 06:00  ...    Iwade  JP_0_205007010506\n",
              "1        2050-07-01 06:19          2050-07-01 07:00  ...   Komono  JP_0_205007010619\n",
              "2        2050-07-01 07:09          2050-07-01 08:00  ...     Toba  JP_0_205007010709\n",
              "3        2050-07-01 08:21          2050-07-01 09:00  ...     Gero  JP_0_205007010821\n",
              "4        2050-07-01 09:09          2050-07-01 10:00  ...      Ina  JP_0_205007010909\n",
              "\n",
              "[5 rows x 8 columns]"
            ]
          },
          "metadata": {
            "tags": []
          },
          "execution_count": 194
        }
      ]
    },
    {
      "cell_type": "code",
      "metadata": {
        "colab": {
          "base_uri": "https://localhost:8080/",
          "height": 195
        },
        "id": "r13Dqxciugkv",
        "outputId": "28b152f9-fd19-45bd-ada9-b8b345ccedf3"
      },
      "source": [
        "# Show the top 5 rows of schedules.csv\n",
        "data_schedules.head()"
      ],
      "execution_count": 195,
      "outputs": [
        {
          "output_type": "execute_result",
          "data": {
            "text/html": [
              "<div>\n",
              "<style scoped>\n",
              "    .dataframe tbody tr th:only-of-type {\n",
              "        vertical-align: middle;\n",
              "    }\n",
              "\n",
              "    .dataframe tbody tr th {\n",
              "        vertical-align: top;\n",
              "    }\n",
              "\n",
              "    .dataframe thead th {\n",
              "        text-align: right;\n",
              "    }\n",
              "</style>\n",
              "<table border=\"1\" class=\"dataframe\">\n",
              "  <thead>\n",
              "    <tr style=\"text-align: right;\">\n",
              "      <th></th>\n",
              "      <th>forecast_windspeed_kts</th>\n",
              "      <th>scheduled_arrival_datetime</th>\n",
              "      <th>scheduled_departure_datetime</th>\n",
              "      <th>service_id</th>\n",
              "      <th>station</th>\n",
              "      <th>station_call_id</th>\n",
              "    </tr>\n",
              "  </thead>\n",
              "  <tbody>\n",
              "    <tr>\n",
              "      <th>0</th>\n",
              "      <td>4</td>\n",
              "      <td>2050-07-01 05:06</td>\n",
              "      <td>2050-07-01 06:00</td>\n",
              "      <td>JP_0</td>\n",
              "      <td>Iwade</td>\n",
              "      <td>JP_0_205007010506</td>\n",
              "    </tr>\n",
              "    <tr>\n",
              "      <th>1</th>\n",
              "      <td>7</td>\n",
              "      <td>2050-07-01 06:19</td>\n",
              "      <td>2050-07-01 07:00</td>\n",
              "      <td>JP_0</td>\n",
              "      <td>Komono</td>\n",
              "      <td>JP_0_205007010619</td>\n",
              "    </tr>\n",
              "    <tr>\n",
              "      <th>2</th>\n",
              "      <td>6</td>\n",
              "      <td>2050-07-01 07:09</td>\n",
              "      <td>2050-07-01 08:00</td>\n",
              "      <td>JP_0</td>\n",
              "      <td>Toba</td>\n",
              "      <td>JP_0_205007010709</td>\n",
              "    </tr>\n",
              "    <tr>\n",
              "      <th>3</th>\n",
              "      <td>8</td>\n",
              "      <td>2050-07-01 08:21</td>\n",
              "      <td>2050-07-01 09:00</td>\n",
              "      <td>JP_0</td>\n",
              "      <td>Gero</td>\n",
              "      <td>JP_0_205007010821</td>\n",
              "    </tr>\n",
              "    <tr>\n",
              "      <th>4</th>\n",
              "      <td>13</td>\n",
              "      <td>2050-07-01 09:09</td>\n",
              "      <td>2050-07-01 10:00</td>\n",
              "      <td>JP_0</td>\n",
              "      <td>Ina</td>\n",
              "      <td>JP_0_205007010909</td>\n",
              "    </tr>\n",
              "  </tbody>\n",
              "</table>\n",
              "</div>"
            ],
            "text/plain": [
              "   forecast_windspeed_kts scheduled_arrival_datetime  ... station    station_call_id\n",
              "0                       4           2050-07-01 05:06  ...   Iwade  JP_0_205007010506\n",
              "1                       7           2050-07-01 06:19  ...  Komono  JP_0_205007010619\n",
              "2                       6           2050-07-01 07:09  ...    Toba  JP_0_205007010709\n",
              "3                       8           2050-07-01 08:21  ...    Gero  JP_0_205007010821\n",
              "4                      13           2050-07-01 09:09  ...     Ina  JP_0_205007010909\n",
              "\n",
              "[5 rows x 6 columns]"
            ]
          },
          "metadata": {
            "tags": []
          },
          "execution_count": 195
        }
      ]
    },
    {
      "cell_type": "code",
      "metadata": {
        "colab": {
          "base_uri": "https://localhost:8080/",
          "height": 266
        },
        "id": "kX5KEUSUugkv",
        "outputId": "1cf01f39-ea9d-4e90-f833-335c3a0bcb75"
      },
      "source": [
        "# Show the top 5 rows of drones.csv\n",
        "\n",
        "data_drones.head()"
      ],
      "execution_count": 196,
      "outputs": [
        {
          "output_type": "execute_result",
          "data": {
            "text/html": [
              "<div>\n",
              "<style scoped>\n",
              "    .dataframe tbody tr th:only-of-type {\n",
              "        vertical-align: middle;\n",
              "    }\n",
              "\n",
              "    .dataframe tbody tr th {\n",
              "        vertical-align: top;\n",
              "    }\n",
              "\n",
              "    .dataframe thead th {\n",
              "        text-align: right;\n",
              "    }\n",
              "</style>\n",
              "<table border=\"1\" class=\"dataframe\">\n",
              "  <thead>\n",
              "    <tr style=\"text-align: right;\">\n",
              "      <th></th>\n",
              "      <th>capacity_persons</th>\n",
              "      <th>drone_id</th>\n",
              "      <th>fuel_consumption_gm_per_mile</th>\n",
              "      <th>manufacturer</th>\n",
              "      <th>max_altitude_ft</th>\n",
              "      <th>max_capacity_fuel_gm</th>\n",
              "      <th>min_capacity_fuel_gm</th>\n",
              "      <th>operating_speed_mph</th>\n",
              "      <th>optimal_altitude_ft</th>\n",
              "      <th>service_id</th>\n",
              "    </tr>\n",
              "  </thead>\n",
              "  <tbody>\n",
              "    <tr>\n",
              "      <th>0</th>\n",
              "      <td>114</td>\n",
              "      <td>971-LGB</td>\n",
              "      <td>1.87</td>\n",
              "      <td>Sharp Ltd</td>\n",
              "      <td>8000</td>\n",
              "      <td>3740</td>\n",
              "      <td>1</td>\n",
              "      <td>266</td>\n",
              "      <td>1000</td>\n",
              "      <td>JP_0</td>\n",
              "    </tr>\n",
              "    <tr>\n",
              "      <th>1</th>\n",
              "      <td>438</td>\n",
              "      <td>ZTG 357</td>\n",
              "      <td>5.10</td>\n",
              "      <td>Freeman-Garrison</td>\n",
              "      <td>7000</td>\n",
              "      <td>10200</td>\n",
              "      <td>1</td>\n",
              "      <td>216</td>\n",
              "      <td>1000</td>\n",
              "      <td>DZ_0</td>\n",
              "    </tr>\n",
              "    <tr>\n",
              "      <th>2</th>\n",
              "      <td>493</td>\n",
              "      <td>I55 1AC</td>\n",
              "      <td>0.79</td>\n",
              "      <td>Perez Inc</td>\n",
              "      <td>4000</td>\n",
              "      <td>1580</td>\n",
              "      <td>1</td>\n",
              "      <td>149</td>\n",
              "      <td>2000</td>\n",
              "      <td>DE_1</td>\n",
              "    </tr>\n",
              "    <tr>\n",
              "      <th>3</th>\n",
              "      <td>154</td>\n",
              "      <td>XUW-2971</td>\n",
              "      <td>2.84</td>\n",
              "      <td>Sharp Ltd</td>\n",
              "      <td>9000</td>\n",
              "      <td>2840</td>\n",
              "      <td>1</td>\n",
              "      <td>291</td>\n",
              "      <td>1000</td>\n",
              "      <td>US_0</td>\n",
              "    </tr>\n",
              "    <tr>\n",
              "      <th>4</th>\n",
              "      <td>59</td>\n",
              "      <td>564AL</td>\n",
              "      <td>0.76</td>\n",
              "      <td>Greene-Beasley</td>\n",
              "      <td>10000</td>\n",
              "      <td>1520</td>\n",
              "      <td>1</td>\n",
              "      <td>188</td>\n",
              "      <td>1000</td>\n",
              "      <td>JP_2</td>\n",
              "    </tr>\n",
              "  </tbody>\n",
              "</table>\n",
              "</div>"
            ],
            "text/plain": [
              "   capacity_persons  drone_id  ...  optimal_altitude_ft service_id\n",
              "0               114   971-LGB  ...                 1000       JP_0\n",
              "1               438   ZTG 357  ...                 1000       DZ_0\n",
              "2               493   I55 1AC  ...                 2000       DE_1\n",
              "3               154  XUW-2971  ...                 1000       US_0\n",
              "4                59     564AL  ...                 1000       JP_2\n",
              "\n",
              "[5 rows x 10 columns]"
            ]
          },
          "metadata": {
            "tags": []
          },
          "execution_count": 196
        }
      ]
    },
    {
      "cell_type": "markdown",
      "metadata": {
        "id": "vGhNQb2Iugkv"
      },
      "source": [
        "### Merge DATA "
      ]
    },
    {
      "cell_type": "code",
      "metadata": {
        "colab": {
          "base_uri": "https://localhost:8080/",
          "height": 215
        },
        "id": "AotDI5mFugkv",
        "outputId": "8c34ecd6-d9a0-4bb5-dc16-1e281a1a7124"
      },
      "source": [
        "# HOW  to Merge df_schedules and df_drones data \n",
        "# Check the merge command help \n",
        "\n",
        "## WRITE YOUR CODE \n",
        "final_data = data_schedules.merge(data_drones,on='service_id')\n",
        "final_data.head()\n"
      ],
      "execution_count": 197,
      "outputs": [
        {
          "output_type": "execute_result",
          "data": {
            "text/html": [
              "<div>\n",
              "<style scoped>\n",
              "    .dataframe tbody tr th:only-of-type {\n",
              "        vertical-align: middle;\n",
              "    }\n",
              "\n",
              "    .dataframe tbody tr th {\n",
              "        vertical-align: top;\n",
              "    }\n",
              "\n",
              "    .dataframe thead th {\n",
              "        text-align: right;\n",
              "    }\n",
              "</style>\n",
              "<table border=\"1\" class=\"dataframe\">\n",
              "  <thead>\n",
              "    <tr style=\"text-align: right;\">\n",
              "      <th></th>\n",
              "      <th>forecast_windspeed_kts</th>\n",
              "      <th>scheduled_arrival_datetime</th>\n",
              "      <th>scheduled_departure_datetime</th>\n",
              "      <th>service_id</th>\n",
              "      <th>station</th>\n",
              "      <th>station_call_id</th>\n",
              "      <th>capacity_persons</th>\n",
              "      <th>drone_id</th>\n",
              "      <th>fuel_consumption_gm_per_mile</th>\n",
              "      <th>manufacturer</th>\n",
              "      <th>max_altitude_ft</th>\n",
              "      <th>max_capacity_fuel_gm</th>\n",
              "      <th>min_capacity_fuel_gm</th>\n",
              "      <th>operating_speed_mph</th>\n",
              "      <th>optimal_altitude_ft</th>\n",
              "    </tr>\n",
              "  </thead>\n",
              "  <tbody>\n",
              "    <tr>\n",
              "      <th>0</th>\n",
              "      <td>4</td>\n",
              "      <td>2050-07-01 05:06</td>\n",
              "      <td>2050-07-01 06:00</td>\n",
              "      <td>JP_0</td>\n",
              "      <td>Iwade</td>\n",
              "      <td>JP_0_205007010506</td>\n",
              "      <td>114</td>\n",
              "      <td>971-LGB</td>\n",
              "      <td>1.87</td>\n",
              "      <td>Sharp Ltd</td>\n",
              "      <td>8000</td>\n",
              "      <td>3740</td>\n",
              "      <td>1</td>\n",
              "      <td>266</td>\n",
              "      <td>1000</td>\n",
              "    </tr>\n",
              "    <tr>\n",
              "      <th>1</th>\n",
              "      <td>7</td>\n",
              "      <td>2050-07-01 06:19</td>\n",
              "      <td>2050-07-01 07:00</td>\n",
              "      <td>JP_0</td>\n",
              "      <td>Komono</td>\n",
              "      <td>JP_0_205007010619</td>\n",
              "      <td>114</td>\n",
              "      <td>971-LGB</td>\n",
              "      <td>1.87</td>\n",
              "      <td>Sharp Ltd</td>\n",
              "      <td>8000</td>\n",
              "      <td>3740</td>\n",
              "      <td>1</td>\n",
              "      <td>266</td>\n",
              "      <td>1000</td>\n",
              "    </tr>\n",
              "    <tr>\n",
              "      <th>2</th>\n",
              "      <td>6</td>\n",
              "      <td>2050-07-01 07:09</td>\n",
              "      <td>2050-07-01 08:00</td>\n",
              "      <td>JP_0</td>\n",
              "      <td>Toba</td>\n",
              "      <td>JP_0_205007010709</td>\n",
              "      <td>114</td>\n",
              "      <td>971-LGB</td>\n",
              "      <td>1.87</td>\n",
              "      <td>Sharp Ltd</td>\n",
              "      <td>8000</td>\n",
              "      <td>3740</td>\n",
              "      <td>1</td>\n",
              "      <td>266</td>\n",
              "      <td>1000</td>\n",
              "    </tr>\n",
              "    <tr>\n",
              "      <th>3</th>\n",
              "      <td>8</td>\n",
              "      <td>2050-07-01 08:21</td>\n",
              "      <td>2050-07-01 09:00</td>\n",
              "      <td>JP_0</td>\n",
              "      <td>Gero</td>\n",
              "      <td>JP_0_205007010821</td>\n",
              "      <td>114</td>\n",
              "      <td>971-LGB</td>\n",
              "      <td>1.87</td>\n",
              "      <td>Sharp Ltd</td>\n",
              "      <td>8000</td>\n",
              "      <td>3740</td>\n",
              "      <td>1</td>\n",
              "      <td>266</td>\n",
              "      <td>1000</td>\n",
              "    </tr>\n",
              "    <tr>\n",
              "      <th>4</th>\n",
              "      <td>13</td>\n",
              "      <td>2050-07-01 09:09</td>\n",
              "      <td>2050-07-01 10:00</td>\n",
              "      <td>JP_0</td>\n",
              "      <td>Ina</td>\n",
              "      <td>JP_0_205007010909</td>\n",
              "      <td>114</td>\n",
              "      <td>971-LGB</td>\n",
              "      <td>1.87</td>\n",
              "      <td>Sharp Ltd</td>\n",
              "      <td>8000</td>\n",
              "      <td>3740</td>\n",
              "      <td>1</td>\n",
              "      <td>266</td>\n",
              "      <td>1000</td>\n",
              "    </tr>\n",
              "  </tbody>\n",
              "</table>\n",
              "</div>"
            ],
            "text/plain": [
              "   forecast_windspeed_kts  ... optimal_altitude_ft\n",
              "0                       4  ...                1000\n",
              "1                       7  ...                1000\n",
              "2                       6  ...                1000\n",
              "3                       8  ...                1000\n",
              "4                      13  ...                1000\n",
              "\n",
              "[5 rows x 15 columns]"
            ]
          },
          "metadata": {
            "tags": []
          },
          "execution_count": 197
        }
      ]
    },
    {
      "cell_type": "markdown",
      "metadata": {
        "id": "K5mR5FCQugkw"
      },
      "source": [
        "### Drop  a column /Row "
      ]
    },
    {
      "cell_type": "code",
      "metadata": {
        "id": "tk-lBJkQugkw"
      },
      "source": [
        "# Check the drop command help and write the syntex\n"
      ],
      "execution_count": 188,
      "outputs": []
    },
    {
      "cell_type": "code",
      "metadata": {
        "id": "Yu7hIndnugkw"
      },
      "source": [
        "clm_to_drop = ['scheduled_arrival_datetime','scheduled_departure_datetime','service_id','station','manufacturer','drone_id']"
      ],
      "execution_count": 198,
      "outputs": []
    },
    {
      "cell_type": "code",
      "metadata": {
        "colab": {
          "base_uri": "https://localhost:8080/",
          "height": 422
        },
        "id": "ParLmdvK81Yn",
        "outputId": "87caee4f-c313-4594-935e-e3bc9cf6647d"
      },
      "source": [
        "final_data"
      ],
      "execution_count": 189,
      "outputs": [
        {
          "output_type": "execute_result",
          "data": {
            "text/html": [
              "<div>\n",
              "<style scoped>\n",
              "    .dataframe tbody tr th:only-of-type {\n",
              "        vertical-align: middle;\n",
              "    }\n",
              "\n",
              "    .dataframe tbody tr th {\n",
              "        vertical-align: top;\n",
              "    }\n",
              "\n",
              "    .dataframe thead th {\n",
              "        text-align: right;\n",
              "    }\n",
              "</style>\n",
              "<table border=\"1\" class=\"dataframe\">\n",
              "  <thead>\n",
              "    <tr style=\"text-align: right;\">\n",
              "      <th></th>\n",
              "      <th>forecast_windspeed_kts</th>\n",
              "      <th>scheduled_arrival_datetime</th>\n",
              "      <th>scheduled_departure_datetime</th>\n",
              "      <th>service_id</th>\n",
              "      <th>station</th>\n",
              "      <th>station_call_id</th>\n",
              "      <th>capacity_persons</th>\n",
              "      <th>drone_id</th>\n",
              "      <th>fuel_consumption_gm_per_mile</th>\n",
              "      <th>manufacturer</th>\n",
              "      <th>max_altitude_ft</th>\n",
              "      <th>max_capacity_fuel_gm</th>\n",
              "      <th>min_capacity_fuel_gm</th>\n",
              "      <th>operating_speed_mph</th>\n",
              "      <th>optimal_altitude_ft</th>\n",
              "    </tr>\n",
              "  </thead>\n",
              "  <tbody>\n",
              "    <tr>\n",
              "      <th>0</th>\n",
              "      <td>4</td>\n",
              "      <td>2050-07-01 05:06</td>\n",
              "      <td>2050-07-01 06:00</td>\n",
              "      <td>JP_0</td>\n",
              "      <td>Iwade</td>\n",
              "      <td>JP_0_205007010506</td>\n",
              "      <td>114</td>\n",
              "      <td>971-LGB</td>\n",
              "      <td>1.87</td>\n",
              "      <td>Sharp Ltd</td>\n",
              "      <td>8000</td>\n",
              "      <td>3740</td>\n",
              "      <td>1</td>\n",
              "      <td>266</td>\n",
              "      <td>1000</td>\n",
              "    </tr>\n",
              "    <tr>\n",
              "      <th>1</th>\n",
              "      <td>7</td>\n",
              "      <td>2050-07-01 06:19</td>\n",
              "      <td>2050-07-01 07:00</td>\n",
              "      <td>JP_0</td>\n",
              "      <td>Komono</td>\n",
              "      <td>JP_0_205007010619</td>\n",
              "      <td>114</td>\n",
              "      <td>971-LGB</td>\n",
              "      <td>1.87</td>\n",
              "      <td>Sharp Ltd</td>\n",
              "      <td>8000</td>\n",
              "      <td>3740</td>\n",
              "      <td>1</td>\n",
              "      <td>266</td>\n",
              "      <td>1000</td>\n",
              "    </tr>\n",
              "    <tr>\n",
              "      <th>2</th>\n",
              "      <td>6</td>\n",
              "      <td>2050-07-01 07:09</td>\n",
              "      <td>2050-07-01 08:00</td>\n",
              "      <td>JP_0</td>\n",
              "      <td>Toba</td>\n",
              "      <td>JP_0_205007010709</td>\n",
              "      <td>114</td>\n",
              "      <td>971-LGB</td>\n",
              "      <td>1.87</td>\n",
              "      <td>Sharp Ltd</td>\n",
              "      <td>8000</td>\n",
              "      <td>3740</td>\n",
              "      <td>1</td>\n",
              "      <td>266</td>\n",
              "      <td>1000</td>\n",
              "    </tr>\n",
              "    <tr>\n",
              "      <th>3</th>\n",
              "      <td>8</td>\n",
              "      <td>2050-07-01 08:21</td>\n",
              "      <td>2050-07-01 09:00</td>\n",
              "      <td>JP_0</td>\n",
              "      <td>Gero</td>\n",
              "      <td>JP_0_205007010821</td>\n",
              "      <td>114</td>\n",
              "      <td>971-LGB</td>\n",
              "      <td>1.87</td>\n",
              "      <td>Sharp Ltd</td>\n",
              "      <td>8000</td>\n",
              "      <td>3740</td>\n",
              "      <td>1</td>\n",
              "      <td>266</td>\n",
              "      <td>1000</td>\n",
              "    </tr>\n",
              "    <tr>\n",
              "      <th>4</th>\n",
              "      <td>13</td>\n",
              "      <td>2050-07-01 09:09</td>\n",
              "      <td>2050-07-01 10:00</td>\n",
              "      <td>JP_0</td>\n",
              "      <td>Ina</td>\n",
              "      <td>JP_0_205007010909</td>\n",
              "      <td>114</td>\n",
              "      <td>971-LGB</td>\n",
              "      <td>1.87</td>\n",
              "      <td>Sharp Ltd</td>\n",
              "      <td>8000</td>\n",
              "      <td>3740</td>\n",
              "      <td>1</td>\n",
              "      <td>266</td>\n",
              "      <td>1000</td>\n",
              "    </tr>\n",
              "    <tr>\n",
              "      <th>...</th>\n",
              "      <td>...</td>\n",
              "      <td>...</td>\n",
              "      <td>...</td>\n",
              "      <td>...</td>\n",
              "      <td>...</td>\n",
              "      <td>...</td>\n",
              "      <td>...</td>\n",
              "      <td>...</td>\n",
              "      <td>...</td>\n",
              "      <td>...</td>\n",
              "      <td>...</td>\n",
              "      <td>...</td>\n",
              "      <td>...</td>\n",
              "      <td>...</td>\n",
              "      <td>...</td>\n",
              "    </tr>\n",
              "    <tr>\n",
              "      <th>12489</th>\n",
              "      <td>1</td>\n",
              "      <td>2050-07-30 07:54</td>\n",
              "      <td>2050-07-30 12:00</td>\n",
              "      <td>World_3</td>\n",
              "      <td>Changzhi</td>\n",
              "      <td>World_3_205007300754</td>\n",
              "      <td>1066</td>\n",
              "      <td>AOT 595</td>\n",
              "      <td>17.86</td>\n",
              "      <td>Sharp Ltd</td>\n",
              "      <td>4000</td>\n",
              "      <td>17860</td>\n",
              "      <td>1</td>\n",
              "      <td>620</td>\n",
              "      <td>1000</td>\n",
              "    </tr>\n",
              "    <tr>\n",
              "      <th>12490</th>\n",
              "      <td>1</td>\n",
              "      <td>2050-07-30 19:36</td>\n",
              "      <td>2050-07-30 22:00</td>\n",
              "      <td>World_3</td>\n",
              "      <td>Oschatz</td>\n",
              "      <td>World_3_205007301936</td>\n",
              "      <td>1066</td>\n",
              "      <td>AOT 595</td>\n",
              "      <td>17.86</td>\n",
              "      <td>Sharp Ltd</td>\n",
              "      <td>4000</td>\n",
              "      <td>17860</td>\n",
              "      <td>1</td>\n",
              "      <td>620</td>\n",
              "      <td>1000</td>\n",
              "    </tr>\n",
              "    <tr>\n",
              "      <th>12491</th>\n",
              "      <td>0</td>\n",
              "      <td>2050-07-31 04:54</td>\n",
              "      <td>2050-07-31 07:00</td>\n",
              "      <td>World_3</td>\n",
              "      <td>Mechanicsville</td>\n",
              "      <td>World_3_205007310454</td>\n",
              "      <td>1066</td>\n",
              "      <td>AOT 595</td>\n",
              "      <td>17.86</td>\n",
              "      <td>Sharp Ltd</td>\n",
              "      <td>4000</td>\n",
              "      <td>17860</td>\n",
              "      <td>1</td>\n",
              "      <td>620</td>\n",
              "      <td>1000</td>\n",
              "    </tr>\n",
              "    <tr>\n",
              "      <th>12492</th>\n",
              "      <td>2</td>\n",
              "      <td>2050-07-31 18:54</td>\n",
              "      <td>2050-07-31 23:00</td>\n",
              "      <td>World_3</td>\n",
              "      <td>Changzhi</td>\n",
              "      <td>World_3_205007311854</td>\n",
              "      <td>1066</td>\n",
              "      <td>AOT 595</td>\n",
              "      <td>17.86</td>\n",
              "      <td>Sharp Ltd</td>\n",
              "      <td>4000</td>\n",
              "      <td>17860</td>\n",
              "      <td>1</td>\n",
              "      <td>620</td>\n",
              "      <td>1000</td>\n",
              "    </tr>\n",
              "    <tr>\n",
              "      <th>12493</th>\n",
              "      <td>6</td>\n",
              "      <td>2050-08-01 06:36</td>\n",
              "      <td>2050-08-01 09:00</td>\n",
              "      <td>World_3</td>\n",
              "      <td>Oschatz</td>\n",
              "      <td>World_3_205008010636</td>\n",
              "      <td>1066</td>\n",
              "      <td>AOT 595</td>\n",
              "      <td>17.86</td>\n",
              "      <td>Sharp Ltd</td>\n",
              "      <td>4000</td>\n",
              "      <td>17860</td>\n",
              "      <td>1</td>\n",
              "      <td>620</td>\n",
              "      <td>1000</td>\n",
              "    </tr>\n",
              "  </tbody>\n",
              "</table>\n",
              "<p>12494 rows × 15 columns</p>\n",
              "</div>"
            ],
            "text/plain": [
              "       forecast_windspeed_kts  ... optimal_altitude_ft\n",
              "0                           4  ...                1000\n",
              "1                           7  ...                1000\n",
              "2                           6  ...                1000\n",
              "3                           8  ...                1000\n",
              "4                          13  ...                1000\n",
              "...                       ...  ...                 ...\n",
              "12489                       1  ...                1000\n",
              "12490                       1  ...                1000\n",
              "12491                       0  ...                1000\n",
              "12492                       2  ...                1000\n",
              "12493                       6  ...                1000\n",
              "\n",
              "[12494 rows x 15 columns]"
            ]
          },
          "metadata": {
            "tags": []
          },
          "execution_count": 189
        }
      ]
    },
    {
      "cell_type": "code",
      "metadata": {
        "id": "HIEskwNHugkx"
      },
      "source": [
        "final_data.drop(columns=clm_to_drop,inplace=True)\n",
        "# Those values were dropped and the changes were made in the original data frame since inplace was True."
      ],
      "execution_count": 200,
      "outputs": []
    },
    {
      "cell_type": "code",
      "metadata": {
        "colab": {
          "base_uri": "https://localhost:8080/",
          "height": 422
        },
        "id": "yY_4YFHJ1-Ih",
        "outputId": "5b5e0941-862f-4ff5-8f18-93c5a15b0330"
      },
      "source": [
        "final_data"
      ],
      "execution_count": 179,
      "outputs": [
        {
          "output_type": "execute_result",
          "data": {
            "text/html": [
              "<div>\n",
              "<style scoped>\n",
              "    .dataframe tbody tr th:only-of-type {\n",
              "        vertical-align: middle;\n",
              "    }\n",
              "\n",
              "    .dataframe tbody tr th {\n",
              "        vertical-align: top;\n",
              "    }\n",
              "\n",
              "    .dataframe thead th {\n",
              "        text-align: right;\n",
              "    }\n",
              "</style>\n",
              "<table border=\"1\" class=\"dataframe\">\n",
              "  <thead>\n",
              "    <tr style=\"text-align: right;\">\n",
              "      <th></th>\n",
              "      <th>forecast_windspeed_kts</th>\n",
              "      <th>station_call_id</th>\n",
              "      <th>capacity_persons</th>\n",
              "      <th>fuel_consumption_gm_per_mile</th>\n",
              "      <th>max_altitude_ft</th>\n",
              "      <th>max_capacity_fuel_gm</th>\n",
              "      <th>min_capacity_fuel_gm</th>\n",
              "      <th>operating_speed_mph</th>\n",
              "      <th>optimal_altitude_ft</th>\n",
              "    </tr>\n",
              "  </thead>\n",
              "  <tbody>\n",
              "    <tr>\n",
              "      <th>0</th>\n",
              "      <td>4</td>\n",
              "      <td>JP_0_205007010506</td>\n",
              "      <td>114</td>\n",
              "      <td>1.87</td>\n",
              "      <td>8000</td>\n",
              "      <td>3740</td>\n",
              "      <td>1</td>\n",
              "      <td>266</td>\n",
              "      <td>1000</td>\n",
              "    </tr>\n",
              "    <tr>\n",
              "      <th>1</th>\n",
              "      <td>7</td>\n",
              "      <td>JP_0_205007010619</td>\n",
              "      <td>114</td>\n",
              "      <td>1.87</td>\n",
              "      <td>8000</td>\n",
              "      <td>3740</td>\n",
              "      <td>1</td>\n",
              "      <td>266</td>\n",
              "      <td>1000</td>\n",
              "    </tr>\n",
              "    <tr>\n",
              "      <th>2</th>\n",
              "      <td>6</td>\n",
              "      <td>JP_0_205007010709</td>\n",
              "      <td>114</td>\n",
              "      <td>1.87</td>\n",
              "      <td>8000</td>\n",
              "      <td>3740</td>\n",
              "      <td>1</td>\n",
              "      <td>266</td>\n",
              "      <td>1000</td>\n",
              "    </tr>\n",
              "    <tr>\n",
              "      <th>3</th>\n",
              "      <td>8</td>\n",
              "      <td>JP_0_205007010821</td>\n",
              "      <td>114</td>\n",
              "      <td>1.87</td>\n",
              "      <td>8000</td>\n",
              "      <td>3740</td>\n",
              "      <td>1</td>\n",
              "      <td>266</td>\n",
              "      <td>1000</td>\n",
              "    </tr>\n",
              "    <tr>\n",
              "      <th>4</th>\n",
              "      <td>13</td>\n",
              "      <td>JP_0_205007010909</td>\n",
              "      <td>114</td>\n",
              "      <td>1.87</td>\n",
              "      <td>8000</td>\n",
              "      <td>3740</td>\n",
              "      <td>1</td>\n",
              "      <td>266</td>\n",
              "      <td>1000</td>\n",
              "    </tr>\n",
              "    <tr>\n",
              "      <th>...</th>\n",
              "      <td>...</td>\n",
              "      <td>...</td>\n",
              "      <td>...</td>\n",
              "      <td>...</td>\n",
              "      <td>...</td>\n",
              "      <td>...</td>\n",
              "      <td>...</td>\n",
              "      <td>...</td>\n",
              "      <td>...</td>\n",
              "    </tr>\n",
              "    <tr>\n",
              "      <th>12489</th>\n",
              "      <td>1</td>\n",
              "      <td>World_3_205007300754</td>\n",
              "      <td>1066</td>\n",
              "      <td>17.86</td>\n",
              "      <td>4000</td>\n",
              "      <td>17860</td>\n",
              "      <td>1</td>\n",
              "      <td>620</td>\n",
              "      <td>1000</td>\n",
              "    </tr>\n",
              "    <tr>\n",
              "      <th>12490</th>\n",
              "      <td>1</td>\n",
              "      <td>World_3_205007301936</td>\n",
              "      <td>1066</td>\n",
              "      <td>17.86</td>\n",
              "      <td>4000</td>\n",
              "      <td>17860</td>\n",
              "      <td>1</td>\n",
              "      <td>620</td>\n",
              "      <td>1000</td>\n",
              "    </tr>\n",
              "    <tr>\n",
              "      <th>12491</th>\n",
              "      <td>0</td>\n",
              "      <td>World_3_205007310454</td>\n",
              "      <td>1066</td>\n",
              "      <td>17.86</td>\n",
              "      <td>4000</td>\n",
              "      <td>17860</td>\n",
              "      <td>1</td>\n",
              "      <td>620</td>\n",
              "      <td>1000</td>\n",
              "    </tr>\n",
              "    <tr>\n",
              "      <th>12492</th>\n",
              "      <td>2</td>\n",
              "      <td>World_3_205007311854</td>\n",
              "      <td>1066</td>\n",
              "      <td>17.86</td>\n",
              "      <td>4000</td>\n",
              "      <td>17860</td>\n",
              "      <td>1</td>\n",
              "      <td>620</td>\n",
              "      <td>1000</td>\n",
              "    </tr>\n",
              "    <tr>\n",
              "      <th>12493</th>\n",
              "      <td>6</td>\n",
              "      <td>World_3_205008010636</td>\n",
              "      <td>1066</td>\n",
              "      <td>17.86</td>\n",
              "      <td>4000</td>\n",
              "      <td>17860</td>\n",
              "      <td>1</td>\n",
              "      <td>620</td>\n",
              "      <td>1000</td>\n",
              "    </tr>\n",
              "  </tbody>\n",
              "</table>\n",
              "<p>12494 rows × 9 columns</p>\n",
              "</div>"
            ],
            "text/plain": [
              "       forecast_windspeed_kts  ... optimal_altitude_ft\n",
              "0                           4  ...                1000\n",
              "1                           7  ...                1000\n",
              "2                           6  ...                1000\n",
              "3                           8  ...                1000\n",
              "4                          13  ...                1000\n",
              "...                       ...  ...                 ...\n",
              "12489                       1  ...                1000\n",
              "12490                       1  ...                1000\n",
              "12491                       0  ...                1000\n",
              "12492                       2  ...                1000\n",
              "12493                       6  ...                1000\n",
              "\n",
              "[12494 rows x 9 columns]"
            ]
          },
          "metadata": {
            "tags": []
          },
          "execution_count": 179
        }
      ]
    },
    {
      "cell_type": "markdown",
      "metadata": {
        "id": "ltWL3Zhgugkx"
      },
      "source": [
        "### Divide DATA into Training and Testing "
      ]
    },
    {
      "cell_type": "code",
      "metadata": {
        "id": "X22TiaJpugkx"
      },
      "source": [
        "traning_data = final_data.merge(data_actuals[['arrival_delay_seconds','station_call_id']],on='station_call_id')"
      ],
      "execution_count": 180,
      "outputs": []
    },
    {
      "cell_type": "code",
      "metadata": {
        "id": "i0wPqiUnugkx"
      },
      "source": [
        "test_data = final_data[~final_data['station_call_id'].isin(traning_data['station_call_id'].to_list())]"
      ],
      "execution_count": 181,
      "outputs": []
    },
    {
      "cell_type": "code",
      "metadata": {
        "colab": {
          "base_uri": "https://localhost:8080/",
          "height": 422
        },
        "id": "APDhR-4cugky",
        "outputId": "b15b9d0f-a9b4-4053-9a1c-6f681cdb87c8"
      },
      "source": [
        "# Display the traning_data\r\n",
        "traning_data"
      ],
      "execution_count": 112,
      "outputs": [
        {
          "output_type": "execute_result",
          "data": {
            "text/html": [
              "<div>\n",
              "<style scoped>\n",
              "    .dataframe tbody tr th:only-of-type {\n",
              "        vertical-align: middle;\n",
              "    }\n",
              "\n",
              "    .dataframe tbody tr th {\n",
              "        vertical-align: top;\n",
              "    }\n",
              "\n",
              "    .dataframe thead th {\n",
              "        text-align: right;\n",
              "    }\n",
              "</style>\n",
              "<table border=\"1\" class=\"dataframe\">\n",
              "  <thead>\n",
              "    <tr style=\"text-align: right;\">\n",
              "      <th></th>\n",
              "      <th>forecast_windspeed_kts</th>\n",
              "      <th>station_call_id</th>\n",
              "      <th>capacity_persons</th>\n",
              "      <th>fuel_consumption_gm_per_mile</th>\n",
              "      <th>max_altitude_ft</th>\n",
              "      <th>max_capacity_fuel_gm</th>\n",
              "      <th>min_capacity_fuel_gm</th>\n",
              "      <th>operating_speed_mph</th>\n",
              "      <th>optimal_altitude_ft</th>\n",
              "      <th>arrival_delay_seconds</th>\n",
              "    </tr>\n",
              "  </thead>\n",
              "  <tbody>\n",
              "    <tr>\n",
              "      <th>0</th>\n",
              "      <td>4</td>\n",
              "      <td>JP_0_205007010506</td>\n",
              "      <td>114</td>\n",
              "      <td>1.87</td>\n",
              "      <td>8000</td>\n",
              "      <td>3740</td>\n",
              "      <td>1</td>\n",
              "      <td>266</td>\n",
              "      <td>1000</td>\n",
              "      <td>2</td>\n",
              "    </tr>\n",
              "    <tr>\n",
              "      <th>1</th>\n",
              "      <td>7</td>\n",
              "      <td>JP_0_205007010619</td>\n",
              "      <td>114</td>\n",
              "      <td>1.87</td>\n",
              "      <td>8000</td>\n",
              "      <td>3740</td>\n",
              "      <td>1</td>\n",
              "      <td>266</td>\n",
              "      <td>1000</td>\n",
              "      <td>5</td>\n",
              "    </tr>\n",
              "    <tr>\n",
              "      <th>2</th>\n",
              "      <td>6</td>\n",
              "      <td>JP_0_205007010709</td>\n",
              "      <td>114</td>\n",
              "      <td>1.87</td>\n",
              "      <td>8000</td>\n",
              "      <td>3740</td>\n",
              "      <td>1</td>\n",
              "      <td>266</td>\n",
              "      <td>1000</td>\n",
              "      <td>2</td>\n",
              "    </tr>\n",
              "    <tr>\n",
              "      <th>3</th>\n",
              "      <td>8</td>\n",
              "      <td>JP_0_205007010821</td>\n",
              "      <td>114</td>\n",
              "      <td>1.87</td>\n",
              "      <td>8000</td>\n",
              "      <td>3740</td>\n",
              "      <td>1</td>\n",
              "      <td>266</td>\n",
              "      <td>1000</td>\n",
              "      <td>6</td>\n",
              "    </tr>\n",
              "    <tr>\n",
              "      <th>4</th>\n",
              "      <td>13</td>\n",
              "      <td>JP_0_205007010909</td>\n",
              "      <td>114</td>\n",
              "      <td>1.87</td>\n",
              "      <td>8000</td>\n",
              "      <td>3740</td>\n",
              "      <td>1</td>\n",
              "      <td>266</td>\n",
              "      <td>1000</td>\n",
              "      <td>3</td>\n",
              "    </tr>\n",
              "    <tr>\n",
              "      <th>...</th>\n",
              "      <td>...</td>\n",
              "      <td>...</td>\n",
              "      <td>...</td>\n",
              "      <td>...</td>\n",
              "      <td>...</td>\n",
              "      <td>...</td>\n",
              "      <td>...</td>\n",
              "      <td>...</td>\n",
              "      <td>...</td>\n",
              "      <td>...</td>\n",
              "    </tr>\n",
              "    <tr>\n",
              "      <th>9919</th>\n",
              "      <td>0</td>\n",
              "      <td>World_3_205007232154</td>\n",
              "      <td>1066</td>\n",
              "      <td>17.86</td>\n",
              "      <td>4000</td>\n",
              "      <td>17860</td>\n",
              "      <td>1</td>\n",
              "      <td>620</td>\n",
              "      <td>1000</td>\n",
              "      <td>596</td>\n",
              "    </tr>\n",
              "    <tr>\n",
              "      <th>9920</th>\n",
              "      <td>0</td>\n",
              "      <td>World_3_205007241154</td>\n",
              "      <td>1066</td>\n",
              "      <td>17.86</td>\n",
              "      <td>4000</td>\n",
              "      <td>17860</td>\n",
              "      <td>1</td>\n",
              "      <td>620</td>\n",
              "      <td>1000</td>\n",
              "      <td>686</td>\n",
              "    </tr>\n",
              "    <tr>\n",
              "      <th>9921</th>\n",
              "      <td>0</td>\n",
              "      <td>World_3_205007242336</td>\n",
              "      <td>1066</td>\n",
              "      <td>17.86</td>\n",
              "      <td>4000</td>\n",
              "      <td>17860</td>\n",
              "      <td>1</td>\n",
              "      <td>620</td>\n",
              "      <td>1000</td>\n",
              "      <td>657</td>\n",
              "    </tr>\n",
              "    <tr>\n",
              "      <th>9922</th>\n",
              "      <td>1</td>\n",
              "      <td>World_3_205007250854</td>\n",
              "      <td>1066</td>\n",
              "      <td>17.86</td>\n",
              "      <td>4000</td>\n",
              "      <td>17860</td>\n",
              "      <td>1</td>\n",
              "      <td>620</td>\n",
              "      <td>1000</td>\n",
              "      <td>596</td>\n",
              "    </tr>\n",
              "    <tr>\n",
              "      <th>9923</th>\n",
              "      <td>0</td>\n",
              "      <td>World_3_205007252254</td>\n",
              "      <td>1066</td>\n",
              "      <td>17.86</td>\n",
              "      <td>4000</td>\n",
              "      <td>17860</td>\n",
              "      <td>1</td>\n",
              "      <td>620</td>\n",
              "      <td>1000</td>\n",
              "      <td>686</td>\n",
              "    </tr>\n",
              "  </tbody>\n",
              "</table>\n",
              "<p>9924 rows × 10 columns</p>\n",
              "</div>"
            ],
            "text/plain": [
              "      forecast_windspeed_kts  ... arrival_delay_seconds\n",
              "0                          4  ...                     2\n",
              "1                          7  ...                     5\n",
              "2                          6  ...                     2\n",
              "3                          8  ...                     6\n",
              "4                         13  ...                     3\n",
              "...                      ...  ...                   ...\n",
              "9919                       0  ...                   596\n",
              "9920                       0  ...                   686\n",
              "9921                       0  ...                   657\n",
              "9922                       1  ...                   596\n",
              "9923                       0  ...                   686\n",
              "\n",
              "[9924 rows x 10 columns]"
            ]
          },
          "metadata": {
            "tags": []
          },
          "execution_count": 112
        }
      ]
    },
    {
      "cell_type": "code",
      "metadata": {
        "id": "eRnWFe04ugky"
      },
      "source": [
        "# Display the test_data"
      ],
      "execution_count": 113,
      "outputs": []
    },
    {
      "cell_type": "code",
      "metadata": {
        "id": "VRT__o3Uugky"
      },
      "source": [
        "from sklearn.preprocessing import LabelEncoder,StandardScaler"
      ],
      "execution_count": 114,
      "outputs": []
    },
    {
      "cell_type": "code",
      "metadata": {
        "id": "J2U9nGaOugky"
      },
      "source": [
        "# Drop station_call_id from traning_data and test_data dataframe "
      ],
      "execution_count": null,
      "outputs": []
    },
    {
      "cell_type": "code",
      "metadata": {
        "colab": {
          "base_uri": "https://localhost:8080/"
        },
        "id": "-BY4Ghehugky",
        "outputId": "3f17a46f-9a6e-4f45-9235-1adff7bc7890"
      },
      "source": [
        "traning_data.drop(columns=['station_call_id'],inplace=True)\n",
        "test_data.drop(columns=['station_call_id'],inplace=True)"
      ],
      "execution_count": 115,
      "outputs": [
        {
          "output_type": "stream",
          "text": [
            "/usr/local/lib/python3.6/dist-packages/pandas/core/frame.py:4174: SettingWithCopyWarning: \n",
            "A value is trying to be set on a copy of a slice from a DataFrame\n",
            "\n",
            "See the caveats in the documentation: https://pandas.pydata.org/pandas-docs/stable/user_guide/indexing.html#returning-a-view-versus-a-copy\n",
            "  errors=errors,\n"
          ],
          "name": "stderr"
        }
      ]
    },
    {
      "cell_type": "code",
      "metadata": {
        "colab": {
          "base_uri": "https://localhost:8080/",
          "height": 215
        },
        "id": "-mO2Y54uugkz",
        "outputId": "498c0a67-ab0a-489c-be85-3139923d9135"
      },
      "source": [
        "traning_data.head()"
      ],
      "execution_count": 116,
      "outputs": [
        {
          "output_type": "execute_result",
          "data": {
            "text/html": [
              "<div>\n",
              "<style scoped>\n",
              "    .dataframe tbody tr th:only-of-type {\n",
              "        vertical-align: middle;\n",
              "    }\n",
              "\n",
              "    .dataframe tbody tr th {\n",
              "        vertical-align: top;\n",
              "    }\n",
              "\n",
              "    .dataframe thead th {\n",
              "        text-align: right;\n",
              "    }\n",
              "</style>\n",
              "<table border=\"1\" class=\"dataframe\">\n",
              "  <thead>\n",
              "    <tr style=\"text-align: right;\">\n",
              "      <th></th>\n",
              "      <th>forecast_windspeed_kts</th>\n",
              "      <th>capacity_persons</th>\n",
              "      <th>fuel_consumption_gm_per_mile</th>\n",
              "      <th>max_altitude_ft</th>\n",
              "      <th>max_capacity_fuel_gm</th>\n",
              "      <th>min_capacity_fuel_gm</th>\n",
              "      <th>operating_speed_mph</th>\n",
              "      <th>optimal_altitude_ft</th>\n",
              "      <th>arrival_delay_seconds</th>\n",
              "    </tr>\n",
              "  </thead>\n",
              "  <tbody>\n",
              "    <tr>\n",
              "      <th>0</th>\n",
              "      <td>4</td>\n",
              "      <td>114</td>\n",
              "      <td>1.87</td>\n",
              "      <td>8000</td>\n",
              "      <td>3740</td>\n",
              "      <td>1</td>\n",
              "      <td>266</td>\n",
              "      <td>1000</td>\n",
              "      <td>2</td>\n",
              "    </tr>\n",
              "    <tr>\n",
              "      <th>1</th>\n",
              "      <td>7</td>\n",
              "      <td>114</td>\n",
              "      <td>1.87</td>\n",
              "      <td>8000</td>\n",
              "      <td>3740</td>\n",
              "      <td>1</td>\n",
              "      <td>266</td>\n",
              "      <td>1000</td>\n",
              "      <td>5</td>\n",
              "    </tr>\n",
              "    <tr>\n",
              "      <th>2</th>\n",
              "      <td>6</td>\n",
              "      <td>114</td>\n",
              "      <td>1.87</td>\n",
              "      <td>8000</td>\n",
              "      <td>3740</td>\n",
              "      <td>1</td>\n",
              "      <td>266</td>\n",
              "      <td>1000</td>\n",
              "      <td>2</td>\n",
              "    </tr>\n",
              "    <tr>\n",
              "      <th>3</th>\n",
              "      <td>8</td>\n",
              "      <td>114</td>\n",
              "      <td>1.87</td>\n",
              "      <td>8000</td>\n",
              "      <td>3740</td>\n",
              "      <td>1</td>\n",
              "      <td>266</td>\n",
              "      <td>1000</td>\n",
              "      <td>6</td>\n",
              "    </tr>\n",
              "    <tr>\n",
              "      <th>4</th>\n",
              "      <td>13</td>\n",
              "      <td>114</td>\n",
              "      <td>1.87</td>\n",
              "      <td>8000</td>\n",
              "      <td>3740</td>\n",
              "      <td>1</td>\n",
              "      <td>266</td>\n",
              "      <td>1000</td>\n",
              "      <td>3</td>\n",
              "    </tr>\n",
              "  </tbody>\n",
              "</table>\n",
              "</div>"
            ],
            "text/plain": [
              "   forecast_windspeed_kts  ...  arrival_delay_seconds\n",
              "0                       4  ...                      2\n",
              "1                       7  ...                      5\n",
              "2                       6  ...                      2\n",
              "3                       8  ...                      6\n",
              "4                      13  ...                      3\n",
              "\n",
              "[5 rows x 9 columns]"
            ]
          },
          "metadata": {
            "tags": []
          },
          "execution_count": 116
        }
      ]
    },
    {
      "cell_type": "code",
      "metadata": {
        "colab": {
          "base_uri": "https://localhost:8080/",
          "height": 215
        },
        "id": "WRyv0aP6ugkz",
        "outputId": "cd08960c-05ce-4fa6-d1b5-e71529018749"
      },
      "source": [
        "test_data.head()"
      ],
      "execution_count": 117,
      "outputs": [
        {
          "output_type": "execute_result",
          "data": {
            "text/html": [
              "<div>\n",
              "<style scoped>\n",
              "    .dataframe tbody tr th:only-of-type {\n",
              "        vertical-align: middle;\n",
              "    }\n",
              "\n",
              "    .dataframe tbody tr th {\n",
              "        vertical-align: top;\n",
              "    }\n",
              "\n",
              "    .dataframe thead th {\n",
              "        text-align: right;\n",
              "    }\n",
              "</style>\n",
              "<table border=\"1\" class=\"dataframe\">\n",
              "  <thead>\n",
              "    <tr style=\"text-align: right;\">\n",
              "      <th></th>\n",
              "      <th>forecast_windspeed_kts</th>\n",
              "      <th>capacity_persons</th>\n",
              "      <th>fuel_consumption_gm_per_mile</th>\n",
              "      <th>max_altitude_ft</th>\n",
              "      <th>max_capacity_fuel_gm</th>\n",
              "      <th>min_capacity_fuel_gm</th>\n",
              "      <th>operating_speed_mph</th>\n",
              "      <th>optimal_altitude_ft</th>\n",
              "    </tr>\n",
              "  </thead>\n",
              "  <tbody>\n",
              "    <tr>\n",
              "      <th>15</th>\n",
              "      <td>10</td>\n",
              "      <td>114</td>\n",
              "      <td>1.87</td>\n",
              "      <td>8000</td>\n",
              "      <td>3740</td>\n",
              "      <td>1</td>\n",
              "      <td>266</td>\n",
              "      <td>1000</td>\n",
              "    </tr>\n",
              "    <tr>\n",
              "      <th>28</th>\n",
              "      <td>2</td>\n",
              "      <td>114</td>\n",
              "      <td>1.87</td>\n",
              "      <td>8000</td>\n",
              "      <td>3740</td>\n",
              "      <td>1</td>\n",
              "      <td>266</td>\n",
              "      <td>1000</td>\n",
              "    </tr>\n",
              "    <tr>\n",
              "      <th>145</th>\n",
              "      <td>19</td>\n",
              "      <td>114</td>\n",
              "      <td>1.87</td>\n",
              "      <td>8000</td>\n",
              "      <td>3740</td>\n",
              "      <td>1</td>\n",
              "      <td>266</td>\n",
              "      <td>1000</td>\n",
              "    </tr>\n",
              "    <tr>\n",
              "      <th>273</th>\n",
              "      <td>11</td>\n",
              "      <td>114</td>\n",
              "      <td>1.87</td>\n",
              "      <td>8000</td>\n",
              "      <td>3740</td>\n",
              "      <td>1</td>\n",
              "      <td>266</td>\n",
              "      <td>1000</td>\n",
              "    </tr>\n",
              "    <tr>\n",
              "      <th>422</th>\n",
              "      <td>20</td>\n",
              "      <td>114</td>\n",
              "      <td>1.87</td>\n",
              "      <td>8000</td>\n",
              "      <td>3740</td>\n",
              "      <td>1</td>\n",
              "      <td>266</td>\n",
              "      <td>1000</td>\n",
              "    </tr>\n",
              "  </tbody>\n",
              "</table>\n",
              "</div>"
            ],
            "text/plain": [
              "     forecast_windspeed_kts  ...  optimal_altitude_ft\n",
              "15                       10  ...                 1000\n",
              "28                        2  ...                 1000\n",
              "145                      19  ...                 1000\n",
              "273                      11  ...                 1000\n",
              "422                      20  ...                 1000\n",
              "\n",
              "[5 rows x 8 columns]"
            ]
          },
          "metadata": {
            "tags": []
          },
          "execution_count": 117
        }
      ]
    },
    {
      "cell_type": "code",
      "metadata": {
        "id": "ODC9lqPaugkz"
      },
      "source": [
        "features = list(traning_data.columns)\n",
        "\n"
      ],
      "execution_count": 118,
      "outputs": []
    },
    {
      "cell_type": "code",
      "metadata": {
        "colab": {
          "base_uri": "https://localhost:8080/"
        },
        "id": "vReOfTpAugkz",
        "outputId": "f8edf5fc-1c76-4486-f239-8604517c0f07"
      },
      "source": [
        "features"
      ],
      "execution_count": 119,
      "outputs": [
        {
          "output_type": "execute_result",
          "data": {
            "text/plain": [
              "['forecast_windspeed_kts',\n",
              " 'capacity_persons',\n",
              " 'fuel_consumption_gm_per_mile',\n",
              " 'max_altitude_ft',\n",
              " 'max_capacity_fuel_gm',\n",
              " 'min_capacity_fuel_gm',\n",
              " 'operating_speed_mph',\n",
              " 'optimal_altitude_ft',\n",
              " 'arrival_delay_seconds']"
            ]
          },
          "metadata": {
            "tags": []
          },
          "execution_count": 119
        }
      ]
    },
    {
      "cell_type": "markdown",
      "metadata": {
        "id": "92XQ4QrOugkz"
      },
      "source": [
        "remove() is an inbuilt function in Python programming language that removes a given object from the list. It does not return any value."
      ]
    },
    {
      "cell_type": "code",
      "metadata": {
        "id": "TyzKtgdBugkz"
      },
      "source": [
        "#remove the arrival_delay_seconds  object from the list \n",
        "\n",
        "features.remove('arrival_delay_seconds')"
      ],
      "execution_count": 120,
      "outputs": []
    },
    {
      "cell_type": "code",
      "metadata": {
        "colab": {
          "base_uri": "https://localhost:8080/"
        },
        "id": "Ey7K6Y51ugkz",
        "outputId": "3b705e22-2358-4a6a-f0e3-e8f86818793b"
      },
      "source": [
        "features"
      ],
      "execution_count": 121,
      "outputs": [
        {
          "output_type": "execute_result",
          "data": {
            "text/plain": [
              "['forecast_windspeed_kts',\n",
              " 'capacity_persons',\n",
              " 'fuel_consumption_gm_per_mile',\n",
              " 'max_altitude_ft',\n",
              " 'max_capacity_fuel_gm',\n",
              " 'min_capacity_fuel_gm',\n",
              " 'operating_speed_mph',\n",
              " 'optimal_altitude_ft']"
            ]
          },
          "metadata": {
            "tags": []
          },
          "execution_count": 121
        }
      ]
    },
    {
      "cell_type": "markdown",
      "metadata": {
        "id": "mHsP_Fisugk0"
      },
      "source": [
        "Training part as train X and Train Y"
      ]
    },
    {
      "cell_type": "code",
      "metadata": {
        "id": "e07MYDrMugk0"
      },
      "source": [
        "trainX,trainY = traning_data[features].values,traning_data['arrival_delay_seconds'].values\n"
      ],
      "execution_count": 122,
      "outputs": []
    },
    {
      "cell_type": "code",
      "metadata": {
        "id": "sCYHg61-ugk0"
      },
      "source": [
        "testX = test_data.values"
      ],
      "execution_count": 123,
      "outputs": []
    },
    {
      "cell_type": "code",
      "metadata": {
        "colab": {
          "base_uri": "https://localhost:8080/"
        },
        "id": "v1_Ktnmjugk0",
        "outputId": "aecd8ee4-416f-40ad-b6f9-50c5f52007c8"
      },
      "source": [
        "trainY"
      ],
      "execution_count": 124,
      "outputs": [
        {
          "output_type": "execute_result",
          "data": {
            "text/plain": [
              "array([  2,   5,   2, ..., 657, 596, 686])"
            ]
          },
          "metadata": {
            "tags": []
          },
          "execution_count": 124
        }
      ]
    },
    {
      "cell_type": "code",
      "metadata": {
        "colab": {
          "base_uri": "https://localhost:8080/"
        },
        "id": "recNR2Y2ugk0",
        "outputId": "dff4c461-bee9-4352-82a4-8ef034ac7412"
      },
      "source": [
        "trainX.shape,trainY.shape,testX.shape"
      ],
      "execution_count": 125,
      "outputs": [
        {
          "output_type": "execute_result",
          "data": {
            "text/plain": [
              "((9924, 8), (9924,), (2570, 8))"
            ]
          },
          "metadata": {
            "tags": []
          },
          "execution_count": 125
        }
      ]
    },
    {
      "cell_type": "markdown",
      "metadata": {
        "id": "jNYkWwpaugk0"
      },
      "source": [
        "## Normalization\n",
        "\n",
        "- Need of Normalization \n",
        "- Type of Normalization \n",
        "\n",
        "- Min-Max Normalization:\n",
        "\n",
        "z= (x-min)/max-min \n",
        "\n",
        "\n",
        "- Standard Normalization :  Z Normalization(Standardization):\n",
        "\n",
        "z=x-x(mean)/standared  deviation \n",
        "\n",
        "\n",
        "- Nean or Normal Mean \n"
      ]
    },
    {
      "cell_type": "code",
      "metadata": {
        "id": "LMfT8p8Xugk0"
      },
      "source": [
        "StandardScaler?"
      ],
      "execution_count": 126,
      "outputs": []
    },
    {
      "cell_type": "code",
      "metadata": {
        "id": "-hiXK2eYugk1"
      },
      "source": [
        "scaler = StandardScaler()"
      ],
      "execution_count": 130,
      "outputs": []
    },
    {
      "cell_type": "markdown",
      "metadata": {
        "id": "DDhvJNKJugk1"
      },
      "source": [
        "Z = x-x.mean()/x.std()"
      ]
    },
    {
      "cell_type": "code",
      "metadata": {
        "colab": {
          "base_uri": "https://localhost:8080/"
        },
        "id": "IQ8u--dQugk1",
        "outputId": "25f253ae-48fe-420f-b84d-633f54c26fe3"
      },
      "source": [
        "scaler.fit(trainX)"
      ],
      "execution_count": 132,
      "outputs": [
        {
          "output_type": "execute_result",
          "data": {
            "text/plain": [
              "StandardScaler(copy=True, with_mean=True, with_std=True)"
            ]
          },
          "metadata": {
            "tags": []
          },
          "execution_count": 132
        }
      ]
    },
    {
      "cell_type": "code",
      "metadata": {
        "id": "llH8QHSFugk1"
      },
      "source": [
        "scaler.transform?"
      ],
      "execution_count": 140,
      "outputs": []
    },
    {
      "cell_type": "code",
      "metadata": {
        "id": "6sS-Cx9_ugk1"
      },
      "source": [
        "trainX_norm = scaler.transform(trainX)\n",
        "testX_norm = scaler.transform(testX)"
      ],
      "execution_count": 141,
      "outputs": []
    },
    {
      "cell_type": "code",
      "metadata": {
        "colab": {
          "base_uri": "https://localhost:8080/"
        },
        "id": "CFxyqTPWugk1",
        "outputId": "8e7a74d4-188d-43a7-8fcc-1ad88f6d22e5"
      },
      "source": [
        "trainX.max(),trainX.min(),trainX.mean()"
      ],
      "execution_count": 142,
      "outputs": [
        {
          "output_type": "execute_result",
          "data": {
            "text/plain": [
              "(28280.0, 0.0, 2008.0340089681579)"
            ]
          },
          "metadata": {
            "tags": []
          },
          "execution_count": 142
        }
      ]
    },
    {
      "cell_type": "code",
      "metadata": {
        "colab": {
          "base_uri": "https://localhost:8080/"
        },
        "id": "2VKd0tILugk1",
        "outputId": "e2103c66-124c-4641-b9d8-c704e74588c0"
      },
      "source": [
        "trainX_norm.max(),trainX_norm.min(),trainX_norm.mean()"
      ],
      "execution_count": 143,
      "outputs": [
        {
          "output_type": "execute_result",
          "data": {
            "text/plain": [
              "(6.617838095190163, -1.4182271125805397, -1.0023779021202541e-17)"
            ]
          },
          "metadata": {
            "tags": []
          },
          "execution_count": 143
        }
      ]
    },
    {
      "cell_type": "markdown",
      "metadata": {
        "id": "6uyJ4O9Ougk1"
      },
      "source": [
        "## Label Encoding"
      ]
    },
    {
      "cell_type": "markdown",
      "metadata": {
        "id": "0U2f-jRhugk2"
      },
      "source": [
        "#### DATA \n",
        "    S.No   Country\tAge\t Salary\n",
        "\n",
        "    0   India   44   72000\n",
        "    1      US   34   65000\n",
        "    2   Japan   46   98000\n",
        "    3      US   35   45000\n",
        "    4   Japan   23   34000"
      ]
    },
    {
      "cell_type": "code",
      "metadata": {
        "id": "swn5eJwiugk2"
      },
      "source": [
        "df=pd.read_csv(\"data/Salary.csv\")"
      ],
      "execution_count": 144,
      "outputs": []
    },
    {
      "cell_type": "code",
      "metadata": {
        "colab": {
          "base_uri": "https://localhost:8080/",
          "height": 0
        },
        "id": "VMp7r270ugk2",
        "outputId": "b4b10272-0ab2-4903-b08d-620c7e7c4fd3"
      },
      "source": [
        "df"
      ],
      "execution_count": 145,
      "outputs": [
        {
          "output_type": "execute_result",
          "data": {
            "text/html": [
              "<div>\n",
              "<style scoped>\n",
              "    .dataframe tbody tr th:only-of-type {\n",
              "        vertical-align: middle;\n",
              "    }\n",
              "\n",
              "    .dataframe tbody tr th {\n",
              "        vertical-align: top;\n",
              "    }\n",
              "\n",
              "    .dataframe thead th {\n",
              "        text-align: right;\n",
              "    }\n",
              "</style>\n",
              "<table border=\"1\" class=\"dataframe\">\n",
              "  <thead>\n",
              "    <tr style=\"text-align: right;\">\n",
              "      <th></th>\n",
              "      <th>Country</th>\n",
              "      <th>Age</th>\n",
              "      <th>Salary</th>\n",
              "    </tr>\n",
              "  </thead>\n",
              "  <tbody>\n",
              "    <tr>\n",
              "      <th>0</th>\n",
              "      <td>India</td>\n",
              "      <td>44</td>\n",
              "      <td>72000</td>\n",
              "    </tr>\n",
              "    <tr>\n",
              "      <th>1</th>\n",
              "      <td>US</td>\n",
              "      <td>34</td>\n",
              "      <td>65000</td>\n",
              "    </tr>\n",
              "    <tr>\n",
              "      <th>2</th>\n",
              "      <td>Japan</td>\n",
              "      <td>46</td>\n",
              "      <td>98000</td>\n",
              "    </tr>\n",
              "    <tr>\n",
              "      <th>3</th>\n",
              "      <td>US</td>\n",
              "      <td>35</td>\n",
              "      <td>45000</td>\n",
              "    </tr>\n",
              "    <tr>\n",
              "      <th>4</th>\n",
              "      <td>Japan</td>\n",
              "      <td>23</td>\n",
              "      <td>34000</td>\n",
              "    </tr>\n",
              "  </tbody>\n",
              "</table>\n",
              "</div>"
            ],
            "text/plain": [
              "  Country  Age  Salary\n",
              "0   India   44   72000\n",
              "1      US   34   65000\n",
              "2   Japan   46   98000\n",
              "3      US   35   45000\n",
              "4   Japan   23   34000"
            ]
          },
          "metadata": {
            "tags": []
          },
          "execution_count": 145
        }
      ]
    },
    {
      "cell_type": "code",
      "metadata": {
        "colab": {
          "base_uri": "https://localhost:8080/"
        },
        "id": "8EnBkI39ugk2",
        "outputId": "723df5dd-7168-4f66-bfa2-3e97b975263c"
      },
      "source": [
        "df.info"
      ],
      "execution_count": 146,
      "outputs": [
        {
          "output_type": "execute_result",
          "data": {
            "text/plain": [
              "<bound method DataFrame.info of   Country  Age  Salary\n",
              "0   India   44   72000\n",
              "1      US   34   65000\n",
              "2   Japan   46   98000\n",
              "3      US   35   45000\n",
              "4   Japan   23   34000>"
            ]
          },
          "metadata": {
            "tags": []
          },
          "execution_count": 146
        }
      ]
    },
    {
      "cell_type": "code",
      "metadata": {
        "colab": {
          "base_uri": "https://localhost:8080/",
          "height": 0
        },
        "id": "JKsNCO3qugk2",
        "outputId": "37a8804c-bd16-4b36-a6b6-79937f5c2e3d"
      },
      "source": [
        "from sklearn import preprocessing\n",
        "label_encoder = preprocessing.LabelEncoder()   # labelEncoder\n",
        "df['Country']= label_encoder.fit_transform(df['Country']) \n",
        "df.head()"
      ],
      "execution_count": 147,
      "outputs": [
        {
          "output_type": "execute_result",
          "data": {
            "text/html": [
              "<div>\n",
              "<style scoped>\n",
              "    .dataframe tbody tr th:only-of-type {\n",
              "        vertical-align: middle;\n",
              "    }\n",
              "\n",
              "    .dataframe tbody tr th {\n",
              "        vertical-align: top;\n",
              "    }\n",
              "\n",
              "    .dataframe thead th {\n",
              "        text-align: right;\n",
              "    }\n",
              "</style>\n",
              "<table border=\"1\" class=\"dataframe\">\n",
              "  <thead>\n",
              "    <tr style=\"text-align: right;\">\n",
              "      <th></th>\n",
              "      <th>Country</th>\n",
              "      <th>Age</th>\n",
              "      <th>Salary</th>\n",
              "    </tr>\n",
              "  </thead>\n",
              "  <tbody>\n",
              "    <tr>\n",
              "      <th>0</th>\n",
              "      <td>0</td>\n",
              "      <td>44</td>\n",
              "      <td>72000</td>\n",
              "    </tr>\n",
              "    <tr>\n",
              "      <th>1</th>\n",
              "      <td>2</td>\n",
              "      <td>34</td>\n",
              "      <td>65000</td>\n",
              "    </tr>\n",
              "    <tr>\n",
              "      <th>2</th>\n",
              "      <td>1</td>\n",
              "      <td>46</td>\n",
              "      <td>98000</td>\n",
              "    </tr>\n",
              "    <tr>\n",
              "      <th>3</th>\n",
              "      <td>2</td>\n",
              "      <td>35</td>\n",
              "      <td>45000</td>\n",
              "    </tr>\n",
              "    <tr>\n",
              "      <th>4</th>\n",
              "      <td>1</td>\n",
              "      <td>23</td>\n",
              "      <td>34000</td>\n",
              "    </tr>\n",
              "  </tbody>\n",
              "</table>\n",
              "</div>"
            ],
            "text/plain": [
              "   Country  Age  Salary\n",
              "0        0   44   72000\n",
              "1        2   34   65000\n",
              "2        1   46   98000\n",
              "3        2   35   45000\n",
              "4        1   23   34000"
            ]
          },
          "metadata": {
            "tags": []
          },
          "execution_count": 147
        }
      ]
    },
    {
      "cell_type": "code",
      "metadata": {
        "colab": {
          "base_uri": "https://localhost:8080/",
          "height": 0
        },
        "id": "WFFQWxKvugk2",
        "outputId": "d696ffc7-1a46-4b3a-a173-5ee69b14d8b9"
      },
      "source": [
        "from sklearn.preprocessing import OneHotEncoder\n",
        "onehotencoder = OneHotEncoder()\n",
        "X = onehotencoder.fit_transform(df.Country.values.reshape(-1,1)).toarray()\n",
        "dfOneHot = pd.DataFrame(X, columns = [\"Country_\"+str(int(i)) for i in range(df.shape[1])]) \n",
        "df = pd.concat([df, dfOneHot], axis=1)\n",
        "df=df.drop(['Country'], axis=1) \n",
        "df.head()"
      ],
      "execution_count": 148,
      "outputs": [
        {
          "output_type": "execute_result",
          "data": {
            "text/html": [
              "<div>\n",
              "<style scoped>\n",
              "    .dataframe tbody tr th:only-of-type {\n",
              "        vertical-align: middle;\n",
              "    }\n",
              "\n",
              "    .dataframe tbody tr th {\n",
              "        vertical-align: top;\n",
              "    }\n",
              "\n",
              "    .dataframe thead th {\n",
              "        text-align: right;\n",
              "    }\n",
              "</style>\n",
              "<table border=\"1\" class=\"dataframe\">\n",
              "  <thead>\n",
              "    <tr style=\"text-align: right;\">\n",
              "      <th></th>\n",
              "      <th>Age</th>\n",
              "      <th>Salary</th>\n",
              "      <th>Country_0</th>\n",
              "      <th>Country_1</th>\n",
              "      <th>Country_2</th>\n",
              "    </tr>\n",
              "  </thead>\n",
              "  <tbody>\n",
              "    <tr>\n",
              "      <th>0</th>\n",
              "      <td>44</td>\n",
              "      <td>72000</td>\n",
              "      <td>1.0</td>\n",
              "      <td>0.0</td>\n",
              "      <td>0.0</td>\n",
              "    </tr>\n",
              "    <tr>\n",
              "      <th>1</th>\n",
              "      <td>34</td>\n",
              "      <td>65000</td>\n",
              "      <td>0.0</td>\n",
              "      <td>0.0</td>\n",
              "      <td>1.0</td>\n",
              "    </tr>\n",
              "    <tr>\n",
              "      <th>2</th>\n",
              "      <td>46</td>\n",
              "      <td>98000</td>\n",
              "      <td>0.0</td>\n",
              "      <td>1.0</td>\n",
              "      <td>0.0</td>\n",
              "    </tr>\n",
              "    <tr>\n",
              "      <th>3</th>\n",
              "      <td>35</td>\n",
              "      <td>45000</td>\n",
              "      <td>0.0</td>\n",
              "      <td>0.0</td>\n",
              "      <td>1.0</td>\n",
              "    </tr>\n",
              "    <tr>\n",
              "      <th>4</th>\n",
              "      <td>23</td>\n",
              "      <td>34000</td>\n",
              "      <td>0.0</td>\n",
              "      <td>1.0</td>\n",
              "      <td>0.0</td>\n",
              "    </tr>\n",
              "  </tbody>\n",
              "</table>\n",
              "</div>"
            ],
            "text/plain": [
              "   Age  Salary  Country_0  Country_1  Country_2\n",
              "0   44   72000        1.0        0.0        0.0\n",
              "1   34   65000        0.0        0.0        1.0\n",
              "2   46   98000        0.0        1.0        0.0\n",
              "3   35   45000        0.0        0.0        1.0\n",
              "4   23   34000        0.0        1.0        0.0"
            ]
          },
          "metadata": {
            "tags": []
          },
          "execution_count": 148
        }
      ]
    },
    {
      "cell_type": "markdown",
      "metadata": {
        "id": "HDtbnsSAugk2"
      },
      "source": [
        "## Missing Values"
      ]
    },
    {
      "cell_type": "code",
      "metadata": {
        "id": "wNuLNSGDugk3"
      },
      "source": [
        "dataset = pd.read_csv('data/pima-indians-diabetes1.csv', header=None)"
      ],
      "execution_count": 149,
      "outputs": []
    },
    {
      "cell_type": "code",
      "metadata": {
        "colab": {
          "base_uri": "https://localhost:8080/",
          "height": 195
        },
        "id": "ufkb2737ugk3",
        "outputId": "5b3a2b99-5d52-4eda-8d7a-fa48ce8ec059"
      },
      "source": [
        "dataset.head()"
      ],
      "execution_count": 150,
      "outputs": [
        {
          "output_type": "execute_result",
          "data": {
            "text/html": [
              "<div>\n",
              "<style scoped>\n",
              "    .dataframe tbody tr th:only-of-type {\n",
              "        vertical-align: middle;\n",
              "    }\n",
              "\n",
              "    .dataframe tbody tr th {\n",
              "        vertical-align: top;\n",
              "    }\n",
              "\n",
              "    .dataframe thead th {\n",
              "        text-align: right;\n",
              "    }\n",
              "</style>\n",
              "<table border=\"1\" class=\"dataframe\">\n",
              "  <thead>\n",
              "    <tr style=\"text-align: right;\">\n",
              "      <th></th>\n",
              "      <th>0</th>\n",
              "      <th>1</th>\n",
              "      <th>2</th>\n",
              "      <th>3</th>\n",
              "      <th>4</th>\n",
              "      <th>5</th>\n",
              "      <th>6</th>\n",
              "      <th>7</th>\n",
              "      <th>8</th>\n",
              "    </tr>\n",
              "  </thead>\n",
              "  <tbody>\n",
              "    <tr>\n",
              "      <th>0</th>\n",
              "      <td>6</td>\n",
              "      <td>148</td>\n",
              "      <td>72</td>\n",
              "      <td>35</td>\n",
              "      <td>0</td>\n",
              "      <td>33.6</td>\n",
              "      <td>0.627</td>\n",
              "      <td>50</td>\n",
              "      <td>1</td>\n",
              "    </tr>\n",
              "    <tr>\n",
              "      <th>1</th>\n",
              "      <td>1</td>\n",
              "      <td>85</td>\n",
              "      <td>66</td>\n",
              "      <td>29</td>\n",
              "      <td>0</td>\n",
              "      <td>26.6</td>\n",
              "      <td>0.351</td>\n",
              "      <td>31</td>\n",
              "      <td>0</td>\n",
              "    </tr>\n",
              "    <tr>\n",
              "      <th>2</th>\n",
              "      <td>8</td>\n",
              "      <td>183</td>\n",
              "      <td>64</td>\n",
              "      <td>0</td>\n",
              "      <td>0</td>\n",
              "      <td>23.3</td>\n",
              "      <td>0.672</td>\n",
              "      <td>32</td>\n",
              "      <td>1</td>\n",
              "    </tr>\n",
              "    <tr>\n",
              "      <th>3</th>\n",
              "      <td>1</td>\n",
              "      <td>89</td>\n",
              "      <td>66</td>\n",
              "      <td>23</td>\n",
              "      <td>94</td>\n",
              "      <td>28.1</td>\n",
              "      <td>0.167</td>\n",
              "      <td>21</td>\n",
              "      <td>0</td>\n",
              "    </tr>\n",
              "    <tr>\n",
              "      <th>4</th>\n",
              "      <td>0</td>\n",
              "      <td>137</td>\n",
              "      <td>40</td>\n",
              "      <td>35</td>\n",
              "      <td>168</td>\n",
              "      <td>43.1</td>\n",
              "      <td>2.288</td>\n",
              "      <td>33</td>\n",
              "      <td>1</td>\n",
              "    </tr>\n",
              "  </tbody>\n",
              "</table>\n",
              "</div>"
            ],
            "text/plain": [
              "   0    1   2   3    4     5      6   7  8\n",
              "0  6  148  72  35    0  33.6  0.627  50  1\n",
              "1  1   85  66  29    0  26.6  0.351  31  0\n",
              "2  8  183  64   0    0  23.3  0.672  32  1\n",
              "3  1   89  66  23   94  28.1  0.167  21  0\n",
              "4  0  137  40  35  168  43.1  2.288  33  1"
            ]
          },
          "metadata": {
            "tags": []
          },
          "execution_count": 150
        }
      ]
    },
    {
      "cell_type": "code",
      "metadata": {
        "colab": {
          "base_uri": "https://localhost:8080/",
          "height": 284
        },
        "id": "3AGhHDPAugk3",
        "outputId": "b8899693-41c9-4b9a-c3c9-30216606ced0"
      },
      "source": [
        "dataset.describe()"
      ],
      "execution_count": 151,
      "outputs": [
        {
          "output_type": "execute_result",
          "data": {
            "text/html": [
              "<div>\n",
              "<style scoped>\n",
              "    .dataframe tbody tr th:only-of-type {\n",
              "        vertical-align: middle;\n",
              "    }\n",
              "\n",
              "    .dataframe tbody tr th {\n",
              "        vertical-align: top;\n",
              "    }\n",
              "\n",
              "    .dataframe thead th {\n",
              "        text-align: right;\n",
              "    }\n",
              "</style>\n",
              "<table border=\"1\" class=\"dataframe\">\n",
              "  <thead>\n",
              "    <tr style=\"text-align: right;\">\n",
              "      <th></th>\n",
              "      <th>0</th>\n",
              "      <th>1</th>\n",
              "      <th>2</th>\n",
              "      <th>3</th>\n",
              "      <th>4</th>\n",
              "      <th>5</th>\n",
              "      <th>6</th>\n",
              "      <th>7</th>\n",
              "      <th>8</th>\n",
              "    </tr>\n",
              "  </thead>\n",
              "  <tbody>\n",
              "    <tr>\n",
              "      <th>count</th>\n",
              "      <td>768.000000</td>\n",
              "      <td>768.000000</td>\n",
              "      <td>768.000000</td>\n",
              "      <td>768.000000</td>\n",
              "      <td>768.000000</td>\n",
              "      <td>768.000000</td>\n",
              "      <td>768.000000</td>\n",
              "      <td>768.000000</td>\n",
              "      <td>768.000000</td>\n",
              "    </tr>\n",
              "    <tr>\n",
              "      <th>mean</th>\n",
              "      <td>3.845052</td>\n",
              "      <td>120.894531</td>\n",
              "      <td>69.105469</td>\n",
              "      <td>20.536458</td>\n",
              "      <td>79.799479</td>\n",
              "      <td>31.992578</td>\n",
              "      <td>0.471876</td>\n",
              "      <td>33.240885</td>\n",
              "      <td>0.348958</td>\n",
              "    </tr>\n",
              "    <tr>\n",
              "      <th>std</th>\n",
              "      <td>3.369578</td>\n",
              "      <td>31.972618</td>\n",
              "      <td>19.355807</td>\n",
              "      <td>15.952218</td>\n",
              "      <td>115.244002</td>\n",
              "      <td>7.884160</td>\n",
              "      <td>0.331329</td>\n",
              "      <td>11.760232</td>\n",
              "      <td>0.476951</td>\n",
              "    </tr>\n",
              "    <tr>\n",
              "      <th>min</th>\n",
              "      <td>0.000000</td>\n",
              "      <td>0.000000</td>\n",
              "      <td>0.000000</td>\n",
              "      <td>0.000000</td>\n",
              "      <td>0.000000</td>\n",
              "      <td>0.000000</td>\n",
              "      <td>0.078000</td>\n",
              "      <td>21.000000</td>\n",
              "      <td>0.000000</td>\n",
              "    </tr>\n",
              "    <tr>\n",
              "      <th>25%</th>\n",
              "      <td>1.000000</td>\n",
              "      <td>99.000000</td>\n",
              "      <td>62.000000</td>\n",
              "      <td>0.000000</td>\n",
              "      <td>0.000000</td>\n",
              "      <td>27.300000</td>\n",
              "      <td>0.243750</td>\n",
              "      <td>24.000000</td>\n",
              "      <td>0.000000</td>\n",
              "    </tr>\n",
              "    <tr>\n",
              "      <th>50%</th>\n",
              "      <td>3.000000</td>\n",
              "      <td>117.000000</td>\n",
              "      <td>72.000000</td>\n",
              "      <td>23.000000</td>\n",
              "      <td>30.500000</td>\n",
              "      <td>32.000000</td>\n",
              "      <td>0.372500</td>\n",
              "      <td>29.000000</td>\n",
              "      <td>0.000000</td>\n",
              "    </tr>\n",
              "    <tr>\n",
              "      <th>75%</th>\n",
              "      <td>6.000000</td>\n",
              "      <td>140.250000</td>\n",
              "      <td>80.000000</td>\n",
              "      <td>32.000000</td>\n",
              "      <td>127.250000</td>\n",
              "      <td>36.600000</td>\n",
              "      <td>0.626250</td>\n",
              "      <td>41.000000</td>\n",
              "      <td>1.000000</td>\n",
              "    </tr>\n",
              "    <tr>\n",
              "      <th>max</th>\n",
              "      <td>17.000000</td>\n",
              "      <td>199.000000</td>\n",
              "      <td>122.000000</td>\n",
              "      <td>99.000000</td>\n",
              "      <td>846.000000</td>\n",
              "      <td>67.100000</td>\n",
              "      <td>2.420000</td>\n",
              "      <td>81.000000</td>\n",
              "      <td>1.000000</td>\n",
              "    </tr>\n",
              "  </tbody>\n",
              "</table>\n",
              "</div>"
            ],
            "text/plain": [
              "                0           1           2  ...           6           7           8\n",
              "count  768.000000  768.000000  768.000000  ...  768.000000  768.000000  768.000000\n",
              "mean     3.845052  120.894531   69.105469  ...    0.471876   33.240885    0.348958\n",
              "std      3.369578   31.972618   19.355807  ...    0.331329   11.760232    0.476951\n",
              "min      0.000000    0.000000    0.000000  ...    0.078000   21.000000    0.000000\n",
              "25%      1.000000   99.000000   62.000000  ...    0.243750   24.000000    0.000000\n",
              "50%      3.000000  117.000000   72.000000  ...    0.372500   29.000000    0.000000\n",
              "75%      6.000000  140.250000   80.000000  ...    0.626250   41.000000    1.000000\n",
              "max     17.000000  199.000000  122.000000  ...    2.420000   81.000000    1.000000\n",
              "\n",
              "[8 rows x 9 columns]"
            ]
          },
          "metadata": {
            "tags": []
          },
          "execution_count": 151
        }
      ]
    },
    {
      "cell_type": "code",
      "metadata": {
        "id": "75utbew2ugk3"
      },
      "source": [
        "num_missing = (dataset[[1,2,3,4,5,7]] == 0).sum()"
      ],
      "execution_count": 152,
      "outputs": []
    },
    {
      "cell_type": "code",
      "metadata": {
        "colab": {
          "base_uri": "https://localhost:8080/"
        },
        "id": "ltoaIZavugk3",
        "outputId": "633f91ae-e9a4-4d4b-a923-b2bcc82ecb60"
      },
      "source": [
        "num_missing"
      ],
      "execution_count": 153,
      "outputs": [
        {
          "output_type": "execute_result",
          "data": {
            "text/plain": [
              "1      5\n",
              "2     35\n",
              "3    227\n",
              "4    374\n",
              "5     11\n",
              "7      0\n",
              "dtype: int64"
            ]
          },
          "metadata": {
            "tags": []
          },
          "execution_count": 153
        }
      ]
    },
    {
      "cell_type": "code",
      "metadata": {
        "colab": {
          "base_uri": "https://localhost:8080/"
        },
        "id": "TFbNUjJZugk3",
        "outputId": "d42952e7-0ffc-409d-dcf2-e8ed68727e04"
      },
      "source": [
        "dataset[[1,2,3,4,5]] = dataset[[1,2,3,4,5]].replace(0, np.nan)\n",
        "dataset.isnull().sum()"
      ],
      "execution_count": 154,
      "outputs": [
        {
          "output_type": "execute_result",
          "data": {
            "text/plain": [
              "0      0\n",
              "1      5\n",
              "2     35\n",
              "3    227\n",
              "4    374\n",
              "5     11\n",
              "6      0\n",
              "7      0\n",
              "8      0\n",
              "dtype: int64"
            ]
          },
          "metadata": {
            "tags": []
          },
          "execution_count": 154
        }
      ]
    },
    {
      "cell_type": "code",
      "metadata": {
        "colab": {
          "base_uri": "https://localhost:8080/",
          "height": 195
        },
        "id": "G7YAvamcugk3",
        "outputId": "920d9e11-ac9b-4681-976e-1870da0e2835"
      },
      "source": [
        "dataset.head()"
      ],
      "execution_count": 155,
      "outputs": [
        {
          "output_type": "execute_result",
          "data": {
            "text/html": [
              "<div>\n",
              "<style scoped>\n",
              "    .dataframe tbody tr th:only-of-type {\n",
              "        vertical-align: middle;\n",
              "    }\n",
              "\n",
              "    .dataframe tbody tr th {\n",
              "        vertical-align: top;\n",
              "    }\n",
              "\n",
              "    .dataframe thead th {\n",
              "        text-align: right;\n",
              "    }\n",
              "</style>\n",
              "<table border=\"1\" class=\"dataframe\">\n",
              "  <thead>\n",
              "    <tr style=\"text-align: right;\">\n",
              "      <th></th>\n",
              "      <th>0</th>\n",
              "      <th>1</th>\n",
              "      <th>2</th>\n",
              "      <th>3</th>\n",
              "      <th>4</th>\n",
              "      <th>5</th>\n",
              "      <th>6</th>\n",
              "      <th>7</th>\n",
              "      <th>8</th>\n",
              "    </tr>\n",
              "  </thead>\n",
              "  <tbody>\n",
              "    <tr>\n",
              "      <th>0</th>\n",
              "      <td>6</td>\n",
              "      <td>148.0</td>\n",
              "      <td>72.0</td>\n",
              "      <td>35.0</td>\n",
              "      <td>NaN</td>\n",
              "      <td>33.6</td>\n",
              "      <td>0.627</td>\n",
              "      <td>50</td>\n",
              "      <td>1</td>\n",
              "    </tr>\n",
              "    <tr>\n",
              "      <th>1</th>\n",
              "      <td>1</td>\n",
              "      <td>85.0</td>\n",
              "      <td>66.0</td>\n",
              "      <td>29.0</td>\n",
              "      <td>NaN</td>\n",
              "      <td>26.6</td>\n",
              "      <td>0.351</td>\n",
              "      <td>31</td>\n",
              "      <td>0</td>\n",
              "    </tr>\n",
              "    <tr>\n",
              "      <th>2</th>\n",
              "      <td>8</td>\n",
              "      <td>183.0</td>\n",
              "      <td>64.0</td>\n",
              "      <td>NaN</td>\n",
              "      <td>NaN</td>\n",
              "      <td>23.3</td>\n",
              "      <td>0.672</td>\n",
              "      <td>32</td>\n",
              "      <td>1</td>\n",
              "    </tr>\n",
              "    <tr>\n",
              "      <th>3</th>\n",
              "      <td>1</td>\n",
              "      <td>89.0</td>\n",
              "      <td>66.0</td>\n",
              "      <td>23.0</td>\n",
              "      <td>94.0</td>\n",
              "      <td>28.1</td>\n",
              "      <td>0.167</td>\n",
              "      <td>21</td>\n",
              "      <td>0</td>\n",
              "    </tr>\n",
              "    <tr>\n",
              "      <th>4</th>\n",
              "      <td>0</td>\n",
              "      <td>137.0</td>\n",
              "      <td>40.0</td>\n",
              "      <td>35.0</td>\n",
              "      <td>168.0</td>\n",
              "      <td>43.1</td>\n",
              "      <td>2.288</td>\n",
              "      <td>33</td>\n",
              "      <td>1</td>\n",
              "    </tr>\n",
              "  </tbody>\n",
              "</table>\n",
              "</div>"
            ],
            "text/plain": [
              "   0      1     2     3      4     5      6   7  8\n",
              "0  6  148.0  72.0  35.0    NaN  33.6  0.627  50  1\n",
              "1  1   85.0  66.0  29.0    NaN  26.6  0.351  31  0\n",
              "2  8  183.0  64.0   NaN    NaN  23.3  0.672  32  1\n",
              "3  1   89.0  66.0  23.0   94.0  28.1  0.167  21  0\n",
              "4  0  137.0  40.0  35.0  168.0  43.1  2.288  33  1"
            ]
          },
          "metadata": {
            "tags": []
          },
          "execution_count": 155
        }
      ]
    },
    {
      "cell_type": "markdown",
      "metadata": {
        "id": "yZsKcOJEugk4"
      },
      "source": [
        "### Remove rows"
      ]
    },
    {
      "cell_type": "code",
      "metadata": {
        "colab": {
          "base_uri": "https://localhost:8080/"
        },
        "id": "N7I1g5oaugk4",
        "outputId": "bfe96cc8-7506-4f2c-dfe9-a3bdbed09b5c"
      },
      "source": [
        "print(dataset.shape)\n",
        "dataset.dropna(inplace=True)\n",
        "print(dataset.shape)"
      ],
      "execution_count": 156,
      "outputs": [
        {
          "output_type": "stream",
          "text": [
            "(768, 9)\n",
            "(392, 9)\n"
          ],
          "name": "stdout"
        }
      ]
    },
    {
      "cell_type": "markdown",
      "metadata": {
        "id": "zFyHhI38ugk4"
      },
      "source": [
        "### Replace missing value"
      ]
    },
    {
      "cell_type": "markdown",
      "metadata": {
        "id": "CK1c5Gtyugk4"
      },
      "source": [
        "Fill missing with mean"
      ]
    },
    {
      "cell_type": "code",
      "metadata": {
        "id": "1ozRogvmugk4"
      },
      "source": [
        "from sklearn.impute import SimpleImputer"
      ],
      "execution_count": 157,
      "outputs": []
    },
    {
      "cell_type": "code",
      "metadata": {
        "colab": {
          "base_uri": "https://localhost:8080/"
        },
        "id": "XM2N6tdYugk4",
        "outputId": "7ec66e43-f941-4534-f6e4-9fa5d3d3f350"
      },
      "source": [
        "dataset = pd.read_csv('data/pima-indians-diabetes.csv', header=None)\n",
        "dataset[[1,2,3,4,5]] = dataset[[1,2,3,4,5]].replace(0, np.nan)\n",
        "values = dataset.values\n",
        "imputer = SimpleImputer(missing_values=np.nan, strategy='mean')\n",
        "transformed_values = imputer.fit_transform(values)\n",
        "print(f'Missing: {np.isnan(transformed_values).sum()}' )"
      ],
      "execution_count": 158,
      "outputs": [
        {
          "output_type": "stream",
          "text": [
            "Missing: 0\n"
          ],
          "name": "stdout"
        }
      ]
    },
    {
      "cell_type": "code",
      "metadata": {
        "scrolled": true,
        "colab": {
          "base_uri": "https://localhost:8080/",
          "height": 0
        },
        "id": "v3SUAf_yugk4",
        "outputId": "813a2775-603e-49a0-d275-2d87f97ce73c"
      },
      "source": [
        "dataset.head()"
      ],
      "execution_count": 159,
      "outputs": [
        {
          "output_type": "execute_result",
          "data": {
            "text/html": [
              "<div>\n",
              "<style scoped>\n",
              "    .dataframe tbody tr th:only-of-type {\n",
              "        vertical-align: middle;\n",
              "    }\n",
              "\n",
              "    .dataframe tbody tr th {\n",
              "        vertical-align: top;\n",
              "    }\n",
              "\n",
              "    .dataframe thead th {\n",
              "        text-align: right;\n",
              "    }\n",
              "</style>\n",
              "<table border=\"1\" class=\"dataframe\">\n",
              "  <thead>\n",
              "    <tr style=\"text-align: right;\">\n",
              "      <th></th>\n",
              "      <th>0</th>\n",
              "      <th>1</th>\n",
              "      <th>2</th>\n",
              "      <th>3</th>\n",
              "      <th>4</th>\n",
              "      <th>5</th>\n",
              "      <th>6</th>\n",
              "      <th>7</th>\n",
              "      <th>8</th>\n",
              "    </tr>\n",
              "  </thead>\n",
              "  <tbody>\n",
              "    <tr>\n",
              "      <th>0</th>\n",
              "      <td>6</td>\n",
              "      <td>148.0</td>\n",
              "      <td>72.0</td>\n",
              "      <td>35.0</td>\n",
              "      <td>NaN</td>\n",
              "      <td>33.6</td>\n",
              "      <td>0.627</td>\n",
              "      <td>50</td>\n",
              "      <td>1</td>\n",
              "    </tr>\n",
              "    <tr>\n",
              "      <th>1</th>\n",
              "      <td>1</td>\n",
              "      <td>85.0</td>\n",
              "      <td>66.0</td>\n",
              "      <td>29.0</td>\n",
              "      <td>NaN</td>\n",
              "      <td>26.6</td>\n",
              "      <td>0.351</td>\n",
              "      <td>31</td>\n",
              "      <td>0</td>\n",
              "    </tr>\n",
              "    <tr>\n",
              "      <th>2</th>\n",
              "      <td>8</td>\n",
              "      <td>183.0</td>\n",
              "      <td>64.0</td>\n",
              "      <td>NaN</td>\n",
              "      <td>NaN</td>\n",
              "      <td>23.3</td>\n",
              "      <td>0.672</td>\n",
              "      <td>32</td>\n",
              "      <td>1</td>\n",
              "    </tr>\n",
              "    <tr>\n",
              "      <th>3</th>\n",
              "      <td>1</td>\n",
              "      <td>89.0</td>\n",
              "      <td>66.0</td>\n",
              "      <td>23.0</td>\n",
              "      <td>94.0</td>\n",
              "      <td>28.1</td>\n",
              "      <td>0.167</td>\n",
              "      <td>21</td>\n",
              "      <td>0</td>\n",
              "    </tr>\n",
              "    <tr>\n",
              "      <th>4</th>\n",
              "      <td>0</td>\n",
              "      <td>137.0</td>\n",
              "      <td>40.0</td>\n",
              "      <td>35.0</td>\n",
              "      <td>168.0</td>\n",
              "      <td>43.1</td>\n",
              "      <td>2.288</td>\n",
              "      <td>33</td>\n",
              "      <td>1</td>\n",
              "    </tr>\n",
              "  </tbody>\n",
              "</table>\n",
              "</div>"
            ],
            "text/plain": [
              "   0      1     2     3      4     5      6   7  8\n",
              "0  6  148.0  72.0  35.0    NaN  33.6  0.627  50  1\n",
              "1  1   85.0  66.0  29.0    NaN  26.6  0.351  31  0\n",
              "2  8  183.0  64.0   NaN    NaN  23.3  0.672  32  1\n",
              "3  1   89.0  66.0  23.0   94.0  28.1  0.167  21  0\n",
              "4  0  137.0  40.0  35.0  168.0  43.1  2.288  33  1"
            ]
          },
          "metadata": {
            "tags": []
          },
          "execution_count": 159
        }
      ]
    },
    {
      "cell_type": "code",
      "metadata": {
        "colab": {
          "base_uri": "https://localhost:8080/"
        },
        "id": "7vKVBcfHugk5",
        "outputId": "fbed7924-433b-464a-f688-73874a8abe49"
      },
      "source": [
        "transformed_values[0]"
      ],
      "execution_count": 160,
      "outputs": [
        {
          "output_type": "execute_result",
          "data": {
            "text/plain": [
              "array([  6.        , 148.        ,  72.        ,  35.        ,\n",
              "       155.54822335,  33.6       ,   0.627     ,  50.        ,\n",
              "         1.        ])"
            ]
          },
          "metadata": {
            "tags": []
          },
          "execution_count": 160
        }
      ]
    },
    {
      "cell_type": "code",
      "metadata": {
        "colab": {
          "base_uri": "https://localhost:8080/"
        },
        "id": "BJUaaYX8ugk5",
        "outputId": "e82d12bb-bcda-48c0-a0a1-93678afc1242"
      },
      "source": [
        "# Fill missing with most frequent value \n",
        "\n",
        "dataset = pd.read_csv('data/pima-indians-diabetes.csv', header=None)\n",
        "dataset[[1,2,3,4,5]] = dataset[[1,2,3,4,5]].replace(0, np.nan)\n",
        "values = dataset.values\n",
        "imputer = SimpleImputer(missing_values=np.nan, strategy='most_frequent')\n",
        "transformed_values = imputer.fit_transform(values)\n",
        "print(f'Missing: {np.isnan(transformed_values).sum()}')"
      ],
      "execution_count": 161,
      "outputs": [
        {
          "output_type": "stream",
          "text": [
            "Missing: 0\n"
          ],
          "name": "stdout"
        }
      ]
    },
    {
      "cell_type": "code",
      "metadata": {
        "colab": {
          "base_uri": "https://localhost:8080/"
        },
        "id": "4YqGS2Dwugk5",
        "outputId": "e5f15263-87f9-4e55-f3bf-8bdbba8d0932"
      },
      "source": [
        "transformed_values"
      ],
      "execution_count": 162,
      "outputs": [
        {
          "output_type": "execute_result",
          "data": {
            "text/plain": [
              "array([[  6.   , 148.   ,  72.   , ...,   0.627,  50.   ,   1.   ],\n",
              "       [  1.   ,  85.   ,  66.   , ...,   0.351,  31.   ,   0.   ],\n",
              "       [  8.   , 183.   ,  64.   , ...,   0.672,  32.   ,   1.   ],\n",
              "       ...,\n",
              "       [  5.   , 121.   ,  72.   , ...,   0.245,  30.   ,   0.   ],\n",
              "       [  1.   , 126.   ,  60.   , ...,   0.349,  47.   ,   1.   ],\n",
              "       [  1.   ,  93.   ,  70.   , ...,   0.315,  23.   ,   0.   ]])"
            ]
          },
          "metadata": {
            "tags": []
          },
          "execution_count": 162
        }
      ]
    },
    {
      "cell_type": "markdown",
      "metadata": {
        "id": "FCOz5hveugk5"
      },
      "source": [
        "You can use other more complex heuristics "
      ]
    },
    {
      "cell_type": "markdown",
      "metadata": {
        "id": "cN_zEl3Sugk5"
      },
      "source": [
        "## Class Imbalance -  SMOTE\n",
        "\n",
        "https://imbalanced-learn.readthedocs.io/en/stable/over_sampling.html"
      ]
    },
    {
      "cell_type": "markdown",
      "metadata": {
        "id": "w7g-DzVIugk5"
      },
      "source": [
        "![image.png](attachment:image.png)"
      ]
    },
    {
      "cell_type": "code",
      "metadata": {
        "colab": {
          "base_uri": "https://localhost:8080/"
        },
        "id": "JSNrM0obugk5",
        "outputId": "03cef7d8-fb68-401e-c011-f741a275ad56"
      },
      "source": [
        "!pip install imblearn --user # in windows \n"
      ],
      "execution_count": 163,
      "outputs": [
        {
          "output_type": "stream",
          "text": [
            "Requirement already satisfied: imblearn in /usr/local/lib/python3.6/dist-packages (0.0)\n",
            "Requirement already satisfied: imbalanced-learn in /usr/local/lib/python3.6/dist-packages (from imblearn) (0.4.3)\n",
            "Requirement already satisfied: numpy>=1.8.2 in /usr/local/lib/python3.6/dist-packages (from imbalanced-learn->imblearn) (1.19.5)\n",
            "Requirement already satisfied: scipy>=0.13.3 in /usr/local/lib/python3.6/dist-packages (from imbalanced-learn->imblearn) (1.4.1)\n",
            "Requirement already satisfied: scikit-learn>=0.20 in /usr/local/lib/python3.6/dist-packages (from imbalanced-learn->imblearn) (0.22.2.post1)\n",
            "Requirement already satisfied: joblib>=0.11 in /usr/local/lib/python3.6/dist-packages (from scikit-learn>=0.20->imbalanced-learn->imblearn) (1.0.0)\n"
          ],
          "name": "stdout"
        }
      ]
    },
    {
      "cell_type": "code",
      "metadata": {
        "colab": {
          "base_uri": "https://localhost:8080/"
        },
        "id": "bRMH2wsbugk6",
        "outputId": "9ffca1d0-70aa-4308-f0aa-f897d61d6d39"
      },
      "source": [
        "import imblearn\n",
        "from collections import Counter\n",
        "from sklearn.datasets import make_classification\n",
        "from imblearn.over_sampling import SMOTE # doctest: +NORMALIZE_WHITESPACE"
      ],
      "execution_count": 164,
      "outputs": [
        {
          "output_type": "stream",
          "text": [
            "/usr/local/lib/python3.6/dist-packages/sklearn/externals/six.py:31: FutureWarning: The module is deprecated in version 0.21 and will be removed in version 0.23 since we've dropped support for Python 2.7. Please rely on the official version of six (https://pypi.org/project/six/).\n",
            "  \"(https://pypi.org/project/six/).\", FutureWarning)\n",
            "/usr/local/lib/python3.6/dist-packages/sklearn/utils/deprecation.py:144: FutureWarning: The sklearn.neighbors.base module is  deprecated in version 0.22 and will be removed in version 0.24. The corresponding classes / functions should instead be imported from sklearn.neighbors. Anything that cannot be imported from sklearn.neighbors is now part of the private API.\n",
            "  warnings.warn(message, FutureWarning)\n"
          ],
          "name": "stderr"
        }
      ]
    },
    {
      "cell_type": "code",
      "metadata": {
        "id": "zuUoc14tugk6"
      },
      "source": [
        "X, y = make_classification(n_classes=2, class_sep=2,\n",
        "weights=[0.1, 0.9], n_informative=3, n_redundant=1, flip_y=0,\n",
        "n_features=20, n_clusters_per_class=1, n_samples=1000, random_state=10)"
      ],
      "execution_count": 165,
      "outputs": []
    },
    {
      "cell_type": "code",
      "metadata": {
        "colab": {
          "base_uri": "https://localhost:8080/"
        },
        "id": "6emtjrKyugk6",
        "outputId": "79fea8a2-e20e-4b4b-a20c-55a35bfd8137"
      },
      "source": [
        "print('Original dataset shape %s' % Counter(y))"
      ],
      "execution_count": 166,
      "outputs": [
        {
          "output_type": "stream",
          "text": [
            "Original dataset shape Counter({1: 900, 0: 100})\n"
          ],
          "name": "stdout"
        }
      ]
    },
    {
      "cell_type": "code",
      "metadata": {
        "id": "TbqC9N2Lugk6"
      },
      "source": [
        "sm = SMOTE(random_state=42)"
      ],
      "execution_count": 167,
      "outputs": []
    },
    {
      "cell_type": "code",
      "metadata": {
        "colab": {
          "base_uri": "https://localhost:8080/"
        },
        "id": "tsb-AuF0ugk6",
        "outputId": "0e5a572f-829d-416e-a9dc-6c8b02acccb3"
      },
      "source": [
        "X_res, y_res = sm.fit_resample(X, y)"
      ],
      "execution_count": 168,
      "outputs": [
        {
          "output_type": "stream",
          "text": [
            "/usr/local/lib/python3.6/dist-packages/sklearn/utils/deprecation.py:87: FutureWarning: Function safe_indexing is deprecated; safe_indexing is deprecated in version 0.22 and will be removed in version 0.24.\n",
            "  warnings.warn(msg, category=FutureWarning)\n"
          ],
          "name": "stderr"
        }
      ]
    },
    {
      "cell_type": "code",
      "metadata": {
        "colab": {
          "base_uri": "https://localhost:8080/"
        },
        "id": "vLaIoacpugk6",
        "outputId": "09de9681-1110-4ed1-d321-531547235a4f"
      },
      "source": [
        "print('Resampled dataset shape %s' % Counter(y_res))"
      ],
      "execution_count": 169,
      "outputs": [
        {
          "output_type": "stream",
          "text": [
            "Resampled dataset shape Counter({0: 900, 1: 900})\n"
          ],
          "name": "stdout"
        }
      ]
    },
    {
      "cell_type": "markdown",
      "metadata": {
        "id": "zCJD093iugk7"
      },
      "source": [
        "Check out https://rikunert.com/SMOTE_explained for details"
      ]
    },
    {
      "cell_type": "code",
      "metadata": {
        "id": "ar6bhK44ugk7"
      },
      "source": [
        ""
      ],
      "execution_count": null,
      "outputs": []
    }
  ]
}