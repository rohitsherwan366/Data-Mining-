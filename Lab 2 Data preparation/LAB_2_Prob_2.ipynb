{
  "nbformat": 4,
  "nbformat_minor": 0,
  "metadata": {
    "colab": {
      "name": "Assignment2_datamining.ipynb",
      "provenance": [],
      "collapsed_sections": [],
      "toc_visible": true
    },
    "kernelspec": {
      "name": "python3",
      "display_name": "Python 3"
    }
  },
  "cells": [
    {
      "cell_type": "code",
      "metadata": {
        "id": "FjuEPEVnUAbz"
      },
      "source": [
        ""
      ],
      "execution_count": null,
      "outputs": []
    },
    {
      "cell_type": "markdown",
      "metadata": {
        "id": "rBLAc9EVULZC"
      },
      "source": [
        "**Assignment_2_Data_collection**\r\n",
        "\r\n",
        "**January 11, 2021**\r\n",
        "\r\n"
      ]
    },
    {
      "cell_type": "markdown",
      "metadata": {
        "id": "deqDUDcQU9Cn"
      },
      "source": [
        "1 CSB352: Data Mining\r\n",
        "\r\n",
        "Instructor : [Dr. Chandra Prakash]\r\n",
        "\r\n",
        "• For more information visit the class website."
      ]
    },
    {
      "cell_type": "markdown",
      "metadata": {
        "id": "Dbr7ggR5U9Rt"
      },
      "source": [
        "2 Assignment 2: Data Collection using PYTHON Frameworks\r\n",
        "# LAB 2 : Python Frameworks- Numpy + Pandas + SkLearn Assigning Date : 11-01-2021\r\n",
        "Due Date: 16-Jan-2021\r\n",
        "\r\n",
        "**Student Name: Rohit Byas Sherwan**\r\n",
        "\r\n",
        "**Roll No : 181210043**\r\n"
      ]
    },
    {
      "cell_type": "markdown",
      "metadata": {
        "id": "oZa13fztVVsC"
      },
      "source": [
        "3 Assignment Instructions\r\n",
        "\r\n",
        "You must save your as Assignment_NO_Yourname\r\n",
        "### Agenda for the Assignment 2 \r\n",
        "1. How to download a dataset and perform operations\r\n",
        "using numpy and pandas\r\n",
        "2. Perform the given tasks.\r\n",
        "Your source file will most likely end in .pynb if you are using a Jupyter notebook; however, it\r\n",
        "might also end in .py if you are using a Python script.\r\n",
        "You have to add your name and roll no in the Google Colab Instructions section below and print\r\n",
        "it."
      ]
    },
    {
      "cell_type": "markdown",
      "metadata": {
        "id": "SBSMnShQVuEP"
      },
      "source": [
        "4 Google CoLab Instructions\r\n",
        "\r\n",
        "The following code ensures that Google CoLab is running the correct version of TensorFlow.\r\n"
      ]
    },
    {
      "cell_type": "code",
      "metadata": {
        "colab": {
          "base_uri": "https://localhost:8080/"
        },
        "id": "SRnMDawSWANz",
        "outputId": "ec713a71-3033-4b50-9878-b0ed3f630868"
      },
      "source": [
        "try:\r\n",
        "  from google.colab import drive\r\n",
        "  %tensorflow_version 2.x\r\n",
        "  COLAB = True\r\n",
        "  print(\"Hello World\")\r\n",
        "  print(\"Note: using Google CoLab\")\r\n",
        "except:\r\n",
        "  print(\"Hello NITD\")\r\n",
        "  print(\"Note: not using Google CoLab\")\r\n",
        "  COLAB = False\r\n",
        "# Print your name and Roll No.\r\n",
        "print('Rohit Byas Sherwan 181210043')"
      ],
      "execution_count": 7,
      "outputs": [
        {
          "output_type": "stream",
          "text": [
            "Hello World\n",
            "Note: using Google CoLab\n",
            "Rohit Byas Sherwan 181210043\n"
          ],
          "name": "stdout"
        }
      ]
    },
    {
      "cell_type": "markdown",
      "metadata": {
        "id": "y9Z4h_A2WDCs"
      },
      "source": [
        "\r\n",
        "### Task 1: \r\n",
        "1. Read in the Dataset: Coronavirus Source Data https://ourworldindata.org/coronavirus-source-data \r\n",
        "2. Print:\r\n",
        "  \r\n",
        "    a. print the first 5 rows and the last 5 rows (in different cells)\r\n",
        "  \r\n",
        "    b. the size of the dataframe i.e how many rows and columns\r\n",
        "  \r\n",
        "    c. datatype of each column \r\n",
        "    \r\n",
        "    d. basic statistics of each column\r\n"
      ]
    },
    {
      "cell_type": "code",
      "metadata": {
        "id": "Fuv3wfjvmpTk"
      },
      "source": [
        "###Your code here\r\n",
        "import requests\r\n",
        "res=requests.get(\"https://covid.ourworldindata.org/data/owid-covid-data.csv\")"
      ],
      "execution_count": null,
      "outputs": []
    },
    {
      "cell_type": "code",
      "metadata": {
        "colab": {
          "base_uri": "https://localhost:8080/"
        },
        "id": "HVS2oMxGWGTO",
        "outputId": "46f5668d-227d-454d-9428-b6e3c9b0ce38"
      },
      "source": [
        "###Your code here\r\n",
        "import numpy as np\r\n",
        "import pandas as pd\r\n",
        "dataset = pd.read_csv('/content/sample_data/owid-covid-data.csv')\r\n",
        "X = dataset.iloc[0:5,:].values\r\n",
        "print(X)\r\n",
        "print(\"\\n\")\r\n",
        "Y = dataset.iloc[-5:,:].values\r\n",
        "print(Y)\r\n",
        "print(\"\\n\")\r\n",
        "row = len(dataset)\r\n",
        "column = len(dataset.columns)\r\n",
        "print(\"rows & columns : \",row,column)\r\n",
        "print(\"\\n\")\r\n",
        "print(dataset.dtypes)\r\n",
        "print(\"\\n\")\r\n",
        "stats = dataset.describe(include='all')\r\n",
        "print(stats)"
      ],
      "execution_count": null,
      "outputs": [
        {
          "output_type": "stream",
          "text": [
            "[['AFG' 'Asia' 'Afghanistan' '2020-02-24' 1.0 1.0 nan nan nan nan\n",
            "  0.026000000000000002 0.026000000000000002 nan nan nan nan nan nan nan\n",
            "  nan nan nan nan nan nan nan nan nan nan nan nan nan nan nan nan nan nan\n",
            "  nan nan 8.33 38928341.0 54.422 18.6 2.5810000000000004 1.337 1803.987\n",
            "  nan 597.029 9.59 nan nan 37.746 0.5 64.83 0.498]\n",
            " ['AFG' 'Asia' 'Afghanistan' '2020-02-25' 1.0 0.0 nan nan nan nan\n",
            "  0.026000000000000002 0.0 nan nan nan nan nan nan nan nan nan nan nan\n",
            "  nan nan nan nan nan nan nan nan nan nan nan nan nan nan nan nan 8.33\n",
            "  38928341.0 54.422 18.6 2.5810000000000004 1.337 1803.987 nan 597.029\n",
            "  9.59 nan nan 37.746 0.5 64.83 0.498]\n",
            " ['AFG' 'Asia' 'Afghanistan' '2020-02-26' 1.0 0.0 nan nan nan nan\n",
            "  0.026000000000000002 0.0 nan nan nan nan nan nan nan nan nan nan nan\n",
            "  nan nan nan nan nan nan nan nan nan nan nan nan nan nan nan nan 8.33\n",
            "  38928341.0 54.422 18.6 2.5810000000000004 1.337 1803.987 nan 597.029\n",
            "  9.59 nan nan 37.746 0.5 64.83 0.498]\n",
            " ['AFG' 'Asia' 'Afghanistan' '2020-02-27' 1.0 0.0 nan nan nan nan\n",
            "  0.026000000000000002 0.0 nan nan nan nan nan nan nan nan nan nan nan\n",
            "  nan nan nan nan nan nan nan nan nan nan nan nan nan nan nan nan 8.33\n",
            "  38928341.0 54.422 18.6 2.5810000000000004 1.337 1803.987 nan 597.029\n",
            "  9.59 nan nan 37.746 0.5 64.83 0.498]\n",
            " ['AFG' 'Asia' 'Afghanistan' '2020-02-28' 1.0 0.0 nan nan nan nan\n",
            "  0.026000000000000002 0.0 nan nan nan nan nan nan nan nan nan nan nan\n",
            "  nan nan nan nan nan nan nan nan nan nan nan nan nan nan nan nan 8.33\n",
            "  38928341.0 54.422 18.6 2.5810000000000004 1.337 1803.987 nan 597.029\n",
            "  9.59 nan nan 37.746 0.5 64.83 0.498]]\n",
            "\n",
            "\n",
            "[['ZWE' 'Africa' 'Zimbabwe' '2021-01-10' 21477.0 978.0 887.429 507.0 24.0\n",
            "  18.143 1445.005 65.801 59.708 34.111999999999995 1.615\n",
            "  1.2209999999999999 nan nan nan nan nan nan nan nan nan 4936.0 251048.0\n",
            "  16.891 0.332 3710.0 0.25 0.239 4.2 'tests performed' nan nan nan nan\n",
            "  nan 92.59 14862927.0 42.729 19.6 2.822 1.882 1899.775 21.4 307.846 1.82\n",
            "  1.6 30.7 36.791 1.7 61.49 0.535]\n",
            " ['ZWE' 'Africa' 'Zimbabwe' '2021-01-11' 22297.0 820.0 924.0 528.0 21.0\n",
            "  20.570999999999998 1500.1760000000002 55.17100000000001 62.168 35.525\n",
            "  1.413 1.3840000000000001 nan nan nan nan nan nan nan nan nan 1518.0\n",
            "  252566.0 16.993 0.102 3659.0 0.24600000000000002 0.253 4.0\n",
            "  'tests performed' nan nan nan nan nan nan 14862927.0 42.729 19.6 2.822\n",
            "  1.882 1899.775 21.4 307.846 1.82 1.6 30.7 36.791 1.7 61.49 0.535]\n",
            " ['ZWE' 'Africa' 'Zimbabwe' '2021-01-12' 23239.0 942.0 863.571 551.0 23.0\n",
            "  19.0 1563.555 63.379 58.102 37.071999999999996 1.547 1.278 nan nan nan\n",
            "  nan nan nan nan nan nan 4462.0 257028.0 17.293 0.3 3599.0 0.242 0.24\n",
            "  4.2 'tests performed' nan nan nan nan nan nan 14862927.0 42.729 19.6\n",
            "  2.822 1.882 1899.775 21.4 307.846 1.82 1.6 30.7 36.791 1.7 61.49 0.535]\n",
            " ['ZWE' 'Africa' 'Zimbabwe' '2021-01-13' 24256.0 1017.0 921.7139999999999\n",
            "  589.0 38.0 22.570999999999998 1631.98 68.425 62.013999999999996 39.629\n",
            "  2.557 1.5190000000000001 nan nan nan nan nan nan nan nan nan 3507.0\n",
            "  260535.0 17.529 0.23600000000000002 3429.0 0.231 0.26899999999999996\n",
            "  3.7 'tests performed' nan nan nan nan nan nan 14862927.0 42.729 19.6\n",
            "  2.822 1.882 1899.775 21.4 307.846 1.82 1.6 30.7 36.791 1.7 61.49 0.535]\n",
            " ['ZWE' 'Africa' 'Zimbabwe' '2021-01-14' 25368.0 1112.0 956.143 636.0\n",
            "  47.0 27.143 1706.797 74.817 64.331 42.791000000000004 3.162\n",
            "  1.8259999999999998 nan nan nan nan nan nan nan nan nan nan nan nan nan\n",
            "  nan nan nan nan nan nan nan nan nan nan nan 14862927.0 42.729 19.6\n",
            "  2.822 1.882 1899.775 21.4 307.846 1.82 1.6 30.7 36.791 1.7 61.49 0.535]]\n",
            "\n",
            "\n",
            "rows & columns :  60137 55\n",
            "\n",
            "\n",
            "iso_code                                  object\n",
            "continent                                 object\n",
            "location                                  object\n",
            "date                                      object\n",
            "total_cases                              float64\n",
            "new_cases                                float64\n",
            "new_cases_smoothed                       float64\n",
            "total_deaths                             float64\n",
            "new_deaths                               float64\n",
            "new_deaths_smoothed                      float64\n",
            "total_cases_per_million                  float64\n",
            "new_cases_per_million                    float64\n",
            "new_cases_smoothed_per_million           float64\n",
            "total_deaths_per_million                 float64\n",
            "new_deaths_per_million                   float64\n",
            "new_deaths_smoothed_per_million          float64\n",
            "reproduction_rate                        float64\n",
            "icu_patients                             float64\n",
            "icu_patients_per_million                 float64\n",
            "hosp_patients                            float64\n",
            "hosp_patients_per_million                float64\n",
            "weekly_icu_admissions                    float64\n",
            "weekly_icu_admissions_per_million        float64\n",
            "weekly_hosp_admissions                   float64\n",
            "weekly_hosp_admissions_per_million       float64\n",
            "new_tests                                float64\n",
            "total_tests                              float64\n",
            "total_tests_per_thousand                 float64\n",
            "new_tests_per_thousand                   float64\n",
            "new_tests_smoothed                       float64\n",
            "new_tests_smoothed_per_thousand          float64\n",
            "positive_rate                            float64\n",
            "tests_per_case                           float64\n",
            "tests_units                               object\n",
            "total_vaccinations                       float64\n",
            "new_vaccinations                         float64\n",
            "new_vaccinations_smoothed                float64\n",
            "total_vaccinations_per_hundred           float64\n",
            "new_vaccinations_smoothed_per_million    float64\n",
            "stringency_index                         float64\n",
            "population                               float64\n",
            "population_density                       float64\n",
            "median_age                               float64\n",
            "aged_65_older                            float64\n",
            "aged_70_older                            float64\n",
            "gdp_per_capita                           float64\n",
            "extreme_poverty                          float64\n",
            "cardiovasc_death_rate                    float64\n",
            "diabetes_prevalence                      float64\n",
            "female_smokers                           float64\n",
            "male_smokers                             float64\n",
            "handwashing_facilities                   float64\n",
            "hospital_beds_per_thousand               float64\n",
            "life_expectancy                          float64\n",
            "human_development_index                  float64\n",
            "dtype: object\n",
            "\n",
            "\n",
            "       iso_code continent  ... life_expectancy human_development_index\n",
            "count     59794     59435  ...    59487.000000            57499.000000\n",
            "unique      191         6  ...             NaN                     NaN\n",
            "top         ARG    Africa  ...             NaN                     NaN\n",
            "freq        381     16464  ...             NaN                     NaN\n",
            "mean        NaN       NaN  ...       73.146624                0.715889\n",
            "std         NaN       NaN  ...        7.548446                0.153760\n",
            "min         NaN       NaN  ...       53.280000                0.354000\n",
            "25%         NaN       NaN  ...       67.440000                0.591000\n",
            "50%         NaN       NaN  ...       74.620000                0.750000\n",
            "75%         NaN       NaN  ...       78.570000                0.843000\n",
            "max         NaN       NaN  ...       86.750000                0.953000\n",
            "\n",
            "[11 rows x 55 columns]\n"
          ],
          "name": "stdout"
        }
      ]
    },
    {
      "cell_type": "markdown",
      "metadata": {
        "id": "hgc8izqzWQbb"
      },
      "source": [
        "### Task 2: \r\n",
        "1. On the dataframe generated above, please answer the following:\r\n",
        "    1. Data of how many countries is present? \r\n",
        "    2. How many continents? \r\n",
        "    3. How many rows belong to India? \r\n",
        "    4. what is the window of dates for which data is provided?\r\n"
      ]
    },
    {
      "cell_type": "code",
      "metadata": {
        "colab": {
          "base_uri": "https://localhost:8080/"
        },
        "id": "Bd3_Tyc0WSye",
        "outputId": "4ee49d66-b6dd-47ba-df52-e0f25918a776"
      },
      "source": [
        "###Your code here\r\n",
        "import numpy as np\r\n",
        "import pandas as pd\r\n",
        "dataset = pd.read_csv('/content/sample_data/owid-covid-data.csv')\r\n",
        "stats = dataset.describe(include='all')\r\n",
        "countries = len(dataset['iso_code'].unique())\r\n",
        "continents = len(dataset['continent'].dropna().unique())\r\n",
        "print(\"No. of countries : \",countries)\r\n",
        "print(\"No. of continents : \",continents)\r\n",
        "India = len(dataset.loc[dataset['iso_code'] == 'IND'])\r\n",
        "print(\"Row belongs to India : \",India)\r\n",
        "date1 = dataset.loc[dataset['iso_code'] == 'IND'].iloc[0:1,3:4].values\r\n",
        "date2 = dataset.loc[dataset['iso_code'] == 'IND'].iloc[-1:,3:4].values\r\n",
        "print(date1[0][0],\"to\",date2[0][0])"
      ],
      "execution_count": null,
      "outputs": [
        {
          "output_type": "stream",
          "text": [
            "No. of countries :  192\n",
            "No. of continents :  6\n",
            "Row belongs to India :  351\n",
            "2020-01-30 to 2021-01-14\n"
          ],
          "name": "stdout"
        }
      ]
    },
    {
      "cell_type": "markdown",
      "metadata": {
        "id": "BVMnVgNZWamt"
      },
      "source": [
        "### Task 3: \r\n",
        "1. On the dataframe generated above, please answer the following:\r\n",
        "    1. Extract Data of only India and make into a new dataframe. \r\n",
        "    2. Extract only the total cases column. \r\n",
        "    3. Convert total cases column into percentage. Percentage of total cases. \r\n",
        "    Total cases is the number of cases as on the last date of the dataset. \r\n",
        "    Use Numpy. DO NOT WRITE A LOOP! \r\n",
        "    4. Add this newly generated column to the India Dataframe.\r\n"
      ]
    },
    {
      "cell_type": "code",
      "metadata": {
        "id": "ATpn-0A7WdLm"
      },
      "source": [
        "###Your code here\r\n",
        "import numpy as np\r\n",
        "import pandas as pd\r\n",
        "dataset = pd.read_csv('/content/sample_data/owid-covid-data.csv')\r\n",
        "India = dataset.loc[dataset['iso_code'] == 'IND']\r\n",
        "print(India)\r\n",
        "totalcase = India['total_cases']\r\n",
        "print(totalcase)\r\n",
        "percent = totalcase.cumsum()*100/totalcase.sum()\r\n",
        "print(percent)\r\n",
        "India['percent_total case'] = percent\r\n",
        "print(India)"
      ],
      "execution_count": null,
      "outputs": []
    },
    {
      "cell_type": "markdown",
      "metadata": {
        "id": "1bFMxNFnWeye"
      },
      "source": [
        "### Task 4: \r\n",
        "1. On the dataframe generated above, please answer the following:\r\n",
        "    1. extract the total deaths and total cases as a numpy array. \r\n",
        "    2. transpose the array.\r\n",
        "    3. create new array which contains only total cases.\r\n",
        "    4. from the total cases row , extract only rows which are more than 10000."
      ]
    },
    {
      "cell_type": "code",
      "metadata": {
        "colab": {
          "base_uri": "https://localhost:8080/"
        },
        "id": "n6qCUY7LWgqI",
        "outputId": "44e37ab6-5daf-425f-c9b8-73e52bf6e68f"
      },
      "source": [
        "### Your Code Here\r\n",
        "arr = np.array([dataset['total_deaths'], dataset['total_cases']])\r\n",
        "print(arr)\r\n",
        "print(\"\\n\")\r\n",
        "arr=arr.transpose()\r\n",
        "print(arr)\r\n",
        "print(\"\\n\")\r\n",
        "arr2 = np.array(dataset['total_cases'])\r\n",
        "print(arr2)\r\n",
        "print(\"\\n\")\r\n",
        "filter_arr = []\r\n",
        "\r\n",
        "# go through each element in arr\r\n",
        "for element in arr2:\r\n",
        "  # if the element is completely divisble by 2, set the value to True, otherwise False\r\n",
        "  if element > 10000:\r\n",
        "    filter_arr.append(True)\r\n",
        "  else:\r\n",
        "    filter_arr.append(False)\r\n",
        "\r\n",
        "newarr = arr2[filter_arr]\r\n",
        "print(newarr)\r\n",
        "print(\"\\n\")"
      ],
      "execution_count": null,
      "outputs": [
        {
          "output_type": "stream",
          "text": [
            "[[       nan        nan        nan ... 5.5100e+02 5.8900e+02 6.3600e+02]\n",
            " [1.0000e+00 1.0000e+00 1.0000e+00 ... 2.3239e+04 2.4256e+04 2.5368e+04]]\n",
            "\n",
            "\n",
            "[[       nan 1.0000e+00]\n",
            " [       nan 1.0000e+00]\n",
            " [       nan 1.0000e+00]\n",
            " ...\n",
            " [5.5100e+02 2.3239e+04]\n",
            " [5.8900e+02 2.4256e+04]\n",
            " [6.3600e+02 2.5368e+04]]\n",
            "\n",
            "\n",
            "[1.0000e+00 1.0000e+00 1.0000e+00 ... 2.3239e+04 2.4256e+04 2.5368e+04]\n",
            "\n",
            "\n",
            "[10001. 10585. 11176. ... 23239. 24256. 25368.]\n",
            "\n",
            "\n"
          ],
          "name": "stdout"
        }
      ]
    },
    {
      "cell_type": "markdown",
      "metadata": {
        "id": "WJ6xush9Wi1a"
      },
      "source": [
        "### Task 5: \r\n",
        "1. On the dataframe generated above, please answer the following:\r\n",
        "    1. Extract data only for 18-08-2020. \r\n",
        "    2. which country has the max and min. \r\n",
        "    3. take the top 10 and bottom 10 of total cases and total deaths."
      ]
    },
    {
      "cell_type": "code",
      "metadata": {
        "colab": {
          "base_uri": "https://localhost:8080/"
        },
        "id": "pahL6pAcWkZr",
        "outputId": "85bdff4b-6444-483f-b560-91a6df2cbc0a"
      },
      "source": [
        "### Your Code here\r\n",
        "case1 = dataset.loc[dataset['date'] == '2020-08-18']\r\n",
        "case2 = case1.sort_values('total_cases')\r\n",
        "case3 = case2.iloc[0:1,2:3].values\r\n",
        "case4 = case2.iloc[-2:-1,2:3].values\r\n",
        "print(case3[0][0])\r\n",
        "print(case4[0][0])\r\n",
        "print(\"\\n\")\r\n",
        "case5 = case2.iloc[0:10,:].values\r\n",
        "case6 = case2.iloc[-10:-1,:].values\r\n",
        "print(case5)\r\n",
        "print(\"\\n\")\r\n",
        "print(case6)\r\n",
        "print(\"\\n\")"
      ],
      "execution_count": null,
      "outputs": [
        {
          "output_type": "stream",
          "text": [
            "Vatican\n",
            "United States\n",
            "\n",
            "\n",
            "[['VAT' 'Europe' 'Vatican' '2020-08-18' 12.0 0.0 0.0 nan nan 0.0\n",
            "  14833.127 0.0 0.0 nan nan 0.0 nan nan nan nan nan nan nan nan nan nan\n",
            "  nan nan nan nan nan nan nan nan nan nan nan nan nan nan 809.0 nan nan\n",
            "  nan nan nan nan nan nan nan nan nan nan 75.12 nan]\n",
            " ['KNA' 'North America' 'Saint Kitts and Nevis' '2020-08-18' 17.0 0.0 0.0\n",
            "  nan nan 0.0 319.597 0.0 0.0 nan nan 0.0 nan nan nan nan nan nan nan nan\n",
            "  nan nan nan nan nan nan nan nan nan nan nan nan nan nan nan nan 53192.0\n",
            "  212.865 nan nan nan 24654.385 nan nan 12.84 nan nan nan 2.3 76.23 0.778]\n",
            " ['DMA' 'North America' 'Dominica' '2020-08-18' 18.0 0.0 0.0 nan nan 0.0\n",
            "  250.03099999999998 0.0 0.0 nan nan 0.0 nan nan nan nan nan nan nan nan\n",
            "  nan nan nan nan nan nan nan nan nan nan nan nan nan nan nan 36.11\n",
            "  71991.0 98.56700000000001 nan nan nan 9673.367 nan 227.37599999999998\n",
            "  11.62 nan nan nan 3.8 75.0 0.715]\n",
            " ['LAO' 'Asia' 'Laos' '2020-08-18' 22.0 0.0 0.28600000000000003 nan nan\n",
            "  0.0 3.0239999999999996 0.0 0.039 nan nan 0.0 nan nan nan nan nan nan\n",
            "  nan nan nan nan nan nan nan nan nan nan nan nan nan nan nan nan nan\n",
            "  36.11 7275556.0 29.715 24.4 4.029 2.322 6397.36 22.7 368.111 4.0 7.3\n",
            "  51.2 49.839 1.5 67.92 0.601]\n",
            " ['GRD' 'North America' 'Grenada' '2020-08-18' 24.0 0.0 0.0 nan nan 0.0\n",
            "  213.297 0.0 0.0 nan nan 0.0 nan nan nan nan nan nan nan nan nan nan nan\n",
            "  nan nan nan nan nan nan nan nan nan nan nan nan nan 112519.0 317.132\n",
            "  29.4 7.303999999999999 5.021 13593.877 nan 243.96400000000003 10.71 nan\n",
            "  nan nan 3.7 72.4 0.772]\n",
            " ['TLS' 'Asia' 'Timor' '2020-08-18' 25.0 0.0 0.0 nan nan 0.0 18.962 0.0\n",
            "  0.0 nan nan 0.0 nan nan nan nan nan nan nan nan nan nan nan nan nan nan\n",
            "  nan nan nan nan nan nan nan nan nan 29.63 1318442.0 87.176 18.0 3.556\n",
            "  1.8969999999999998 6570.102 30.3 335.346 6.86 6.3 78.1 28.178 5.9 69.5\n",
            "  0.625]\n",
            " ['LCA' 'North America' 'Saint Lucia' '2020-08-18' 26.0 1.0\n",
            "  0.14300000000000002 nan nan 0.0 141.59 5.446000000000001 0.778 nan nan\n",
            "  0.0 nan nan nan nan nan nan nan nan nan nan nan nan nan nan nan nan nan\n",
            "  nan nan nan nan nan nan nan 183629.0 293.187 34.9 9.721 6.405 12951.839\n",
            "  nan 204.62 11.62 nan nan 87.20200000000001 1.3 76.2 0.747]\n",
            " ['FJI' 'Oceania' 'Fiji' '2020-08-18' 28.0 0.0 0.14300000000000002 1.0\n",
            "  0.0 0.0 31.235 0.0 0.159 1.1159999999999999 0.0 0.0 nan nan nan nan nan\n",
            "  nan nan nan nan 25.0 7663.0 8.548 0.027999999999999997 40.0 0.045 0.004\n",
            "  279.7 'tests performed' nan nan nan nan nan 54.63 896444.0 49.562 28.6\n",
            "  6.224 3.284 8702.975 1.4 412.82 14.49 10.2 34.8 nan 2.3 67.44 0.741]\n",
            " ['VCT' 'North America' 'Saint Vincent and the Grenadines' '2020-08-18'\n",
            "  58.0 0.0 0.14300000000000002 nan nan 0.0 522.7719999999999 0.0 1.288\n",
            "  nan nan 0.0 nan nan nan nan nan nan nan nan nan nan nan nan nan nan nan\n",
            "  nan nan nan nan nan nan nan nan nan 110947.0 281.78700000000003 31.8\n",
            "  7.724 4.832 10727.146 nan 252.675 11.62 nan nan nan 2.6 72.53 0.723]\n",
            " ['ATG' 'North America' 'Antigua and Barbuda' '2020-08-18' 93.0 0.0\n",
            "  0.14300000000000002 3.0 0.0 0.0 949.677 0.0 1.459 30.635 0.0 0.0 nan\n",
            "  nan nan nan nan nan nan nan nan nan nan nan nan nan nan nan nan nan nan\n",
            "  nan nan nan nan nan 97928.0 231.845 32.1 6.933 4.631 21490.943 nan\n",
            "  191.511 13.17 nan nan nan 3.8 77.02 0.78]]\n",
            "\n",
            "\n",
            "[['CHL' 'South America' 'Chile' '2020-08-18' 388855.0 1353.0\n",
            "  1748.4289999999999 10546.0 33.0 52.571000000000005 20341.638 70.778\n",
            "  91.463 551.678 1.726 2.75 0.95 nan nan nan nan nan nan nan nan 23199.0\n",
            "  2068079.0 108.185 1.214 25495.0 1.334 0.07 14.3 'tests performed' nan\n",
            "  nan nan nan nan 81.94 19116209.0 24.281999999999996 35.4 11.087 6.938\n",
            "  22767.037 1.3 127.993 8.46 34.2 41.5 nan 2.11 80.18 0.843]\n",
            " ['COL' 'South America' 'Colombia' '2020-08-18' 489122.0 12462.0\n",
            "  11238.428999999998 15619.0 247.0 306.286 9612.702 244.915\n",
            "  220.86900000000003 306.96 4.854 6.019 1.03 nan nan nan nan nan nan nan\n",
            "  nan 35768.0 2238559.0 43.994 0.703 37905.0 0.745 0.315 3.2\n",
            "  'tests performed' nan nan nan nan nan 87.04 50882884.0 44.223 32.2\n",
            "  7.646 4.312 13254.948999999999 4.5 124.24 7.44 4.7 13.5\n",
            "  65.38600000000001 1.71 77.29 0.747]\n",
            " ['MEX' 'North America' 'Mexico' '2020-08-18' 531239.0 5506.0 5531.0\n",
            "  57774.0 751.0 549.286 4120.28 42.70399999999999 42.898 448.094 5.825\n",
            "  4.26 0.97 nan nan nan nan nan nan nan nan 14992.0 1223608.0 9.49\n",
            "  0.11599999999999999 11930.0 0.09300000000000001 0.457 2.2\n",
            "  'people tested' nan nan nan nan nan 70.83 128932753.0 66.444 29.3 6.857\n",
            "  4.321000000000001 17336.468999999997 2.5 152.783 13.06 6.9 21.4\n",
            "  87.84700000000001 1.38 75.05 0.774]\n",
            " ['PER' 'South America' 'Peru' '2020-08-18' 541493.0 5547.0 7401.857\n",
            "  26481.0 200.0 711.429 16422.89 168.234 224.49 803.14 6.066\n",
            "  21.576999999999998 1.08 nan nan nan nan nan nan nan nan 8152.0 574616.0\n",
            "  17.427 0.247 6734.0 0.204 0.237 4.2 'tests performed' nan nan nan nan\n",
            "  nan 85.19 32971846.0 25.129 29.1 7.151 4.455 12236.706 3.5 85.755 5.95\n",
            "  4.8 nan nan 1.6 76.74 0.75]\n",
            " ['ZAF' 'Africa' 'South Africa' '2020-08-18' 592144.0 2258.0\n",
            "  3719.2859999999996 12264.0 282.0 216.143 9984.101999999999\n",
            "  38.071999999999996 62.711000000000006 206.783 4.755 3.6439999999999997\n",
            "  0.65 nan nan nan nan nan nan nan nan 14677.0 3430347.0 57.839 0.247\n",
            "  21624.0 0.365 0.172 5.8 'people tested' nan nan nan nan nan 77.78\n",
            "  59308690.0 46.754 27.3 5.343999999999999 3.053 12294.876 18.9 200.38\n",
            "  5.52 8.1 33.2 43.993 2.32 64.13 0.6990000000000001]\n",
            " ['RUS' 'Europe' 'Russia' '2020-08-18' 930276.0 4718.0 4940.714 15836.0\n",
            "  129.0 104.714 6374.615 32.33 33.856 108.514 0.884 0.718 0.95 nan nan\n",
            "  nan nan nan nan nan nan 248709.0 33217468.0 227.61900000000003 1.704\n",
            "  272815.0 1.869 0.018000000000000002 55.2 'tests performed' nan nan nan\n",
            "  nan nan 68.06 145934460.0 8.823 39.6 14.177999999999999\n",
            "  9.392999999999999 24765.953999999998 0.1 431.29699999999997 6.18 23.4\n",
            "  58.3 nan 8.05 72.58 0.816]\n",
            " ['IND' 'Asia' 'India' '2020-08-18' 2767253.0 64572.0 62516.429000000004\n",
            "  52888.0 1091.0 971.0 2005.249 46.791000000000004 45.302 38.325\n",
            "  0.7909999999999999 0.7040000000000001 1.09 nan nan nan nan nan nan nan\n",
            "  nan 899864.0 30941264.0 22.421 0.652 808488.0 0.586 0.077 12.9\n",
            "  'samples tested' nan nan nan nan nan 79.63 1380004385.0\n",
            "  450.41900000000004 28.2 5.989 3.4139999999999997 6426.674 21.2 282.28\n",
            "  10.39 1.9 20.6 59.55 0.53 69.66 0.64]\n",
            " ['BRA' 'South America' 'Brazil' '2020-08-18' 3407354.0 47784.0 42532.0\n",
            "  109888.0 1352.0 980.2860000000001 16030.125 224.803 200.095 516.975\n",
            "  6.361000000000001 4.612 0.98 nan nan nan nan nan nan nan nan nan nan\n",
            "  nan nan 67453.0 0.317 nan nan 'tests performed' nan nan nan nan nan\n",
            "  69.91 212559409.0 25.04 33.5 8.552 5.06 14103.452 3.4\n",
            "  177.96099999999998 8.11 10.1 17.9 nan 2.2 75.88 0.759]\n",
            " ['USA' 'North America' 'United States' '2020-08-18' 5477609.0 45065.0\n",
            "  48985.71400000001 172242.0 1302.0 1038.5710000000001 16548.535\n",
            "  136.14700000000002 147.99200000000002 520.364 3.9339999999999997 3.138\n",
            "  0.89 8859.0 26.764 43840.0 132.446 nan nan nan nan 879134.0 79257624.0\n",
            "  239.447 2.656 819171.0 2.475 nan nan 'tests performed' nan nan nan nan\n",
            "  nan 67.13 331002647.0 35.608000000000004 38.3 15.413 9.732000000000001\n",
            "  54225.445999999996 1.2 151.089 10.79 19.1 24.6 nan 2.77 78.86 0.924]]\n",
            "\n",
            "\n"
          ],
          "name": "stdout"
        }
      ]
    },
    {
      "cell_type": "markdown",
      "metadata": {
        "id": "dhiKbKdXWlbZ"
      },
      "source": [
        "\r\n",
        "### Task 6: \r\n",
        "1. On the dataframe generated above, please answer the following:\r\n",
        "    1. Use group by and\r\n",
        "\r\n",
        "    a. print number of countries in each group \r\n",
        "    \r\n",
        "    b. get the total cases and\r\n",
        "deaths count for each continent as on 18-08-2020.\r\n",
        "    2. use apply() and a. calculate the mortality rate for each row. and add that mortality data as\r\n",
        "a new column to the dataframe\r\n",
        "    \r\n",
        "    3. do the same without apply"
      ]
    },
    {
      "cell_type": "code",
      "metadata": {
        "colab": {
          "base_uri": "https://localhost:8080/"
        },
        "id": "IcfPAHEUWm1a",
        "outputId": "e15e7c5e-406e-41e0-dd08-9855e9c81572"
      },
      "source": [
        "### Your Code here\r\n",
        "temp1 = dataset.loc[dataset['date'] == '2020-08-18']\r\n",
        "temp = temp1.groupby(['continent']).count()\r\n",
        "temp2 = temp.iloc[:,0:1].values\r\n",
        "print(temp2)\r\n",
        "print('\\n')\r\n",
        "print(\"Total Cases:-\")\r\n",
        "Africa = dataset.loc[dataset['continent'] == 'Africa']['total_cases'].sum()\r\n",
        "print(\"Africa: \",Africa)\r\n",
        "Asia = dataset.loc[dataset['continent'] == 'Asia']['total_cases'].sum()\r\n",
        "print(\"Asia: \",Asia)\r\n",
        "Europe = dataset.loc[dataset['continent'] == 'Europe']['total_cases'].sum()\r\n",
        "print(\"Europe: \",Europe)\r\n",
        "North_America = dataset.loc[dataset['continent'] == 'North America']['total_cases'].sum()\r\n",
        "print(\"North_America: \",North_America)\r\n",
        "South_America = dataset.loc[dataset['continent'] == 'South_America']['total_cases'].sum()\r\n",
        "print(\"South_America: \",South_America)\r\n",
        "Oceania = dataset.loc[dataset['continent'] == 'Oceania']['total_cases'].sum()\r\n",
        "print(\"Oceania: \",Oceania)\r\n",
        "print('\\n')\r\n",
        "print(\"Total Deaths:-\")\r\n",
        "Africa1 = dataset.loc[dataset['continent'] == 'Africa']['total_deaths'].sum()\r\n",
        "print(\"Africa: \",Africa1)\r\n",
        "Asia1 = dataset.loc[dataset['continent'] == 'Asia']['total_deaths'].sum()\r\n",
        "print(\"Asia: \",Asia1)\r\n",
        "Europe1 = dataset.loc[dataset['continent'] == 'Europe']['total_deaths'].sum()\r\n",
        "print(\"Europe: \",Europe1)\r\n",
        "North_America1 = dataset.loc[dataset['continent'] == 'North America']['total_deaths'].sum()\r\n",
        "print(\"North_America: \",North_America1)\r\n",
        "South_America1 = dataset.loc[dataset['continent'] == 'South_America']['total_deaths'].sum()\r\n",
        "print(\"South_America: \",South_America1)\r\n",
        "Oceania1 = dataset.loc[dataset['continent'] == 'Oceania']['total_deaths'].sum()\r\n",
        "print(\"Oceania: \",Oceania1)\r\n",
        "\r\n",
        "total_deaths = temp1['total_deaths']\r\n",
        "population = temp1['population']\r\n",
        "mortality_rate = total_deaths*100/population\r\n",
        "print(mortality_rate)\r\n",
        "temp1['mortality_rate'] = mortality_rate\r\n",
        "print(temp1)"
      ],
      "execution_count": null,
      "outputs": [
        {
          "output_type": "stream",
          "text": [
            "[[54]\n",
            " [46]\n",
            " [46]\n",
            " [23]\n",
            " [ 4]\n",
            " [12]]\n",
            "\n",
            "\n",
            "Total Cases:-\n",
            "Africa:  334824358.0\n",
            "Asia:  2365829752.0\n",
            "Europe:  2096917275.0\n",
            "North_America:  2372819211.0\n",
            "South_America:  0.0\n",
            "Oceania:  6099419.0\n",
            "\n",
            "\n",
            "Total Deaths:-\n",
            "Africa:  7995472.0\n",
            "Asia:  43350826.0\n",
            "Europe:  72184171.0\n",
            "North_America:  73961123.0\n",
            "South_America:  0.0\n",
            "Oceania:  153400.0\n",
            "176      0.003550\n",
            "488      0.008062\n",
            "813      0.003172\n",
            "1132     0.068595\n",
            "1433     0.000274\n",
            "           ...   \n",
            "58744    0.000027\n",
            "59103    0.010028\n",
            "59383    0.001800\n",
            "59686    0.001436\n",
            "59987    0.000949\n",
            "Length: 187, dtype: float64\n",
            "       iso_code continent  ... human_development_index mortality_rate\n",
            "176         AFG      Asia  ...                   0.498       0.003550\n",
            "488         ALB    Europe  ...                   0.785       0.008062\n",
            "813         DZA    Africa  ...                   0.754       0.003172\n",
            "1132        AND    Europe  ...                   0.858       0.068595\n",
            "1433        AGO    Africa  ...                   0.581       0.000274\n",
            "...         ...       ...  ...                     ...            ...\n",
            "58744       VNM      Asia  ...                   0.694       0.000027\n",
            "59103  OWID_WRL       NaN  ...                     NaN       0.010028\n",
            "59383       YEM      Asia  ...                   0.452       0.001800\n",
            "59686       ZMB    Africa  ...                   0.588       0.001436\n",
            "59987       ZWE    Africa  ...                   0.535       0.000949\n",
            "\n",
            "[187 rows x 56 columns]\n"
          ],
          "name": "stdout"
        },
        {
          "output_type": "stream",
          "text": [
            "/usr/local/lib/python3.6/dist-packages/ipykernel_launcher.py:39: SettingWithCopyWarning: \n",
            "A value is trying to be set on a copy of a slice from a DataFrame.\n",
            "Try using .loc[row_indexer,col_indexer] = value instead\n",
            "\n",
            "See the caveats in the documentation: https://pandas.pydata.org/pandas-docs/stable/user_guide/indexing.html#returning-a-view-versus-a-copy\n"
          ],
          "name": "stderr"
        }
      ]
    },
    {
      "cell_type": "markdown",
      "metadata": {
        "id": "-y6WoR3OWoZo"
      },
      "source": [
        "### Task 7:\r\n",
        "1. On the India’s dataframe, plot the total number of cases, date wise\r\n",
        "2. Save the India Dataframa as CSV.\r\n"
      ]
    },
    {
      "cell_type": "code",
      "metadata": {
        "colab": {
          "base_uri": "https://localhost:8080/",
          "height": 333
        },
        "id": "XsL2vx4WWpvT",
        "outputId": "4394cc27-cf5a-492a-c4c7-ecc6d007eba5"
      },
      "source": [
        "### Your Code Here.\r\n",
        "India = dataset.loc[dataset['iso_code'] == 'IND']\r\n",
        "import matplotlib.pyplot as plt\r\n",
        "df = pd.DataFrame(India,columns=['date','total_cases'])\r\n",
        "df.plot(x ='date', y='total_cases', kind = 'scatter')\r\n",
        "plt.show()\r\n",
        "India.to_csv('file1.csv')"
      ],
      "execution_count": null,
      "outputs": [
        {
          "output_type": "stream",
          "text": [
            "*c* argument looks like a single numeric RGB or RGBA sequence, which should be avoided as value-mapping will have precedence in case its length matches with *x* & *y*.  Please use the *color* keyword-argument or provide a 2-D array with a single row if you intend to specify the same RGB or RGBA value for all points.\n"
          ],
          "name": "stderr"
        },
        {
          "output_type": "display_data",
          "data": {
            "image/png": "[encoded data removed]",
            "text/plain": [
              "<Figure size 432x288 with 1 Axes>"
            ]
          },
          "metadata": {
            "tags": []
          }
        }
      ]
    },
    {
      "cell_type": "markdown",
      "metadata": {
        "id": "U8QVSzj4W8QY"
      },
      "source": [
        "4.0.1\r\n",
        "###Task 8:\r\n",
        "1. Any intresting finding/Oberservation from the dataset"
      ]
    },
    {
      "cell_type": "code",
      "metadata": {
        "id": "8S5fNeF0W_Oy"
      },
      "source": [
        "Total number of cases increases at rapid rate initially \n",
        "but now it is saturating. Basically, it represents the \n",
        "normal curve which increases rapildly initially and becomes \n",
        "saturated, finally decreases (This is bell shaped curved)"
      ],
      "execution_count": null,
      "outputs": []
    }
  ]
}