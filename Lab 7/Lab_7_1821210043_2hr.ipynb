{
  "nbformat": 4,
  "nbformat_minor": 0,
  "metadata": {
    "colab": {
      "name": "Lab_7_1821210043_2hr.ipynb",
      "provenance": []
    },
    "kernelspec": {
      "name": "python3",
      "display_name": "Python 3"
    }
  },
  "cells": [
    {
      "cell_type": "code",
      "metadata": {
        "colab": {
          "base_uri": "https://localhost:8080/",
          "height": 0
        },
        "id": "ygCZSawG-j0J",
        "outputId": "2c71e4eb-7751-4333-f576-216a9040ec94"
      },
      "source": [
        "try:\r\n",
        "    from google.colab import drive\r\n",
        "    %tensorflow_version 2.x\r\n",
        "    COLAB = True\r\n",
        "    print(\"Assignment 7\")\r\n",
        "    print(\"Note: using Google CoLab\")\r\n",
        "except:\r\n",
        "    print(\"Assignment 7\")\r\n",
        "    print(\"Note: not using Google CoLab\")\r\n",
        "    COLAB = False\r\n",
        " \r\n",
        "print(\"Rohit Byas\", \"\\nRoll Number: 181210043\")\r\n",
        " "
      ],
      "execution_count": 4,
      "outputs": [
        {
          "output_type": "stream",
          "text": [
            "Assignment 7\n",
            "Note: using Google CoLab\n",
            "Rohit Byas \n",
            "Roll Number: 181210043\n"
          ],
          "name": "stdout"
        }
      ]
    },
    {
      "cell_type": "code",
      "metadata": {
        "colab": {
          "base_uri": "https://localhost:8080/",
          "height": 0
        },
        "id": "DGjD4eJVPZD8",
        "outputId": "4d167e08-4a2c-4123-a232-03579c92be17"
      },
      "source": [
        "!pip install efficient-apriori\r\n",
        "!pip install pyfpgrowth"
      ],
      "execution_count": 5,
      "outputs": [
        {
          "output_type": "stream",
          "text": [
            "Requirement already satisfied: efficient-apriori in /usr/local/lib/python3.6/dist-packages (1.1.1)\n",
            "Requirement already satisfied: pyfpgrowth in /usr/local/lib/python3.6/dist-packages (1.0)\n"
          ],
          "name": "stdout"
        }
      ]
    },
    {
      "cell_type": "code",
      "metadata": {
        "id": "0uk6VFvxvU_i"
      },
      "source": [
        "from efficient_apriori import apriori\r\n",
        "import pyfpgrowth\r\n",
        "import pandas as pd\r\n",
        "from mlxtend.preprocessing import TransactionEncoder"
      ],
      "execution_count": 6,
      "outputs": []
    },
    {
      "cell_type": "markdown",
      "metadata": {
        "id": "K8xDWe_8fc2S"
      },
      "source": [
        "###Question 1:\r\n",
        "The Apriori Algorithm was Proposed by Agrawal et al in 1993. It is an important data mining model studied extensively by the database and data mining community. Assume all data are categorical. \r\n",
        "Consider the following transactions, records from a supermarket, First solve this by hand :\r\n",
        "\r\n",
        "Transaction ID - Item Purchased\r\n",
        "- 1 - Cheese, Juice, Milk\r\n",
        "- 2 - Bread, Juice, Milk\r\n",
        "- 3 - Bread, Cheese, Egg, Juice\r\n",
        "- 4 - Bread, Milk, Yogurt\r\n",
        "- 5 - Bread, Cheese, Juice\r\n",
        "\r\n",
        "1. Write a python program to implement Apriori Algorithm for the above transactions.\r\n",
        "Consider the support=50 % and confidence=60 %.\r\n",
        "    \r\n",
        "    (a) using python module\r\n",
        "\r\n",
        "    (b) without using module\r\n",
        "2. Write a python program to implement FP Growth algorithm.\r\n",
        "    \r\n",
        "    (a) using python module\r\n",
        "    \r\n",
        "    (b) without using module\r\n"
      ]
    },
    {
      "cell_type": "code",
      "metadata": {
        "colab": {
          "base_uri": "https://localhost:8080/",
          "height": 0
        },
        "id": "1ld4KljAvRYT",
        "outputId": "1a3d6297-7d96-4f6f-806e-c353ab88e0a8"
      },
      "source": [
        "#Applying Apriori Algo\r\n",
        "dataset = [['Milk', 'Cheese', 'Juice'],\r\n",
        "           ['Bread', 'Juice', 'Milk'],\r\n",
        "           ['Bread', 'Cheese', 'Egg', 'Juice'],\r\n",
        "           ['Bread', 'Milk', 'Yogurt'],\r\n",
        "           ['Bread', 'Cheese', 'Juice']]\r\n",
        "\r\n",
        "itemsets1, rules1 = apriori(dataset, min_support=0.5, min_confidence=0.6)\r\n",
        "for j in rules1:\r\n",
        "  print(j)"
      ],
      "execution_count": 7,
      "outputs": [
        {
          "output_type": "stream",
          "text": [
            "{Juice} -> {Cheese} (conf: 0.750, supp: 0.600, lift: 1.250, conv: 1.600)\n",
            "{Cheese} -> {Juice} (conf: 1.000, supp: 0.600, lift: 1.250, conv: 200000000.000)\n",
            "{Juice} -> {Bread} (conf: 0.750, supp: 0.600, lift: 0.938, conv: 0.800)\n",
            "{Bread} -> {Juice} (conf: 0.750, supp: 0.600, lift: 0.938, conv: 0.800)\n"
          ],
          "name": "stdout"
        }
      ]
    },
    {
      "cell_type": "code",
      "metadata": {
        "colab": {
          "base_uri": "https://localhost:8080/",
          "height": 0
        },
        "id": "SvKY1Hw-JGFi",
        "outputId": "39342d3d-b109-4043-d186-734693a105c9"
      },
      "source": [
        "#Applying frquent pattern algo\r\n",
        "patterns = pyfpgrowth.find_frequent_patterns(dataset, 2)\r\n",
        "fp1 = pyfpgrowth.generate_association_rules(patterns, 0.6)\r\n",
        "\r\n",
        "print(fp1)"
      ],
      "execution_count": 8,
      "outputs": [
        {
          "output_type": "stream",
          "text": [
            "{('Cheese',): (('Bread', 'Juice'), 0.6666666666666666), ('Juice',): (('Bread',), 0.75), ('Bread', 'Cheese'): (('Juice',), 1.0), ('Bread', 'Juice'): (('Cheese',), 0.6666666666666666), ('Cheese', 'Juice'): (('Bread',), 0.6666666666666666), ('Bread',): (('Juice',), 0.75)}\n"
          ],
          "name": "stdout"
        }
      ]
    },
    {
      "cell_type": "markdown",
      "metadata": {
        "id": "JKA-zkDMgiQy"
      },
      "source": [
        "###Question 2: \r\n",
        "Compare Apriori and FP Growth Algorithm on the following input. Mention and discuss your observation.\r\n",
        "- transactions = \r\n",
        "               [['MILK', 'BREAD', \"BISCUIT\"],\r\n",
        "                ['BREAD', 'MILK', 'BISCUIT', \"CORNFLAKES\"],\r\n",
        "                ['BREAD', 'TEA', 'BOURNVITA'],\r\n",
        "                ['JAM', 'MAGGI', 'BREAD', 'MILK'],\r\n",
        "                ['MAGGI', 'TEA', 'BISCUIT'],\r\n",
        "                ['BREAD', 'TEA', 'BOURNVITA'],\r\n",
        "                ['MAGGI', 'TEA', 'CORNFLAKES'],\r\n",
        "                ['MAGGI', 'BREAD', 'TEA', 'BISCUIT'],\r\n",
        "                ['JAM', 'MAGGI', 'BREAD', 'TEA'],\r\n",
        "                ['BREAD', 'MILK'],\r\n",
        "                ['COFFEE', 'COCK', 'BISCUIT', 'CORNFLAKES'],\r\n",
        "                ['COFFEE', 'COCK', 'BISCUIT', 'CORNFLAKES'],\r\n",
        "                ['COFFEE', 'SUGAR', 'BOURNVITA'],\r\n",
        "                ['BREAD', 'COFFEE', 'COCK'],\r\n",
        "                ['BREAD', 'SUGER', 'BISCUIT'],\r\n",
        "                ['COFFEE', 'SUGER', 'CORNFLAKES'],\r\n",
        "                ['BREAD', 'SUGER', 'BOURNVITA'],\r\n",
        "                ['BREAD', 'COFFEE', 'SUGER'],\r\n",
        "                ['BREAD', 'COFFEE', 'SUGER'],\r\n",
        "                ['TEA', 'MILK', 'COFFEE', 'CORNFLAKES']]\r\n"
      ]
    },
    {
      "cell_type": "code",
      "metadata": {
        "id": "R9ymYmX8-ndC",
        "colab": {
          "base_uri": "https://localhost:8080/",
          "height": 0
        },
        "outputId": "fc299ef1-d1dd-4d89-de58-50e84860b42a"
      },
      "source": [
        "transactions = [['MILK', 'BREAD', \"BISCUIT\"],\r\n",
        "                ['BREAD', 'MILK', 'BISCUIT', \"CORNFLAKES\"],\r\n",
        "                ['BREAD', 'TEA', 'BOURNVITA'],\r\n",
        "                ['JAM', 'MAGGI', 'BREAD', 'MILK'],\r\n",
        "                ['MAGGI', 'TEA', 'BISCUIT'],\r\n",
        "                ['BREAD', 'TEA', 'BOURNVITA'],\r\n",
        "                ['MAGGI', 'TEA', 'CORNFLAKES'],\r\n",
        "                ['MAGGI', 'BREAD', 'TEA', 'BISCUIT'],\r\n",
        "                ['JAM', 'MAGGI', 'BREAD', 'TEA'],\r\n",
        "                ['BREAD', 'MILK'],\r\n",
        "                ['COFFEE', 'COCK', 'BISCUIT', 'CORNFLAKES'],\r\n",
        "                ['COFFEE', 'COCK', 'BISCUIT', 'CORNFLAKES'],\r\n",
        "                ['COFFEE', 'SUGAR', 'BOURNVITA'],\r\n",
        "                ['BREAD', 'COFFEE', 'COCK'],\r\n",
        "                ['BREAD', 'SUGER', 'BISCUIT'],\r\n",
        "                ['COFFEE', 'SUGER', 'CORNFLAKES'],\r\n",
        "                ['BREAD', 'SUGER', 'BOURNVITA'],\r\n",
        "                ['BREAD', 'COFFEE', 'SUGER'],\r\n",
        "                ['BREAD', 'COFFEE', 'SUGER'],\r\n",
        "                ['TEA', 'MILK', 'COFFEE', 'CORNFLAKES']]\r\n",
        "\r\n",
        "itemsets2, rules2 = apriori(transactions, min_support=0.2, min_confidence=0.6)\r\n",
        "\r\n",
        "for i in rules2:\r\n",
        "  print(i)"
      ],
      "execution_count": 9,
      "outputs": [
        {
          "output_type": "stream",
          "text": [
            "{MILK} -> {BREAD} (conf: 0.800, supp: 0.200, lift: 1.231, conv: 1.750)\n",
            "{MAGGI} -> {TEA} (conf: 0.800, supp: 0.200, lift: 2.286, conv: 3.250)\n",
            "{CORNFLAKES} -> {COFFEE} (conf: 0.667, supp: 0.200, lift: 1.667, conv: 1.800)\n",
            "{SUGER} -> {BREAD} (conf: 0.800, supp: 0.200, lift: 1.231, conv: 1.750)\n"
          ],
          "name": "stdout"
        }
      ]
    },
    {
      "cell_type": "code",
      "metadata": {
        "colab": {
          "base_uri": "https://localhost:8080/",
          "height": 0
        },
        "id": "kiS3UtVzA11G",
        "outputId": "d8fe9136-4774-4129-a9fa-90de3f995f85"
      },
      "source": [
        "patterns1 = pyfpgrowth.find_frequent_patterns(transactions, 2)\r\n",
        "fp2 = pyfpgrowth.generate_association_rules(patterns1, 0.5)\r\n",
        "print(fp2)"
      ],
      "execution_count": 10,
      "outputs": [
        {
          "output_type": "stream",
          "text": [
            "{('JAM',): (('BREAD', 'MAGGI'), 1.0), ('BREAD', 'JAM'): (('MAGGI',), 1.0), ('BREAD', 'MAGGI'): (('TEA',), 0.6666666666666666), ('JAM', 'MAGGI'): (('BREAD',), 1.0), ('COCK',): (('BISCUIT', 'COFFEE', 'CORNFLAKES'), 0.6666666666666666), ('BISCUIT', 'COCK'): (('COFFEE', 'CORNFLAKES'), 1.0), ('BISCUIT', 'CORNFLAKES'): (('COFFEE',), 0.6666666666666666), ('COCK', 'CORNFLAKES'): (('BISCUIT', 'COFFEE'), 1.0), ('COCK', 'COFFEE'): (('BISCUIT', 'CORNFLAKES'), 0.6666666666666666), ('COFFEE', 'CORNFLAKES'): (('BISCUIT',), 0.5), ('BISCUIT', 'COFFEE'): (('CORNFLAKES',), 1.0), ('BISCUIT', 'COCK', 'COFFEE'): (('CORNFLAKES',), 1.0), ('BISCUIT', 'COCK', 'CORNFLAKES'): (('COFFEE',), 1.0), ('BISCUIT', 'COFFEE', 'CORNFLAKES'): (('COCK',), 1.0), ('COCK', 'COFFEE', 'CORNFLAKES'): (('BISCUIT',), 1.0), ('BOURNVITA',): (('BREAD', 'TEA'), 0.5), ('BOURNVITA', 'BREAD'): (('TEA',), 0.6666666666666666), ('BOURNVITA', 'TEA'): (('BREAD',), 1.0), ('BREAD', 'TEA'): (('MAGGI',), 0.5), ('BISCUIT', 'BREAD'): (('MILK',), 0.5), ('BISCUIT', 'MILK'): (('BREAD',), 1.0), ('BREAD', 'MILK'): (('BISCUIT',), 0.5), ('BISCUIT', 'MAGGI'): (('TEA',), 1.0), ('BISCUIT', 'TEA'): (('MAGGI',), 1.0), ('MAGGI', 'TEA'): (('BREAD',), 0.5), ('TEA',): (('BREAD',), 0.5714285714285714), ('BREAD', 'COFFEE'): (('SUGER',), 0.6666666666666666), ('BREAD', 'SUGER'): (('COFFEE',), 0.5), ('COFFEE', 'SUGER'): (('BREAD',), 0.6666666666666666), ('COFFEE',): (('CORNFLAKES',), 0.5)}\n"
          ],
          "name": "stdout"
        }
      ]
    }
  ]
}